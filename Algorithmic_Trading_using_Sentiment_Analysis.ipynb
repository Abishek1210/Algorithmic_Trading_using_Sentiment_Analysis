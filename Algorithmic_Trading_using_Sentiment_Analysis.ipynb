{
  "nbformat": 4,
  "nbformat_minor": 0,
  "metadata": {
    "accelerator": "GPU",
    "colab": {
      "name": "Algorithmic_Trading_using_Sentiment_Analysis.ipynb",
      "provenance": [],
      "collapsed_sections": [
        "bvip-rvvkOER",
        "GmGD6X_Esws0",
        "v6ohsQYZIMwt",
        "8aZxbRsQ6fLQ",
        "6sqkUG3ckgOt",
        "7h8vGUlJBg9z",
        "JBQ3J0OCmKIp"
      ]
    },
    "kernelspec": {
      "display_name": "Python 3",
      "language": "python",
      "name": "python3"
    },
    "language_info": {
      "codemirror_mode": {
        "name": "ipython",
        "version": 3
      },
      "file_extension": ".py",
      "mimetype": "text/x-python",
      "name": "python",
      "nbconvert_exporter": "python",
      "pygments_lexer": "ipython3",
      "version": "3.8.8"
    },
    "widgets": {
      "application/vnd.jupyter.widget-state+json": {
        "c75530c80ef341ab83674191990a6e92": {
          "model_module": "@jupyter-widgets/controls",
          "model_name": "HBoxModel",
          "model_module_version": "1.5.0",
          "state": {
            "_view_name": "HBoxView",
            "_dom_classes": [],
            "_model_name": "HBoxModel",
            "_view_module": "@jupyter-widgets/controls",
            "_model_module_version": "1.5.0",
            "_view_count": null,
            "_view_module_version": "1.5.0",
            "box_style": "",
            "layout": "IPY_MODEL_884b246649284743a41371b369534e59",
            "_model_module": "@jupyter-widgets/controls",
            "children": [
              "IPY_MODEL_19a2c572966b465eb1b190929b375690",
              "IPY_MODEL_4cd4102b9f324c818f5d0192027ff34c",
              "IPY_MODEL_ad84a66ff33f4e018ff3baf59b74430e"
            ]
          }
        },
        "884b246649284743a41371b369534e59": {
          "model_module": "@jupyter-widgets/base",
          "model_name": "LayoutModel",
          "model_module_version": "1.2.0",
          "state": {
            "_view_name": "LayoutView",
            "grid_template_rows": null,
            "right": null,
            "justify_content": null,
            "_view_module": "@jupyter-widgets/base",
            "overflow": null,
            "_model_module_version": "1.2.0",
            "_view_count": null,
            "flex_flow": null,
            "width": null,
            "min_width": null,
            "border": null,
            "align_items": null,
            "bottom": null,
            "_model_module": "@jupyter-widgets/base",
            "top": null,
            "grid_column": null,
            "overflow_y": null,
            "overflow_x": null,
            "grid_auto_flow": null,
            "grid_area": null,
            "grid_template_columns": null,
            "flex": null,
            "_model_name": "LayoutModel",
            "justify_items": null,
            "grid_row": null,
            "max_height": null,
            "align_content": null,
            "visibility": null,
            "align_self": null,
            "height": null,
            "min_height": null,
            "padding": null,
            "grid_auto_rows": null,
            "grid_gap": null,
            "max_width": null,
            "order": null,
            "_view_module_version": "1.2.0",
            "grid_template_areas": null,
            "object_position": null,
            "object_fit": null,
            "grid_auto_columns": null,
            "margin": null,
            "display": null,
            "left": null
          }
        },
        "19a2c572966b465eb1b190929b375690": {
          "model_module": "@jupyter-widgets/controls",
          "model_name": "HTMLModel",
          "model_module_version": "1.5.0",
          "state": {
            "_view_name": "HTMLView",
            "style": "IPY_MODEL_4d038c74312843a58bfc745a3cbec1bd",
            "_dom_classes": [],
            "description": "",
            "_model_name": "HTMLModel",
            "placeholder": "​",
            "_view_module": "@jupyter-widgets/controls",
            "_model_module_version": "1.5.0",
            "value": "Downloading: 100%",
            "_view_count": null,
            "_view_module_version": "1.5.0",
            "description_tooltip": null,
            "_model_module": "@jupyter-widgets/controls",
            "layout": "IPY_MODEL_39a9206af7ce4feb82c7441ffce4c880"
          }
        },
        "4cd4102b9f324c818f5d0192027ff34c": {
          "model_module": "@jupyter-widgets/controls",
          "model_name": "FloatProgressModel",
          "model_module_version": "1.5.0",
          "state": {
            "_view_name": "ProgressView",
            "style": "IPY_MODEL_c43001054bf3494cb5464f829abf7603",
            "_dom_classes": [],
            "description": "",
            "_model_name": "FloatProgressModel",
            "bar_style": "success",
            "max": 1802,
            "_view_module": "@jupyter-widgets/controls",
            "_model_module_version": "1.5.0",
            "value": 1802,
            "_view_count": null,
            "_view_module_version": "1.5.0",
            "orientation": "horizontal",
            "min": 0,
            "description_tooltip": null,
            "_model_module": "@jupyter-widgets/controls",
            "layout": "IPY_MODEL_87b25a8eff4047d1868336fa265842a8"
          }
        },
        "ad84a66ff33f4e018ff3baf59b74430e": {
          "model_module": "@jupyter-widgets/controls",
          "model_name": "HTMLModel",
          "model_module_version": "1.5.0",
          "state": {
            "_view_name": "HTMLView",
            "style": "IPY_MODEL_2ec016617d5d46ac89f123f441a651f0",
            "_dom_classes": [],
            "description": "",
            "_model_name": "HTMLModel",
            "placeholder": "​",
            "_view_module": "@jupyter-widgets/controls",
            "_model_module_version": "1.5.0",
            "value": " 1.80k/1.80k [00:00&lt;00:00, 42.2kB/s]",
            "_view_count": null,
            "_view_module_version": "1.5.0",
            "description_tooltip": null,
            "_model_module": "@jupyter-widgets/controls",
            "layout": "IPY_MODEL_8f85e3295c4a40648101f9ee4ff46d85"
          }
        },
        "4d038c74312843a58bfc745a3cbec1bd": {
          "model_module": "@jupyter-widgets/controls",
          "model_name": "DescriptionStyleModel",
          "model_module_version": "1.5.0",
          "state": {
            "_view_name": "StyleView",
            "_model_name": "DescriptionStyleModel",
            "description_width": "",
            "_view_module": "@jupyter-widgets/base",
            "_model_module_version": "1.5.0",
            "_view_count": null,
            "_view_module_version": "1.2.0",
            "_model_module": "@jupyter-widgets/controls"
          }
        },
        "39a9206af7ce4feb82c7441ffce4c880": {
          "model_module": "@jupyter-widgets/base",
          "model_name": "LayoutModel",
          "model_module_version": "1.2.0",
          "state": {
            "_view_name": "LayoutView",
            "grid_template_rows": null,
            "right": null,
            "justify_content": null,
            "_view_module": "@jupyter-widgets/base",
            "overflow": null,
            "_model_module_version": "1.2.0",
            "_view_count": null,
            "flex_flow": null,
            "width": null,
            "min_width": null,
            "border": null,
            "align_items": null,
            "bottom": null,
            "_model_module": "@jupyter-widgets/base",
            "top": null,
            "grid_column": null,
            "overflow_y": null,
            "overflow_x": null,
            "grid_auto_flow": null,
            "grid_area": null,
            "grid_template_columns": null,
            "flex": null,
            "_model_name": "LayoutModel",
            "justify_items": null,
            "grid_row": null,
            "max_height": null,
            "align_content": null,
            "visibility": null,
            "align_self": null,
            "height": null,
            "min_height": null,
            "padding": null,
            "grid_auto_rows": null,
            "grid_gap": null,
            "max_width": null,
            "order": null,
            "_view_module_version": "1.2.0",
            "grid_template_areas": null,
            "object_position": null,
            "object_fit": null,
            "grid_auto_columns": null,
            "margin": null,
            "display": null,
            "left": null
          }
        },
        "c43001054bf3494cb5464f829abf7603": {
          "model_module": "@jupyter-widgets/controls",
          "model_name": "ProgressStyleModel",
          "model_module_version": "1.5.0",
          "state": {
            "_view_name": "StyleView",
            "_model_name": "ProgressStyleModel",
            "description_width": "",
            "_view_module": "@jupyter-widgets/base",
            "_model_module_version": "1.5.0",
            "_view_count": null,
            "_view_module_version": "1.2.0",
            "bar_color": null,
            "_model_module": "@jupyter-widgets/controls"
          }
        },
        "87b25a8eff4047d1868336fa265842a8": {
          "model_module": "@jupyter-widgets/base",
          "model_name": "LayoutModel",
          "model_module_version": "1.2.0",
          "state": {
            "_view_name": "LayoutView",
            "grid_template_rows": null,
            "right": null,
            "justify_content": null,
            "_view_module": "@jupyter-widgets/base",
            "overflow": null,
            "_model_module_version": "1.2.0",
            "_view_count": null,
            "flex_flow": null,
            "width": null,
            "min_width": null,
            "border": null,
            "align_items": null,
            "bottom": null,
            "_model_module": "@jupyter-widgets/base",
            "top": null,
            "grid_column": null,
            "overflow_y": null,
            "overflow_x": null,
            "grid_auto_flow": null,
            "grid_area": null,
            "grid_template_columns": null,
            "flex": null,
            "_model_name": "LayoutModel",
            "justify_items": null,
            "grid_row": null,
            "max_height": null,
            "align_content": null,
            "visibility": null,
            "align_self": null,
            "height": null,
            "min_height": null,
            "padding": null,
            "grid_auto_rows": null,
            "grid_gap": null,
            "max_width": null,
            "order": null,
            "_view_module_version": "1.2.0",
            "grid_template_areas": null,
            "object_position": null,
            "object_fit": null,
            "grid_auto_columns": null,
            "margin": null,
            "display": null,
            "left": null
          }
        },
        "2ec016617d5d46ac89f123f441a651f0": {
          "model_module": "@jupyter-widgets/controls",
          "model_name": "DescriptionStyleModel",
          "model_module_version": "1.5.0",
          "state": {
            "_view_name": "StyleView",
            "_model_name": "DescriptionStyleModel",
            "description_width": "",
            "_view_module": "@jupyter-widgets/base",
            "_model_module_version": "1.5.0",
            "_view_count": null,
            "_view_module_version": "1.2.0",
            "_model_module": "@jupyter-widgets/controls"
          }
        },
        "8f85e3295c4a40648101f9ee4ff46d85": {
          "model_module": "@jupyter-widgets/base",
          "model_name": "LayoutModel",
          "model_module_version": "1.2.0",
          "state": {
            "_view_name": "LayoutView",
            "grid_template_rows": null,
            "right": null,
            "justify_content": null,
            "_view_module": "@jupyter-widgets/base",
            "overflow": null,
            "_model_module_version": "1.2.0",
            "_view_count": null,
            "flex_flow": null,
            "width": null,
            "min_width": null,
            "border": null,
            "align_items": null,
            "bottom": null,
            "_model_module": "@jupyter-widgets/base",
            "top": null,
            "grid_column": null,
            "overflow_y": null,
            "overflow_x": null,
            "grid_auto_flow": null,
            "grid_area": null,
            "grid_template_columns": null,
            "flex": null,
            "_model_name": "LayoutModel",
            "justify_items": null,
            "grid_row": null,
            "max_height": null,
            "align_content": null,
            "visibility": null,
            "align_self": null,
            "height": null,
            "min_height": null,
            "padding": null,
            "grid_auto_rows": null,
            "grid_gap": null,
            "max_width": null,
            "order": null,
            "_view_module_version": "1.2.0",
            "grid_template_areas": null,
            "object_position": null,
            "object_fit": null,
            "grid_auto_columns": null,
            "margin": null,
            "display": null,
            "left": null
          }
        },
        "b07e9ee3338a44c88ee7049ef7213129": {
          "model_module": "@jupyter-widgets/controls",
          "model_name": "HBoxModel",
          "model_module_version": "1.5.0",
          "state": {
            "_view_name": "HBoxView",
            "_dom_classes": [],
            "_model_name": "HBoxModel",
            "_view_module": "@jupyter-widgets/controls",
            "_model_module_version": "1.5.0",
            "_view_count": null,
            "_view_module_version": "1.5.0",
            "box_style": "",
            "layout": "IPY_MODEL_20ddb66179904fc0ade57df0303bee22",
            "_model_module": "@jupyter-widgets/controls",
            "children": [
              "IPY_MODEL_dfa652da62e74700ba129e7616885e27",
              "IPY_MODEL_f40355053d934da3a1eee5ac4e1a1070",
              "IPY_MODEL_7a0d0b15467a4daba83e33297d548165"
            ]
          }
        },
        "20ddb66179904fc0ade57df0303bee22": {
          "model_module": "@jupyter-widgets/base",
          "model_name": "LayoutModel",
          "model_module_version": "1.2.0",
          "state": {
            "_view_name": "LayoutView",
            "grid_template_rows": null,
            "right": null,
            "justify_content": null,
            "_view_module": "@jupyter-widgets/base",
            "overflow": null,
            "_model_module_version": "1.2.0",
            "_view_count": null,
            "flex_flow": null,
            "width": null,
            "min_width": null,
            "border": null,
            "align_items": null,
            "bottom": null,
            "_model_module": "@jupyter-widgets/base",
            "top": null,
            "grid_column": null,
            "overflow_y": null,
            "overflow_x": null,
            "grid_auto_flow": null,
            "grid_area": null,
            "grid_template_columns": null,
            "flex": null,
            "_model_name": "LayoutModel",
            "justify_items": null,
            "grid_row": null,
            "max_height": null,
            "align_content": null,
            "visibility": null,
            "align_self": null,
            "height": null,
            "min_height": null,
            "padding": null,
            "grid_auto_rows": null,
            "grid_gap": null,
            "max_width": null,
            "order": null,
            "_view_module_version": "1.2.0",
            "grid_template_areas": null,
            "object_position": null,
            "object_fit": null,
            "grid_auto_columns": null,
            "margin": null,
            "display": null,
            "left": null
          }
        },
        "dfa652da62e74700ba129e7616885e27": {
          "model_module": "@jupyter-widgets/controls",
          "model_name": "HTMLModel",
          "model_module_version": "1.5.0",
          "state": {
            "_view_name": "HTMLView",
            "style": "IPY_MODEL_1d1af2aa2a30459c8d478c08a2dbd49e",
            "_dom_classes": [],
            "description": "",
            "_model_name": "HTMLModel",
            "placeholder": "​",
            "_view_module": "@jupyter-widgets/controls",
            "_model_module_version": "1.5.0",
            "value": "Downloading: 100%",
            "_view_count": null,
            "_view_module_version": "1.5.0",
            "description_tooltip": null,
            "_model_module": "@jupyter-widgets/controls",
            "layout": "IPY_MODEL_6dc89f603f314f5da621588759e88b99"
          }
        },
        "f40355053d934da3a1eee5ac4e1a1070": {
          "model_module": "@jupyter-widgets/controls",
          "model_name": "FloatProgressModel",
          "model_module_version": "1.5.0",
          "state": {
            "_view_name": "ProgressView",
            "style": "IPY_MODEL_56ac7757f663483c90498bd39e80e3df",
            "_dom_classes": [],
            "description": "",
            "_model_name": "FloatProgressModel",
            "bar_style": "success",
            "max": 1222317369,
            "_view_module": "@jupyter-widgets/controls",
            "_model_module_version": "1.5.0",
            "value": 1222317369,
            "_view_count": null,
            "_view_module_version": "1.5.0",
            "orientation": "horizontal",
            "min": 0,
            "description_tooltip": null,
            "_model_module": "@jupyter-widgets/controls",
            "layout": "IPY_MODEL_72d7a18279da401497cd67c9527cbbf7"
          }
        },
        "7a0d0b15467a4daba83e33297d548165": {
          "model_module": "@jupyter-widgets/controls",
          "model_name": "HTMLModel",
          "model_module_version": "1.5.0",
          "state": {
            "_view_name": "HTMLView",
            "style": "IPY_MODEL_ef594405dac84dc5bb0a7ed29f0b102a",
            "_dom_classes": [],
            "description": "",
            "_model_name": "HTMLModel",
            "placeholder": "​",
            "_view_module": "@jupyter-widgets/controls",
            "_model_module_version": "1.5.0",
            "value": " 1.22G/1.22G [00:30&lt;00:00, 40.8MB/s]",
            "_view_count": null,
            "_view_module_version": "1.5.0",
            "description_tooltip": null,
            "_model_module": "@jupyter-widgets/controls",
            "layout": "IPY_MODEL_fba7756be6ab4df08423a0c98abacba5"
          }
        },
        "1d1af2aa2a30459c8d478c08a2dbd49e": {
          "model_module": "@jupyter-widgets/controls",
          "model_name": "DescriptionStyleModel",
          "model_module_version": "1.5.0",
          "state": {
            "_view_name": "StyleView",
            "_model_name": "DescriptionStyleModel",
            "description_width": "",
            "_view_module": "@jupyter-widgets/base",
            "_model_module_version": "1.5.0",
            "_view_count": null,
            "_view_module_version": "1.2.0",
            "_model_module": "@jupyter-widgets/controls"
          }
        },
        "6dc89f603f314f5da621588759e88b99": {
          "model_module": "@jupyter-widgets/base",
          "model_name": "LayoutModel",
          "model_module_version": "1.2.0",
          "state": {
            "_view_name": "LayoutView",
            "grid_template_rows": null,
            "right": null,
            "justify_content": null,
            "_view_module": "@jupyter-widgets/base",
            "overflow": null,
            "_model_module_version": "1.2.0",
            "_view_count": null,
            "flex_flow": null,
            "width": null,
            "min_width": null,
            "border": null,
            "align_items": null,
            "bottom": null,
            "_model_module": "@jupyter-widgets/base",
            "top": null,
            "grid_column": null,
            "overflow_y": null,
            "overflow_x": null,
            "grid_auto_flow": null,
            "grid_area": null,
            "grid_template_columns": null,
            "flex": null,
            "_model_name": "LayoutModel",
            "justify_items": null,
            "grid_row": null,
            "max_height": null,
            "align_content": null,
            "visibility": null,
            "align_self": null,
            "height": null,
            "min_height": null,
            "padding": null,
            "grid_auto_rows": null,
            "grid_gap": null,
            "max_width": null,
            "order": null,
            "_view_module_version": "1.2.0",
            "grid_template_areas": null,
            "object_position": null,
            "object_fit": null,
            "grid_auto_columns": null,
            "margin": null,
            "display": null,
            "left": null
          }
        },
        "56ac7757f663483c90498bd39e80e3df": {
          "model_module": "@jupyter-widgets/controls",
          "model_name": "ProgressStyleModel",
          "model_module_version": "1.5.0",
          "state": {
            "_view_name": "StyleView",
            "_model_name": "ProgressStyleModel",
            "description_width": "",
            "_view_module": "@jupyter-widgets/base",
            "_model_module_version": "1.5.0",
            "_view_count": null,
            "_view_module_version": "1.2.0",
            "bar_color": null,
            "_model_module": "@jupyter-widgets/controls"
          }
        },
        "72d7a18279da401497cd67c9527cbbf7": {
          "model_module": "@jupyter-widgets/base",
          "model_name": "LayoutModel",
          "model_module_version": "1.2.0",
          "state": {
            "_view_name": "LayoutView",
            "grid_template_rows": null,
            "right": null,
            "justify_content": null,
            "_view_module": "@jupyter-widgets/base",
            "overflow": null,
            "_model_module_version": "1.2.0",
            "_view_count": null,
            "flex_flow": null,
            "width": null,
            "min_width": null,
            "border": null,
            "align_items": null,
            "bottom": null,
            "_model_module": "@jupyter-widgets/base",
            "top": null,
            "grid_column": null,
            "overflow_y": null,
            "overflow_x": null,
            "grid_auto_flow": null,
            "grid_area": null,
            "grid_template_columns": null,
            "flex": null,
            "_model_name": "LayoutModel",
            "justify_items": null,
            "grid_row": null,
            "max_height": null,
            "align_content": null,
            "visibility": null,
            "align_self": null,
            "height": null,
            "min_height": null,
            "padding": null,
            "grid_auto_rows": null,
            "grid_gap": null,
            "max_width": null,
            "order": null,
            "_view_module_version": "1.2.0",
            "grid_template_areas": null,
            "object_position": null,
            "object_fit": null,
            "grid_auto_columns": null,
            "margin": null,
            "display": null,
            "left": null
          }
        },
        "ef594405dac84dc5bb0a7ed29f0b102a": {
          "model_module": "@jupyter-widgets/controls",
          "model_name": "DescriptionStyleModel",
          "model_module_version": "1.5.0",
          "state": {
            "_view_name": "StyleView",
            "_model_name": "DescriptionStyleModel",
            "description_width": "",
            "_view_module": "@jupyter-widgets/base",
            "_model_module_version": "1.5.0",
            "_view_count": null,
            "_view_module_version": "1.2.0",
            "_model_module": "@jupyter-widgets/controls"
          }
        },
        "fba7756be6ab4df08423a0c98abacba5": {
          "model_module": "@jupyter-widgets/base",
          "model_name": "LayoutModel",
          "model_module_version": "1.2.0",
          "state": {
            "_view_name": "LayoutView",
            "grid_template_rows": null,
            "right": null,
            "justify_content": null,
            "_view_module": "@jupyter-widgets/base",
            "overflow": null,
            "_model_module_version": "1.2.0",
            "_view_count": null,
            "flex_flow": null,
            "width": null,
            "min_width": null,
            "border": null,
            "align_items": null,
            "bottom": null,
            "_model_module": "@jupyter-widgets/base",
            "top": null,
            "grid_column": null,
            "overflow_y": null,
            "overflow_x": null,
            "grid_auto_flow": null,
            "grid_area": null,
            "grid_template_columns": null,
            "flex": null,
            "_model_name": "LayoutModel",
            "justify_items": null,
            "grid_row": null,
            "max_height": null,
            "align_content": null,
            "visibility": null,
            "align_self": null,
            "height": null,
            "min_height": null,
            "padding": null,
            "grid_auto_rows": null,
            "grid_gap": null,
            "max_width": null,
            "order": null,
            "_view_module_version": "1.2.0",
            "grid_template_areas": null,
            "object_position": null,
            "object_fit": null,
            "grid_auto_columns": null,
            "margin": null,
            "display": null,
            "left": null
          }
        },
        "3d2959c21bb146448e1eea2bf958b192": {
          "model_module": "@jupyter-widgets/controls",
          "model_name": "HBoxModel",
          "model_module_version": "1.5.0",
          "state": {
            "_view_name": "HBoxView",
            "_dom_classes": [],
            "_model_name": "HBoxModel",
            "_view_module": "@jupyter-widgets/controls",
            "_model_module_version": "1.5.0",
            "_view_count": null,
            "_view_module_version": "1.5.0",
            "box_style": "",
            "layout": "IPY_MODEL_a11a6405184040689419f948aeec31a9",
            "_model_module": "@jupyter-widgets/controls",
            "children": [
              "IPY_MODEL_fa1d31fc1c8d4a018ad8cfe3b14eedc2",
              "IPY_MODEL_ec84a4a1c0814cd780e02f03b3791f92",
              "IPY_MODEL_1d9e7346c1ae41d2b71abd5b2d5970ed"
            ]
          }
        },
        "a11a6405184040689419f948aeec31a9": {
          "model_module": "@jupyter-widgets/base",
          "model_name": "LayoutModel",
          "model_module_version": "1.2.0",
          "state": {
            "_view_name": "LayoutView",
            "grid_template_rows": null,
            "right": null,
            "justify_content": null,
            "_view_module": "@jupyter-widgets/base",
            "overflow": null,
            "_model_module_version": "1.2.0",
            "_view_count": null,
            "flex_flow": null,
            "width": null,
            "min_width": null,
            "border": null,
            "align_items": null,
            "bottom": null,
            "_model_module": "@jupyter-widgets/base",
            "top": null,
            "grid_column": null,
            "overflow_y": null,
            "overflow_x": null,
            "grid_auto_flow": null,
            "grid_area": null,
            "grid_template_columns": null,
            "flex": null,
            "_model_name": "LayoutModel",
            "justify_items": null,
            "grid_row": null,
            "max_height": null,
            "align_content": null,
            "visibility": null,
            "align_self": null,
            "height": null,
            "min_height": null,
            "padding": null,
            "grid_auto_rows": null,
            "grid_gap": null,
            "max_width": null,
            "order": null,
            "_view_module_version": "1.2.0",
            "grid_template_areas": null,
            "object_position": null,
            "object_fit": null,
            "grid_auto_columns": null,
            "margin": null,
            "display": null,
            "left": null
          }
        },
        "fa1d31fc1c8d4a018ad8cfe3b14eedc2": {
          "model_module": "@jupyter-widgets/controls",
          "model_name": "HTMLModel",
          "model_module_version": "1.5.0",
          "state": {
            "_view_name": "HTMLView",
            "style": "IPY_MODEL_3e731a03358f46d59fd4886c247c1be9",
            "_dom_classes": [],
            "description": "",
            "_model_name": "HTMLModel",
            "placeholder": "​",
            "_view_module": "@jupyter-widgets/controls",
            "_model_module_version": "1.5.0",
            "value": "Downloading: 100%",
            "_view_count": null,
            "_view_module_version": "1.5.0",
            "description_tooltip": null,
            "_model_module": "@jupyter-widgets/controls",
            "layout": "IPY_MODEL_e73ad5b801ee4a3d83ce53df32383807"
          }
        },
        "ec84a4a1c0814cd780e02f03b3791f92": {
          "model_module": "@jupyter-widgets/controls",
          "model_name": "FloatProgressModel",
          "model_module_version": "1.5.0",
          "state": {
            "_view_name": "ProgressView",
            "style": "IPY_MODEL_943d8ec2dfe94ca6a7ca3dff679ad4b9",
            "_dom_classes": [],
            "description": "",
            "_model_name": "FloatProgressModel",
            "bar_style": "success",
            "max": 898822,
            "_view_module": "@jupyter-widgets/controls",
            "_model_module_version": "1.5.0",
            "value": 898822,
            "_view_count": null,
            "_view_module_version": "1.5.0",
            "orientation": "horizontal",
            "min": 0,
            "description_tooltip": null,
            "_model_module": "@jupyter-widgets/controls",
            "layout": "IPY_MODEL_57fabc0f868a420b93bef5a403f0332b"
          }
        },
        "1d9e7346c1ae41d2b71abd5b2d5970ed": {
          "model_module": "@jupyter-widgets/controls",
          "model_name": "HTMLModel",
          "model_module_version": "1.5.0",
          "state": {
            "_view_name": "HTMLView",
            "style": "IPY_MODEL_d6889c4cc4784d909e459c21117debcd",
            "_dom_classes": [],
            "description": "",
            "_model_name": "HTMLModel",
            "placeholder": "​",
            "_view_module": "@jupyter-widgets/controls",
            "_model_module_version": "1.5.0",
            "value": " 899k/899k [00:00&lt;00:00, 3.11MB/s]",
            "_view_count": null,
            "_view_module_version": "1.5.0",
            "description_tooltip": null,
            "_model_module": "@jupyter-widgets/controls",
            "layout": "IPY_MODEL_818350781ac342ba90eb5f3c2fb68fc8"
          }
        },
        "3e731a03358f46d59fd4886c247c1be9": {
          "model_module": "@jupyter-widgets/controls",
          "model_name": "DescriptionStyleModel",
          "model_module_version": "1.5.0",
          "state": {
            "_view_name": "StyleView",
            "_model_name": "DescriptionStyleModel",
            "description_width": "",
            "_view_module": "@jupyter-widgets/base",
            "_model_module_version": "1.5.0",
            "_view_count": null,
            "_view_module_version": "1.2.0",
            "_model_module": "@jupyter-widgets/controls"
          }
        },
        "e73ad5b801ee4a3d83ce53df32383807": {
          "model_module": "@jupyter-widgets/base",
          "model_name": "LayoutModel",
          "model_module_version": "1.2.0",
          "state": {
            "_view_name": "LayoutView",
            "grid_template_rows": null,
            "right": null,
            "justify_content": null,
            "_view_module": "@jupyter-widgets/base",
            "overflow": null,
            "_model_module_version": "1.2.0",
            "_view_count": null,
            "flex_flow": null,
            "width": null,
            "min_width": null,
            "border": null,
            "align_items": null,
            "bottom": null,
            "_model_module": "@jupyter-widgets/base",
            "top": null,
            "grid_column": null,
            "overflow_y": null,
            "overflow_x": null,
            "grid_auto_flow": null,
            "grid_area": null,
            "grid_template_columns": null,
            "flex": null,
            "_model_name": "LayoutModel",
            "justify_items": null,
            "grid_row": null,
            "max_height": null,
            "align_content": null,
            "visibility": null,
            "align_self": null,
            "height": null,
            "min_height": null,
            "padding": null,
            "grid_auto_rows": null,
            "grid_gap": null,
            "max_width": null,
            "order": null,
            "_view_module_version": "1.2.0",
            "grid_template_areas": null,
            "object_position": null,
            "object_fit": null,
            "grid_auto_columns": null,
            "margin": null,
            "display": null,
            "left": null
          }
        },
        "943d8ec2dfe94ca6a7ca3dff679ad4b9": {
          "model_module": "@jupyter-widgets/controls",
          "model_name": "ProgressStyleModel",
          "model_module_version": "1.5.0",
          "state": {
            "_view_name": "StyleView",
            "_model_name": "ProgressStyleModel",
            "description_width": "",
            "_view_module": "@jupyter-widgets/base",
            "_model_module_version": "1.5.0",
            "_view_count": null,
            "_view_module_version": "1.2.0",
            "bar_color": null,
            "_model_module": "@jupyter-widgets/controls"
          }
        },
        "57fabc0f868a420b93bef5a403f0332b": {
          "model_module": "@jupyter-widgets/base",
          "model_name": "LayoutModel",
          "model_module_version": "1.2.0",
          "state": {
            "_view_name": "LayoutView",
            "grid_template_rows": null,
            "right": null,
            "justify_content": null,
            "_view_module": "@jupyter-widgets/base",
            "overflow": null,
            "_model_module_version": "1.2.0",
            "_view_count": null,
            "flex_flow": null,
            "width": null,
            "min_width": null,
            "border": null,
            "align_items": null,
            "bottom": null,
            "_model_module": "@jupyter-widgets/base",
            "top": null,
            "grid_column": null,
            "overflow_y": null,
            "overflow_x": null,
            "grid_auto_flow": null,
            "grid_area": null,
            "grid_template_columns": null,
            "flex": null,
            "_model_name": "LayoutModel",
            "justify_items": null,
            "grid_row": null,
            "max_height": null,
            "align_content": null,
            "visibility": null,
            "align_self": null,
            "height": null,
            "min_height": null,
            "padding": null,
            "grid_auto_rows": null,
            "grid_gap": null,
            "max_width": null,
            "order": null,
            "_view_module_version": "1.2.0",
            "grid_template_areas": null,
            "object_position": null,
            "object_fit": null,
            "grid_auto_columns": null,
            "margin": null,
            "display": null,
            "left": null
          }
        },
        "d6889c4cc4784d909e459c21117debcd": {
          "model_module": "@jupyter-widgets/controls",
          "model_name": "DescriptionStyleModel",
          "model_module_version": "1.5.0",
          "state": {
            "_view_name": "StyleView",
            "_model_name": "DescriptionStyleModel",
            "description_width": "",
            "_view_module": "@jupyter-widgets/base",
            "_model_module_version": "1.5.0",
            "_view_count": null,
            "_view_module_version": "1.2.0",
            "_model_module": "@jupyter-widgets/controls"
          }
        },
        "818350781ac342ba90eb5f3c2fb68fc8": {
          "model_module": "@jupyter-widgets/base",
          "model_name": "LayoutModel",
          "model_module_version": "1.2.0",
          "state": {
            "_view_name": "LayoutView",
            "grid_template_rows": null,
            "right": null,
            "justify_content": null,
            "_view_module": "@jupyter-widgets/base",
            "overflow": null,
            "_model_module_version": "1.2.0",
            "_view_count": null,
            "flex_flow": null,
            "width": null,
            "min_width": null,
            "border": null,
            "align_items": null,
            "bottom": null,
            "_model_module": "@jupyter-widgets/base",
            "top": null,
            "grid_column": null,
            "overflow_y": null,
            "overflow_x": null,
            "grid_auto_flow": null,
            "grid_area": null,
            "grid_template_columns": null,
            "flex": null,
            "_model_name": "LayoutModel",
            "justify_items": null,
            "grid_row": null,
            "max_height": null,
            "align_content": null,
            "visibility": null,
            "align_self": null,
            "height": null,
            "min_height": null,
            "padding": null,
            "grid_auto_rows": null,
            "grid_gap": null,
            "max_width": null,
            "order": null,
            "_view_module_version": "1.2.0",
            "grid_template_areas": null,
            "object_position": null,
            "object_fit": null,
            "grid_auto_columns": null,
            "margin": null,
            "display": null,
            "left": null
          }
        },
        "c92d22958fe54f23aeafa87bea4f7b04": {
          "model_module": "@jupyter-widgets/controls",
          "model_name": "HBoxModel",
          "model_module_version": "1.5.0",
          "state": {
            "_view_name": "HBoxView",
            "_dom_classes": [],
            "_model_name": "HBoxModel",
            "_view_module": "@jupyter-widgets/controls",
            "_model_module_version": "1.5.0",
            "_view_count": null,
            "_view_module_version": "1.5.0",
            "box_style": "",
            "layout": "IPY_MODEL_cce27ddf06b542a5878bb17a2d38c6e3",
            "_model_module": "@jupyter-widgets/controls",
            "children": [
              "IPY_MODEL_a7be43bd00ab48e98477b80fbfb374e4",
              "IPY_MODEL_aecabcdcd67245b1ae2cbbaea8f40ff0",
              "IPY_MODEL_8fe44ee45bb743578230284464b17663"
            ]
          }
        },
        "cce27ddf06b542a5878bb17a2d38c6e3": {
          "model_module": "@jupyter-widgets/base",
          "model_name": "LayoutModel",
          "model_module_version": "1.2.0",
          "state": {
            "_view_name": "LayoutView",
            "grid_template_rows": null,
            "right": null,
            "justify_content": null,
            "_view_module": "@jupyter-widgets/base",
            "overflow": null,
            "_model_module_version": "1.2.0",
            "_view_count": null,
            "flex_flow": null,
            "width": null,
            "min_width": null,
            "border": null,
            "align_items": null,
            "bottom": null,
            "_model_module": "@jupyter-widgets/base",
            "top": null,
            "grid_column": null,
            "overflow_y": null,
            "overflow_x": null,
            "grid_auto_flow": null,
            "grid_area": null,
            "grid_template_columns": null,
            "flex": null,
            "_model_name": "LayoutModel",
            "justify_items": null,
            "grid_row": null,
            "max_height": null,
            "align_content": null,
            "visibility": null,
            "align_self": null,
            "height": null,
            "min_height": null,
            "padding": null,
            "grid_auto_rows": null,
            "grid_gap": null,
            "max_width": null,
            "order": null,
            "_view_module_version": "1.2.0",
            "grid_template_areas": null,
            "object_position": null,
            "object_fit": null,
            "grid_auto_columns": null,
            "margin": null,
            "display": null,
            "left": null
          }
        },
        "a7be43bd00ab48e98477b80fbfb374e4": {
          "model_module": "@jupyter-widgets/controls",
          "model_name": "HTMLModel",
          "model_module_version": "1.5.0",
          "state": {
            "_view_name": "HTMLView",
            "style": "IPY_MODEL_d93e2b8ed8d743e58c74e712cfc0da86",
            "_dom_classes": [],
            "description": "",
            "_model_name": "HTMLModel",
            "placeholder": "​",
            "_view_module": "@jupyter-widgets/controls",
            "_model_module_version": "1.5.0",
            "value": "Downloading: 100%",
            "_view_count": null,
            "_view_module_version": "1.5.0",
            "description_tooltip": null,
            "_model_module": "@jupyter-widgets/controls",
            "layout": "IPY_MODEL_892bccb9c5344f75aba7110d3c8ac5fb"
          }
        },
        "aecabcdcd67245b1ae2cbbaea8f40ff0": {
          "model_module": "@jupyter-widgets/controls",
          "model_name": "FloatProgressModel",
          "model_module_version": "1.5.0",
          "state": {
            "_view_name": "ProgressView",
            "style": "IPY_MODEL_bccb7b7960b14aa49ae58c597ba74592",
            "_dom_classes": [],
            "description": "",
            "_model_name": "FloatProgressModel",
            "bar_style": "success",
            "max": 456318,
            "_view_module": "@jupyter-widgets/controls",
            "_model_module_version": "1.5.0",
            "value": 456318,
            "_view_count": null,
            "_view_module_version": "1.5.0",
            "orientation": "horizontal",
            "min": 0,
            "description_tooltip": null,
            "_model_module": "@jupyter-widgets/controls",
            "layout": "IPY_MODEL_62ab3dbeec5944de9bea149a6dfbc8d3"
          }
        },
        "8fe44ee45bb743578230284464b17663": {
          "model_module": "@jupyter-widgets/controls",
          "model_name": "HTMLModel",
          "model_module_version": "1.5.0",
          "state": {
            "_view_name": "HTMLView",
            "style": "IPY_MODEL_00be0f7cf30b4aa383876f68aa91eba7",
            "_dom_classes": [],
            "description": "",
            "_model_name": "HTMLModel",
            "placeholder": "​",
            "_view_module": "@jupyter-widgets/controls",
            "_model_module_version": "1.5.0",
            "value": " 456k/456k [00:00&lt;00:00, 953kB/s]",
            "_view_count": null,
            "_view_module_version": "1.5.0",
            "description_tooltip": null,
            "_model_module": "@jupyter-widgets/controls",
            "layout": "IPY_MODEL_684fcaedf0d340beac98e5e5fbd7b6ef"
          }
        },
        "d93e2b8ed8d743e58c74e712cfc0da86": {
          "model_module": "@jupyter-widgets/controls",
          "model_name": "DescriptionStyleModel",
          "model_module_version": "1.5.0",
          "state": {
            "_view_name": "StyleView",
            "_model_name": "DescriptionStyleModel",
            "description_width": "",
            "_view_module": "@jupyter-widgets/base",
            "_model_module_version": "1.5.0",
            "_view_count": null,
            "_view_module_version": "1.2.0",
            "_model_module": "@jupyter-widgets/controls"
          }
        },
        "892bccb9c5344f75aba7110d3c8ac5fb": {
          "model_module": "@jupyter-widgets/base",
          "model_name": "LayoutModel",
          "model_module_version": "1.2.0",
          "state": {
            "_view_name": "LayoutView",
            "grid_template_rows": null,
            "right": null,
            "justify_content": null,
            "_view_module": "@jupyter-widgets/base",
            "overflow": null,
            "_model_module_version": "1.2.0",
            "_view_count": null,
            "flex_flow": null,
            "width": null,
            "min_width": null,
            "border": null,
            "align_items": null,
            "bottom": null,
            "_model_module": "@jupyter-widgets/base",
            "top": null,
            "grid_column": null,
            "overflow_y": null,
            "overflow_x": null,
            "grid_auto_flow": null,
            "grid_area": null,
            "grid_template_columns": null,
            "flex": null,
            "_model_name": "LayoutModel",
            "justify_items": null,
            "grid_row": null,
            "max_height": null,
            "align_content": null,
            "visibility": null,
            "align_self": null,
            "height": null,
            "min_height": null,
            "padding": null,
            "grid_auto_rows": null,
            "grid_gap": null,
            "max_width": null,
            "order": null,
            "_view_module_version": "1.2.0",
            "grid_template_areas": null,
            "object_position": null,
            "object_fit": null,
            "grid_auto_columns": null,
            "margin": null,
            "display": null,
            "left": null
          }
        },
        "bccb7b7960b14aa49ae58c597ba74592": {
          "model_module": "@jupyter-widgets/controls",
          "model_name": "ProgressStyleModel",
          "model_module_version": "1.5.0",
          "state": {
            "_view_name": "StyleView",
            "_model_name": "ProgressStyleModel",
            "description_width": "",
            "_view_module": "@jupyter-widgets/base",
            "_model_module_version": "1.5.0",
            "_view_count": null,
            "_view_module_version": "1.2.0",
            "bar_color": null,
            "_model_module": "@jupyter-widgets/controls"
          }
        },
        "62ab3dbeec5944de9bea149a6dfbc8d3": {
          "model_module": "@jupyter-widgets/base",
          "model_name": "LayoutModel",
          "model_module_version": "1.2.0",
          "state": {
            "_view_name": "LayoutView",
            "grid_template_rows": null,
            "right": null,
            "justify_content": null,
            "_view_module": "@jupyter-widgets/base",
            "overflow": null,
            "_model_module_version": "1.2.0",
            "_view_count": null,
            "flex_flow": null,
            "width": null,
            "min_width": null,
            "border": null,
            "align_items": null,
            "bottom": null,
            "_model_module": "@jupyter-widgets/base",
            "top": null,
            "grid_column": null,
            "overflow_y": null,
            "overflow_x": null,
            "grid_auto_flow": null,
            "grid_area": null,
            "grid_template_columns": null,
            "flex": null,
            "_model_name": "LayoutModel",
            "justify_items": null,
            "grid_row": null,
            "max_height": null,
            "align_content": null,
            "visibility": null,
            "align_self": null,
            "height": null,
            "min_height": null,
            "padding": null,
            "grid_auto_rows": null,
            "grid_gap": null,
            "max_width": null,
            "order": null,
            "_view_module_version": "1.2.0",
            "grid_template_areas": null,
            "object_position": null,
            "object_fit": null,
            "grid_auto_columns": null,
            "margin": null,
            "display": null,
            "left": null
          }
        },
        "00be0f7cf30b4aa383876f68aa91eba7": {
          "model_module": "@jupyter-widgets/controls",
          "model_name": "DescriptionStyleModel",
          "model_module_version": "1.5.0",
          "state": {
            "_view_name": "StyleView",
            "_model_name": "DescriptionStyleModel",
            "description_width": "",
            "_view_module": "@jupyter-widgets/base",
            "_model_module_version": "1.5.0",
            "_view_count": null,
            "_view_module_version": "1.2.0",
            "_model_module": "@jupyter-widgets/controls"
          }
        },
        "684fcaedf0d340beac98e5e5fbd7b6ef": {
          "model_module": "@jupyter-widgets/base",
          "model_name": "LayoutModel",
          "model_module_version": "1.2.0",
          "state": {
            "_view_name": "LayoutView",
            "grid_template_rows": null,
            "right": null,
            "justify_content": null,
            "_view_module": "@jupyter-widgets/base",
            "overflow": null,
            "_model_module_version": "1.2.0",
            "_view_count": null,
            "flex_flow": null,
            "width": null,
            "min_width": null,
            "border": null,
            "align_items": null,
            "bottom": null,
            "_model_module": "@jupyter-widgets/base",
            "top": null,
            "grid_column": null,
            "overflow_y": null,
            "overflow_x": null,
            "grid_auto_flow": null,
            "grid_area": null,
            "grid_template_columns": null,
            "flex": null,
            "_model_name": "LayoutModel",
            "justify_items": null,
            "grid_row": null,
            "max_height": null,
            "align_content": null,
            "visibility": null,
            "align_self": null,
            "height": null,
            "min_height": null,
            "padding": null,
            "grid_auto_rows": null,
            "grid_gap": null,
            "max_width": null,
            "order": null,
            "_view_module_version": "1.2.0",
            "grid_template_areas": null,
            "object_position": null,
            "object_fit": null,
            "grid_auto_columns": null,
            "margin": null,
            "display": null,
            "left": null
          }
        },
        "4d03b7aeb7df4ba983a7634768ee78f4": {
          "model_module": "@jupyter-widgets/controls",
          "model_name": "HBoxModel",
          "model_module_version": "1.5.0",
          "state": {
            "_view_name": "HBoxView",
            "_dom_classes": [],
            "_model_name": "HBoxModel",
            "_view_module": "@jupyter-widgets/controls",
            "_model_module_version": "1.5.0",
            "_view_count": null,
            "_view_module_version": "1.5.0",
            "box_style": "",
            "layout": "IPY_MODEL_21baedb3ac974121bc44b29d8964fcda",
            "_model_module": "@jupyter-widgets/controls",
            "children": [
              "IPY_MODEL_93b279a5b55d4574bf8d68e187c7c72a",
              "IPY_MODEL_1dbbc16f0ef84a3887f53c5dd08d03c2",
              "IPY_MODEL_b3d3b6a0991d4b82aee19edd275e018d"
            ]
          }
        },
        "21baedb3ac974121bc44b29d8964fcda": {
          "model_module": "@jupyter-widgets/base",
          "model_name": "LayoutModel",
          "model_module_version": "1.2.0",
          "state": {
            "_view_name": "LayoutView",
            "grid_template_rows": null,
            "right": null,
            "justify_content": null,
            "_view_module": "@jupyter-widgets/base",
            "overflow": null,
            "_model_module_version": "1.2.0",
            "_view_count": null,
            "flex_flow": null,
            "width": null,
            "min_width": null,
            "border": null,
            "align_items": null,
            "bottom": null,
            "_model_module": "@jupyter-widgets/base",
            "top": null,
            "grid_column": null,
            "overflow_y": null,
            "overflow_x": null,
            "grid_auto_flow": null,
            "grid_area": null,
            "grid_template_columns": null,
            "flex": null,
            "_model_name": "LayoutModel",
            "justify_items": null,
            "grid_row": null,
            "max_height": null,
            "align_content": null,
            "visibility": null,
            "align_self": null,
            "height": null,
            "min_height": null,
            "padding": null,
            "grid_auto_rows": null,
            "grid_gap": null,
            "max_width": null,
            "order": null,
            "_view_module_version": "1.2.0",
            "grid_template_areas": null,
            "object_position": null,
            "object_fit": null,
            "grid_auto_columns": null,
            "margin": null,
            "display": null,
            "left": null
          }
        },
        "93b279a5b55d4574bf8d68e187c7c72a": {
          "model_module": "@jupyter-widgets/controls",
          "model_name": "HTMLModel",
          "model_module_version": "1.5.0",
          "state": {
            "_view_name": "HTMLView",
            "style": "IPY_MODEL_3ac944f69b314c6196a116fee36caea3",
            "_dom_classes": [],
            "description": "",
            "_model_name": "HTMLModel",
            "placeholder": "​",
            "_view_module": "@jupyter-widgets/controls",
            "_model_module_version": "1.5.0",
            "value": "Downloading: 100%",
            "_view_count": null,
            "_view_module_version": "1.5.0",
            "description_tooltip": null,
            "_model_module": "@jupyter-widgets/controls",
            "layout": "IPY_MODEL_7bcaf31230544d7eb1871930ba8180a5"
          }
        },
        "1dbbc16f0ef84a3887f53c5dd08d03c2": {
          "model_module": "@jupyter-widgets/controls",
          "model_name": "FloatProgressModel",
          "model_module_version": "1.5.0",
          "state": {
            "_view_name": "ProgressView",
            "style": "IPY_MODEL_a738f1a3b9bb4fd782966b23104ed470",
            "_dom_classes": [],
            "description": "",
            "_model_name": "FloatProgressModel",
            "bar_style": "success",
            "max": 26,
            "_view_module": "@jupyter-widgets/controls",
            "_model_module_version": "1.5.0",
            "value": 26,
            "_view_count": null,
            "_view_module_version": "1.5.0",
            "orientation": "horizontal",
            "min": 0,
            "description_tooltip": null,
            "_model_module": "@jupyter-widgets/controls",
            "layout": "IPY_MODEL_4c15b744299e4641ae675e84657a31ab"
          }
        },
        "b3d3b6a0991d4b82aee19edd275e018d": {
          "model_module": "@jupyter-widgets/controls",
          "model_name": "HTMLModel",
          "model_module_version": "1.5.0",
          "state": {
            "_view_name": "HTMLView",
            "style": "IPY_MODEL_753ad4f29a50466f9aff30e0e1b514a4",
            "_dom_classes": [],
            "description": "",
            "_model_name": "HTMLModel",
            "placeholder": "​",
            "_view_module": "@jupyter-widgets/controls",
            "_model_module_version": "1.5.0",
            "value": " 26.0/26.0 [00:00&lt;00:00, 560B/s]",
            "_view_count": null,
            "_view_module_version": "1.5.0",
            "description_tooltip": null,
            "_model_module": "@jupyter-widgets/controls",
            "layout": "IPY_MODEL_a912089d6ccc499bb26d5f62db16089c"
          }
        },
        "3ac944f69b314c6196a116fee36caea3": {
          "model_module": "@jupyter-widgets/controls",
          "model_name": "DescriptionStyleModel",
          "model_module_version": "1.5.0",
          "state": {
            "_view_name": "StyleView",
            "_model_name": "DescriptionStyleModel",
            "description_width": "",
            "_view_module": "@jupyter-widgets/base",
            "_model_module_version": "1.5.0",
            "_view_count": null,
            "_view_module_version": "1.2.0",
            "_model_module": "@jupyter-widgets/controls"
          }
        },
        "7bcaf31230544d7eb1871930ba8180a5": {
          "model_module": "@jupyter-widgets/base",
          "model_name": "LayoutModel",
          "model_module_version": "1.2.0",
          "state": {
            "_view_name": "LayoutView",
            "grid_template_rows": null,
            "right": null,
            "justify_content": null,
            "_view_module": "@jupyter-widgets/base",
            "overflow": null,
            "_model_module_version": "1.2.0",
            "_view_count": null,
            "flex_flow": null,
            "width": null,
            "min_width": null,
            "border": null,
            "align_items": null,
            "bottom": null,
            "_model_module": "@jupyter-widgets/base",
            "top": null,
            "grid_column": null,
            "overflow_y": null,
            "overflow_x": null,
            "grid_auto_flow": null,
            "grid_area": null,
            "grid_template_columns": null,
            "flex": null,
            "_model_name": "LayoutModel",
            "justify_items": null,
            "grid_row": null,
            "max_height": null,
            "align_content": null,
            "visibility": null,
            "align_self": null,
            "height": null,
            "min_height": null,
            "padding": null,
            "grid_auto_rows": null,
            "grid_gap": null,
            "max_width": null,
            "order": null,
            "_view_module_version": "1.2.0",
            "grid_template_areas": null,
            "object_position": null,
            "object_fit": null,
            "grid_auto_columns": null,
            "margin": null,
            "display": null,
            "left": null
          }
        },
        "a738f1a3b9bb4fd782966b23104ed470": {
          "model_module": "@jupyter-widgets/controls",
          "model_name": "ProgressStyleModel",
          "model_module_version": "1.5.0",
          "state": {
            "_view_name": "StyleView",
            "_model_name": "ProgressStyleModel",
            "description_width": "",
            "_view_module": "@jupyter-widgets/base",
            "_model_module_version": "1.5.0",
            "_view_count": null,
            "_view_module_version": "1.2.0",
            "bar_color": null,
            "_model_module": "@jupyter-widgets/controls"
          }
        },
        "4c15b744299e4641ae675e84657a31ab": {
          "model_module": "@jupyter-widgets/base",
          "model_name": "LayoutModel",
          "model_module_version": "1.2.0",
          "state": {
            "_view_name": "LayoutView",
            "grid_template_rows": null,
            "right": null,
            "justify_content": null,
            "_view_module": "@jupyter-widgets/base",
            "overflow": null,
            "_model_module_version": "1.2.0",
            "_view_count": null,
            "flex_flow": null,
            "width": null,
            "min_width": null,
            "border": null,
            "align_items": null,
            "bottom": null,
            "_model_module": "@jupyter-widgets/base",
            "top": null,
            "grid_column": null,
            "overflow_y": null,
            "overflow_x": null,
            "grid_auto_flow": null,
            "grid_area": null,
            "grid_template_columns": null,
            "flex": null,
            "_model_name": "LayoutModel",
            "justify_items": null,
            "grid_row": null,
            "max_height": null,
            "align_content": null,
            "visibility": null,
            "align_self": null,
            "height": null,
            "min_height": null,
            "padding": null,
            "grid_auto_rows": null,
            "grid_gap": null,
            "max_width": null,
            "order": null,
            "_view_module_version": "1.2.0",
            "grid_template_areas": null,
            "object_position": null,
            "object_fit": null,
            "grid_auto_columns": null,
            "margin": null,
            "display": null,
            "left": null
          }
        },
        "753ad4f29a50466f9aff30e0e1b514a4": {
          "model_module": "@jupyter-widgets/controls",
          "model_name": "DescriptionStyleModel",
          "model_module_version": "1.5.0",
          "state": {
            "_view_name": "StyleView",
            "_model_name": "DescriptionStyleModel",
            "description_width": "",
            "_view_module": "@jupyter-widgets/base",
            "_model_module_version": "1.5.0",
            "_view_count": null,
            "_view_module_version": "1.2.0",
            "_model_module": "@jupyter-widgets/controls"
          }
        },
        "a912089d6ccc499bb26d5f62db16089c": {
          "model_module": "@jupyter-widgets/base",
          "model_name": "LayoutModel",
          "model_module_version": "1.2.0",
          "state": {
            "_view_name": "LayoutView",
            "grid_template_rows": null,
            "right": null,
            "justify_content": null,
            "_view_module": "@jupyter-widgets/base",
            "overflow": null,
            "_model_module_version": "1.2.0",
            "_view_count": null,
            "flex_flow": null,
            "width": null,
            "min_width": null,
            "border": null,
            "align_items": null,
            "bottom": null,
            "_model_module": "@jupyter-widgets/base",
            "top": null,
            "grid_column": null,
            "overflow_y": null,
            "overflow_x": null,
            "grid_auto_flow": null,
            "grid_area": null,
            "grid_template_columns": null,
            "flex": null,
            "_model_name": "LayoutModel",
            "justify_items": null,
            "grid_row": null,
            "max_height": null,
            "align_content": null,
            "visibility": null,
            "align_self": null,
            "height": null,
            "min_height": null,
            "padding": null,
            "grid_auto_rows": null,
            "grid_gap": null,
            "max_width": null,
            "order": null,
            "_view_module_version": "1.2.0",
            "grid_template_areas": null,
            "object_position": null,
            "object_fit": null,
            "grid_auto_columns": null,
            "margin": null,
            "display": null,
            "left": null
          }
        },
        "2d23247499754d63809a7c858096e469": {
          "model_module": "@jupyter-widgets/controls",
          "model_name": "HBoxModel",
          "model_module_version": "1.5.0",
          "state": {
            "_view_name": "HBoxView",
            "_dom_classes": [],
            "_model_name": "HBoxModel",
            "_view_module": "@jupyter-widgets/controls",
            "_model_module_version": "1.5.0",
            "_view_count": null,
            "_view_module_version": "1.5.0",
            "box_style": "",
            "layout": "IPY_MODEL_3b0205d33cdb48919f69bf184016d783",
            "_model_module": "@jupyter-widgets/controls",
            "children": [
              "IPY_MODEL_7808818ed4d44282a59d5183c7f42589",
              "IPY_MODEL_587273957c324e5984fd67346ea5b5ab",
              "IPY_MODEL_518c9641fb5943ca904818fa02385654"
            ]
          }
        },
        "3b0205d33cdb48919f69bf184016d783": {
          "model_module": "@jupyter-widgets/base",
          "model_name": "LayoutModel",
          "model_module_version": "1.2.0",
          "state": {
            "_view_name": "LayoutView",
            "grid_template_rows": null,
            "right": null,
            "justify_content": null,
            "_view_module": "@jupyter-widgets/base",
            "overflow": null,
            "_model_module_version": "1.2.0",
            "_view_count": null,
            "flex_flow": null,
            "width": null,
            "min_width": null,
            "border": null,
            "align_items": null,
            "bottom": null,
            "_model_module": "@jupyter-widgets/base",
            "top": null,
            "grid_column": null,
            "overflow_y": null,
            "overflow_x": null,
            "grid_auto_flow": null,
            "grid_area": null,
            "grid_template_columns": null,
            "flex": null,
            "_model_name": "LayoutModel",
            "justify_items": null,
            "grid_row": null,
            "max_height": null,
            "align_content": null,
            "visibility": null,
            "align_self": null,
            "height": null,
            "min_height": null,
            "padding": null,
            "grid_auto_rows": null,
            "grid_gap": null,
            "max_width": null,
            "order": null,
            "_view_module_version": "1.2.0",
            "grid_template_areas": null,
            "object_position": null,
            "object_fit": null,
            "grid_auto_columns": null,
            "margin": null,
            "display": null,
            "left": null
          }
        },
        "7808818ed4d44282a59d5183c7f42589": {
          "model_module": "@jupyter-widgets/controls",
          "model_name": "HTMLModel",
          "model_module_version": "1.5.0",
          "state": {
            "_view_name": "HTMLView",
            "style": "IPY_MODEL_4dbc78be860744fe90b77267a8ed2f76",
            "_dom_classes": [],
            "description": "",
            "_model_name": "HTMLModel",
            "placeholder": "​",
            "_view_module": "@jupyter-widgets/controls",
            "_model_module_version": "1.5.0",
            "value": "Downloading: 100%",
            "_view_count": null,
            "_view_module_version": "1.5.0",
            "description_tooltip": null,
            "_model_module": "@jupyter-widgets/controls",
            "layout": "IPY_MODEL_7c419af7f5e94bcc9f5fbf32ada1684a"
          }
        },
        "587273957c324e5984fd67346ea5b5ab": {
          "model_module": "@jupyter-widgets/controls",
          "model_name": "FloatProgressModel",
          "model_module_version": "1.5.0",
          "state": {
            "_view_name": "ProgressView",
            "style": "IPY_MODEL_3e24601b01524565918d633d822c0eb5",
            "_dom_classes": [],
            "description": "",
            "_model_name": "FloatProgressModel",
            "bar_style": "success",
            "max": 758,
            "_view_module": "@jupyter-widgets/controls",
            "_model_module_version": "1.5.0",
            "value": 758,
            "_view_count": null,
            "_view_module_version": "1.5.0",
            "orientation": "horizontal",
            "min": 0,
            "description_tooltip": null,
            "_model_module": "@jupyter-widgets/controls",
            "layout": "IPY_MODEL_b5383fdc588e4879957947ca728edc4f"
          }
        },
        "518c9641fb5943ca904818fa02385654": {
          "model_module": "@jupyter-widgets/controls",
          "model_name": "HTMLModel",
          "model_module_version": "1.5.0",
          "state": {
            "_view_name": "HTMLView",
            "style": "IPY_MODEL_80bd3458f8cb4058a41c2c60eed174a1",
            "_dom_classes": [],
            "description": "",
            "_model_name": "HTMLModel",
            "placeholder": "​",
            "_view_module": "@jupyter-widgets/controls",
            "_model_module_version": "1.5.0",
            "value": " 758/758 [00:00&lt;00:00, 20.2kB/s]",
            "_view_count": null,
            "_view_module_version": "1.5.0",
            "description_tooltip": null,
            "_model_module": "@jupyter-widgets/controls",
            "layout": "IPY_MODEL_e5369146a72f407b8ac00df27dd5876b"
          }
        },
        "4dbc78be860744fe90b77267a8ed2f76": {
          "model_module": "@jupyter-widgets/controls",
          "model_name": "DescriptionStyleModel",
          "model_module_version": "1.5.0",
          "state": {
            "_view_name": "StyleView",
            "_model_name": "DescriptionStyleModel",
            "description_width": "",
            "_view_module": "@jupyter-widgets/base",
            "_model_module_version": "1.5.0",
            "_view_count": null,
            "_view_module_version": "1.2.0",
            "_model_module": "@jupyter-widgets/controls"
          }
        },
        "7c419af7f5e94bcc9f5fbf32ada1684a": {
          "model_module": "@jupyter-widgets/base",
          "model_name": "LayoutModel",
          "model_module_version": "1.2.0",
          "state": {
            "_view_name": "LayoutView",
            "grid_template_rows": null,
            "right": null,
            "justify_content": null,
            "_view_module": "@jupyter-widgets/base",
            "overflow": null,
            "_model_module_version": "1.2.0",
            "_view_count": null,
            "flex_flow": null,
            "width": null,
            "min_width": null,
            "border": null,
            "align_items": null,
            "bottom": null,
            "_model_module": "@jupyter-widgets/base",
            "top": null,
            "grid_column": null,
            "overflow_y": null,
            "overflow_x": null,
            "grid_auto_flow": null,
            "grid_area": null,
            "grid_template_columns": null,
            "flex": null,
            "_model_name": "LayoutModel",
            "justify_items": null,
            "grid_row": null,
            "max_height": null,
            "align_content": null,
            "visibility": null,
            "align_self": null,
            "height": null,
            "min_height": null,
            "padding": null,
            "grid_auto_rows": null,
            "grid_gap": null,
            "max_width": null,
            "order": null,
            "_view_module_version": "1.2.0",
            "grid_template_areas": null,
            "object_position": null,
            "object_fit": null,
            "grid_auto_columns": null,
            "margin": null,
            "display": null,
            "left": null
          }
        },
        "3e24601b01524565918d633d822c0eb5": {
          "model_module": "@jupyter-widgets/controls",
          "model_name": "ProgressStyleModel",
          "model_module_version": "1.5.0",
          "state": {
            "_view_name": "StyleView",
            "_model_name": "ProgressStyleModel",
            "description_width": "",
            "_view_module": "@jupyter-widgets/base",
            "_model_module_version": "1.5.0",
            "_view_count": null,
            "_view_module_version": "1.2.0",
            "bar_color": null,
            "_model_module": "@jupyter-widgets/controls"
          }
        },
        "b5383fdc588e4879957947ca728edc4f": {
          "model_module": "@jupyter-widgets/base",
          "model_name": "LayoutModel",
          "model_module_version": "1.2.0",
          "state": {
            "_view_name": "LayoutView",
            "grid_template_rows": null,
            "right": null,
            "justify_content": null,
            "_view_module": "@jupyter-widgets/base",
            "overflow": null,
            "_model_module_version": "1.2.0",
            "_view_count": null,
            "flex_flow": null,
            "width": null,
            "min_width": null,
            "border": null,
            "align_items": null,
            "bottom": null,
            "_model_module": "@jupyter-widgets/base",
            "top": null,
            "grid_column": null,
            "overflow_y": null,
            "overflow_x": null,
            "grid_auto_flow": null,
            "grid_area": null,
            "grid_template_columns": null,
            "flex": null,
            "_model_name": "LayoutModel",
            "justify_items": null,
            "grid_row": null,
            "max_height": null,
            "align_content": null,
            "visibility": null,
            "align_self": null,
            "height": null,
            "min_height": null,
            "padding": null,
            "grid_auto_rows": null,
            "grid_gap": null,
            "max_width": null,
            "order": null,
            "_view_module_version": "1.2.0",
            "grid_template_areas": null,
            "object_position": null,
            "object_fit": null,
            "grid_auto_columns": null,
            "margin": null,
            "display": null,
            "left": null
          }
        },
        "80bd3458f8cb4058a41c2c60eed174a1": {
          "model_module": "@jupyter-widgets/controls",
          "model_name": "DescriptionStyleModel",
          "model_module_version": "1.5.0",
          "state": {
            "_view_name": "StyleView",
            "_model_name": "DescriptionStyleModel",
            "description_width": "",
            "_view_module": "@jupyter-widgets/base",
            "_model_module_version": "1.5.0",
            "_view_count": null,
            "_view_module_version": "1.2.0",
            "_model_module": "@jupyter-widgets/controls"
          }
        },
        "e5369146a72f407b8ac00df27dd5876b": {
          "model_module": "@jupyter-widgets/base",
          "model_name": "LayoutModel",
          "model_module_version": "1.2.0",
          "state": {
            "_view_name": "LayoutView",
            "grid_template_rows": null,
            "right": null,
            "justify_content": null,
            "_view_module": "@jupyter-widgets/base",
            "overflow": null,
            "_model_module_version": "1.2.0",
            "_view_count": null,
            "flex_flow": null,
            "width": null,
            "min_width": null,
            "border": null,
            "align_items": null,
            "bottom": null,
            "_model_module": "@jupyter-widgets/base",
            "top": null,
            "grid_column": null,
            "overflow_y": null,
            "overflow_x": null,
            "grid_auto_flow": null,
            "grid_area": null,
            "grid_template_columns": null,
            "flex": null,
            "_model_name": "LayoutModel",
            "justify_items": null,
            "grid_row": null,
            "max_height": null,
            "align_content": null,
            "visibility": null,
            "align_self": null,
            "height": null,
            "min_height": null,
            "padding": null,
            "grid_auto_rows": null,
            "grid_gap": null,
            "max_width": null,
            "order": null,
            "_view_module_version": "1.2.0",
            "grid_template_areas": null,
            "object_position": null,
            "object_fit": null,
            "grid_auto_columns": null,
            "margin": null,
            "display": null,
            "left": null
          }
        },
        "9bc71d4c49174aa483e7cf40eaa05bba": {
          "model_module": "@jupyter-widgets/controls",
          "model_name": "HBoxModel",
          "model_module_version": "1.5.0",
          "state": {
            "_view_name": "HBoxView",
            "_dom_classes": [],
            "_model_name": "HBoxModel",
            "_view_module": "@jupyter-widgets/controls",
            "_model_module_version": "1.5.0",
            "_view_count": null,
            "_view_module_version": "1.5.0",
            "box_style": "",
            "layout": "IPY_MODEL_1ff3e583f1b3478994f6bcd9ccab33f9",
            "_model_module": "@jupyter-widgets/controls",
            "children": [
              "IPY_MODEL_4c602b8027c644b2b7aec84761df0e79",
              "IPY_MODEL_d7634ead84694d368ff414af01597073",
              "IPY_MODEL_06904dc6ff0c4db89ffaa5f915840ebb"
            ]
          }
        },
        "1ff3e583f1b3478994f6bcd9ccab33f9": {
          "model_module": "@jupyter-widgets/base",
          "model_name": "LayoutModel",
          "model_module_version": "1.2.0",
          "state": {
            "_view_name": "LayoutView",
            "grid_template_rows": null,
            "right": null,
            "justify_content": null,
            "_view_module": "@jupyter-widgets/base",
            "overflow": null,
            "_model_module_version": "1.2.0",
            "_view_count": null,
            "flex_flow": null,
            "width": null,
            "min_width": null,
            "border": null,
            "align_items": null,
            "bottom": null,
            "_model_module": "@jupyter-widgets/base",
            "top": null,
            "grid_column": null,
            "overflow_y": null,
            "overflow_x": null,
            "grid_auto_flow": null,
            "grid_area": null,
            "grid_template_columns": null,
            "flex": null,
            "_model_name": "LayoutModel",
            "justify_items": null,
            "grid_row": null,
            "max_height": null,
            "align_content": null,
            "visibility": null,
            "align_self": null,
            "height": null,
            "min_height": null,
            "padding": null,
            "grid_auto_rows": null,
            "grid_gap": null,
            "max_width": null,
            "order": null,
            "_view_module_version": "1.2.0",
            "grid_template_areas": null,
            "object_position": null,
            "object_fit": null,
            "grid_auto_columns": null,
            "margin": null,
            "display": null,
            "left": null
          }
        },
        "4c602b8027c644b2b7aec84761df0e79": {
          "model_module": "@jupyter-widgets/controls",
          "model_name": "HTMLModel",
          "model_module_version": "1.5.0",
          "state": {
            "_view_name": "HTMLView",
            "style": "IPY_MODEL_d1756918225a4fc5bf7c5857b85a3bae",
            "_dom_classes": [],
            "description": "",
            "_model_name": "HTMLModel",
            "placeholder": "​",
            "_view_module": "@jupyter-widgets/controls",
            "_model_module_version": "1.5.0",
            "value": "Downloading: 100%",
            "_view_count": null,
            "_view_module_version": "1.5.0",
            "description_tooltip": null,
            "_model_module": "@jupyter-widgets/controls",
            "layout": "IPY_MODEL_366d1f044b6d4190ae402e503e450a9e"
          }
        },
        "d7634ead84694d368ff414af01597073": {
          "model_module": "@jupyter-widgets/controls",
          "model_name": "FloatProgressModel",
          "model_module_version": "1.5.0",
          "state": {
            "_view_name": "ProgressView",
            "style": "IPY_MODEL_e4c64e8bcabb4e1891aa939e0fdab54b",
            "_dom_classes": [],
            "description": "",
            "_model_name": "FloatProgressModel",
            "bar_style": "success",
            "max": 437992753,
            "_view_module": "@jupyter-widgets/controls",
            "_model_module_version": "1.5.0",
            "value": 437992753,
            "_view_count": null,
            "_view_module_version": "1.5.0",
            "orientation": "horizontal",
            "min": 0,
            "description_tooltip": null,
            "_model_module": "@jupyter-widgets/controls",
            "layout": "IPY_MODEL_030c5ec9dcde40238aa5323f537d0aaf"
          }
        },
        "06904dc6ff0c4db89ffaa5f915840ebb": {
          "model_module": "@jupyter-widgets/controls",
          "model_name": "HTMLModel",
          "model_module_version": "1.5.0",
          "state": {
            "_view_name": "HTMLView",
            "style": "IPY_MODEL_8fb89c238ae6413680fd752c2d454903",
            "_dom_classes": [],
            "description": "",
            "_model_name": "HTMLModel",
            "placeholder": "​",
            "_view_module": "@jupyter-widgets/controls",
            "_model_module_version": "1.5.0",
            "value": " 438M/438M [00:11&lt;00:00, 40.9MB/s]",
            "_view_count": null,
            "_view_module_version": "1.5.0",
            "description_tooltip": null,
            "_model_module": "@jupyter-widgets/controls",
            "layout": "IPY_MODEL_dde51d2b8e154946aae6c21e752e4fa2"
          }
        },
        "d1756918225a4fc5bf7c5857b85a3bae": {
          "model_module": "@jupyter-widgets/controls",
          "model_name": "DescriptionStyleModel",
          "model_module_version": "1.5.0",
          "state": {
            "_view_name": "StyleView",
            "_model_name": "DescriptionStyleModel",
            "description_width": "",
            "_view_module": "@jupyter-widgets/base",
            "_model_module_version": "1.5.0",
            "_view_count": null,
            "_view_module_version": "1.2.0",
            "_model_module": "@jupyter-widgets/controls"
          }
        },
        "366d1f044b6d4190ae402e503e450a9e": {
          "model_module": "@jupyter-widgets/base",
          "model_name": "LayoutModel",
          "model_module_version": "1.2.0",
          "state": {
            "_view_name": "LayoutView",
            "grid_template_rows": null,
            "right": null,
            "justify_content": null,
            "_view_module": "@jupyter-widgets/base",
            "overflow": null,
            "_model_module_version": "1.2.0",
            "_view_count": null,
            "flex_flow": null,
            "width": null,
            "min_width": null,
            "border": null,
            "align_items": null,
            "bottom": null,
            "_model_module": "@jupyter-widgets/base",
            "top": null,
            "grid_column": null,
            "overflow_y": null,
            "overflow_x": null,
            "grid_auto_flow": null,
            "grid_area": null,
            "grid_template_columns": null,
            "flex": null,
            "_model_name": "LayoutModel",
            "justify_items": null,
            "grid_row": null,
            "max_height": null,
            "align_content": null,
            "visibility": null,
            "align_self": null,
            "height": null,
            "min_height": null,
            "padding": null,
            "grid_auto_rows": null,
            "grid_gap": null,
            "max_width": null,
            "order": null,
            "_view_module_version": "1.2.0",
            "grid_template_areas": null,
            "object_position": null,
            "object_fit": null,
            "grid_auto_columns": null,
            "margin": null,
            "display": null,
            "left": null
          }
        },
        "e4c64e8bcabb4e1891aa939e0fdab54b": {
          "model_module": "@jupyter-widgets/controls",
          "model_name": "ProgressStyleModel",
          "model_module_version": "1.5.0",
          "state": {
            "_view_name": "StyleView",
            "_model_name": "ProgressStyleModel",
            "description_width": "",
            "_view_module": "@jupyter-widgets/base",
            "_model_module_version": "1.5.0",
            "_view_count": null,
            "_view_module_version": "1.2.0",
            "bar_color": null,
            "_model_module": "@jupyter-widgets/controls"
          }
        },
        "030c5ec9dcde40238aa5323f537d0aaf": {
          "model_module": "@jupyter-widgets/base",
          "model_name": "LayoutModel",
          "model_module_version": "1.2.0",
          "state": {
            "_view_name": "LayoutView",
            "grid_template_rows": null,
            "right": null,
            "justify_content": null,
            "_view_module": "@jupyter-widgets/base",
            "overflow": null,
            "_model_module_version": "1.2.0",
            "_view_count": null,
            "flex_flow": null,
            "width": null,
            "min_width": null,
            "border": null,
            "align_items": null,
            "bottom": null,
            "_model_module": "@jupyter-widgets/base",
            "top": null,
            "grid_column": null,
            "overflow_y": null,
            "overflow_x": null,
            "grid_auto_flow": null,
            "grid_area": null,
            "grid_template_columns": null,
            "flex": null,
            "_model_name": "LayoutModel",
            "justify_items": null,
            "grid_row": null,
            "max_height": null,
            "align_content": null,
            "visibility": null,
            "align_self": null,
            "height": null,
            "min_height": null,
            "padding": null,
            "grid_auto_rows": null,
            "grid_gap": null,
            "max_width": null,
            "order": null,
            "_view_module_version": "1.2.0",
            "grid_template_areas": null,
            "object_position": null,
            "object_fit": null,
            "grid_auto_columns": null,
            "margin": null,
            "display": null,
            "left": null
          }
        },
        "8fb89c238ae6413680fd752c2d454903": {
          "model_module": "@jupyter-widgets/controls",
          "model_name": "DescriptionStyleModel",
          "model_module_version": "1.5.0",
          "state": {
            "_view_name": "StyleView",
            "_model_name": "DescriptionStyleModel",
            "description_width": "",
            "_view_module": "@jupyter-widgets/base",
            "_model_module_version": "1.5.0",
            "_view_count": null,
            "_view_module_version": "1.2.0",
            "_model_module": "@jupyter-widgets/controls"
          }
        },
        "dde51d2b8e154946aae6c21e752e4fa2": {
          "model_module": "@jupyter-widgets/base",
          "model_name": "LayoutModel",
          "model_module_version": "1.2.0",
          "state": {
            "_view_name": "LayoutView",
            "grid_template_rows": null,
            "right": null,
            "justify_content": null,
            "_view_module": "@jupyter-widgets/base",
            "overflow": null,
            "_model_module_version": "1.2.0",
            "_view_count": null,
            "flex_flow": null,
            "width": null,
            "min_width": null,
            "border": null,
            "align_items": null,
            "bottom": null,
            "_model_module": "@jupyter-widgets/base",
            "top": null,
            "grid_column": null,
            "overflow_y": null,
            "overflow_x": null,
            "grid_auto_flow": null,
            "grid_area": null,
            "grid_template_columns": null,
            "flex": null,
            "_model_name": "LayoutModel",
            "justify_items": null,
            "grid_row": null,
            "max_height": null,
            "align_content": null,
            "visibility": null,
            "align_self": null,
            "height": null,
            "min_height": null,
            "padding": null,
            "grid_auto_rows": null,
            "grid_gap": null,
            "max_width": null,
            "order": null,
            "_view_module_version": "1.2.0",
            "grid_template_areas": null,
            "object_position": null,
            "object_fit": null,
            "grid_auto_columns": null,
            "margin": null,
            "display": null,
            "left": null
          }
        },
        "7791e4e44acb481394539d7f928b2ef5": {
          "model_module": "@jupyter-widgets/controls",
          "model_name": "HBoxModel",
          "model_module_version": "1.5.0",
          "state": {
            "_view_name": "HBoxView",
            "_dom_classes": [],
            "_model_name": "HBoxModel",
            "_view_module": "@jupyter-widgets/controls",
            "_model_module_version": "1.5.0",
            "_view_count": null,
            "_view_module_version": "1.5.0",
            "box_style": "",
            "layout": "IPY_MODEL_f7f5fdceca534cc08ed4d35b734397d3",
            "_model_module": "@jupyter-widgets/controls",
            "children": [
              "IPY_MODEL_72926d272275457c80a66dd1b6dc5f58",
              "IPY_MODEL_42bde909948f4d189a0f7e093e21c15b",
              "IPY_MODEL_78482c642ac34d18b4380cd995a7b78a"
            ]
          }
        },
        "f7f5fdceca534cc08ed4d35b734397d3": {
          "model_module": "@jupyter-widgets/base",
          "model_name": "LayoutModel",
          "model_module_version": "1.2.0",
          "state": {
            "_view_name": "LayoutView",
            "grid_template_rows": null,
            "right": null,
            "justify_content": null,
            "_view_module": "@jupyter-widgets/base",
            "overflow": null,
            "_model_module_version": "1.2.0",
            "_view_count": null,
            "flex_flow": null,
            "width": null,
            "min_width": null,
            "border": null,
            "align_items": null,
            "bottom": null,
            "_model_module": "@jupyter-widgets/base",
            "top": null,
            "grid_column": null,
            "overflow_y": null,
            "overflow_x": null,
            "grid_auto_flow": null,
            "grid_area": null,
            "grid_template_columns": null,
            "flex": null,
            "_model_name": "LayoutModel",
            "justify_items": null,
            "grid_row": null,
            "max_height": null,
            "align_content": null,
            "visibility": null,
            "align_self": null,
            "height": null,
            "min_height": null,
            "padding": null,
            "grid_auto_rows": null,
            "grid_gap": null,
            "max_width": null,
            "order": null,
            "_view_module_version": "1.2.0",
            "grid_template_areas": null,
            "object_position": null,
            "object_fit": null,
            "grid_auto_columns": null,
            "margin": null,
            "display": null,
            "left": null
          }
        },
        "72926d272275457c80a66dd1b6dc5f58": {
          "model_module": "@jupyter-widgets/controls",
          "model_name": "HTMLModel",
          "model_module_version": "1.5.0",
          "state": {
            "_view_name": "HTMLView",
            "style": "IPY_MODEL_e3a8d35ff33b4ebe858683f900775e2c",
            "_dom_classes": [],
            "description": "",
            "_model_name": "HTMLModel",
            "placeholder": "​",
            "_view_module": "@jupyter-widgets/controls",
            "_model_module_version": "1.5.0",
            "value": "Downloading: 100%",
            "_view_count": null,
            "_view_module_version": "1.5.0",
            "description_tooltip": null,
            "_model_module": "@jupyter-widgets/controls",
            "layout": "IPY_MODEL_c53314fd9f514652befce37f421918e4"
          }
        },
        "42bde909948f4d189a0f7e093e21c15b": {
          "model_module": "@jupyter-widgets/controls",
          "model_name": "FloatProgressModel",
          "model_module_version": "1.5.0",
          "state": {
            "_view_name": "ProgressView",
            "style": "IPY_MODEL_63d6b1e3a45547148bdef00462caca07",
            "_dom_classes": [],
            "description": "",
            "_model_name": "FloatProgressModel",
            "bar_style": "success",
            "max": 231508,
            "_view_module": "@jupyter-widgets/controls",
            "_model_module_version": "1.5.0",
            "value": 231508,
            "_view_count": null,
            "_view_module_version": "1.5.0",
            "orientation": "horizontal",
            "min": 0,
            "description_tooltip": null,
            "_model_module": "@jupyter-widgets/controls",
            "layout": "IPY_MODEL_d22894d0ffbd43bebfceed69475f2034"
          }
        },
        "78482c642ac34d18b4380cd995a7b78a": {
          "model_module": "@jupyter-widgets/controls",
          "model_name": "HTMLModel",
          "model_module_version": "1.5.0",
          "state": {
            "_view_name": "HTMLView",
            "style": "IPY_MODEL_e0ae6b6f952549ef91d068e936094720",
            "_dom_classes": [],
            "description": "",
            "_model_name": "HTMLModel",
            "placeholder": "​",
            "_view_module": "@jupyter-widgets/controls",
            "_model_module_version": "1.5.0",
            "value": " 232k/232k [00:00&lt;00:00, 1.07MB/s]",
            "_view_count": null,
            "_view_module_version": "1.5.0",
            "description_tooltip": null,
            "_model_module": "@jupyter-widgets/controls",
            "layout": "IPY_MODEL_227f3e84ee6a4b549477fb8c4476b4db"
          }
        },
        "e3a8d35ff33b4ebe858683f900775e2c": {
          "model_module": "@jupyter-widgets/controls",
          "model_name": "DescriptionStyleModel",
          "model_module_version": "1.5.0",
          "state": {
            "_view_name": "StyleView",
            "_model_name": "DescriptionStyleModel",
            "description_width": "",
            "_view_module": "@jupyter-widgets/base",
            "_model_module_version": "1.5.0",
            "_view_count": null,
            "_view_module_version": "1.2.0",
            "_model_module": "@jupyter-widgets/controls"
          }
        },
        "c53314fd9f514652befce37f421918e4": {
          "model_module": "@jupyter-widgets/base",
          "model_name": "LayoutModel",
          "model_module_version": "1.2.0",
          "state": {
            "_view_name": "LayoutView",
            "grid_template_rows": null,
            "right": null,
            "justify_content": null,
            "_view_module": "@jupyter-widgets/base",
            "overflow": null,
            "_model_module_version": "1.2.0",
            "_view_count": null,
            "flex_flow": null,
            "width": null,
            "min_width": null,
            "border": null,
            "align_items": null,
            "bottom": null,
            "_model_module": "@jupyter-widgets/base",
            "top": null,
            "grid_column": null,
            "overflow_y": null,
            "overflow_x": null,
            "grid_auto_flow": null,
            "grid_area": null,
            "grid_template_columns": null,
            "flex": null,
            "_model_name": "LayoutModel",
            "justify_items": null,
            "grid_row": null,
            "max_height": null,
            "align_content": null,
            "visibility": null,
            "align_self": null,
            "height": null,
            "min_height": null,
            "padding": null,
            "grid_auto_rows": null,
            "grid_gap": null,
            "max_width": null,
            "order": null,
            "_view_module_version": "1.2.0",
            "grid_template_areas": null,
            "object_position": null,
            "object_fit": null,
            "grid_auto_columns": null,
            "margin": null,
            "display": null,
            "left": null
          }
        },
        "63d6b1e3a45547148bdef00462caca07": {
          "model_module": "@jupyter-widgets/controls",
          "model_name": "ProgressStyleModel",
          "model_module_version": "1.5.0",
          "state": {
            "_view_name": "StyleView",
            "_model_name": "ProgressStyleModel",
            "description_width": "",
            "_view_module": "@jupyter-widgets/base",
            "_model_module_version": "1.5.0",
            "_view_count": null,
            "_view_module_version": "1.2.0",
            "bar_color": null,
            "_model_module": "@jupyter-widgets/controls"
          }
        },
        "d22894d0ffbd43bebfceed69475f2034": {
          "model_module": "@jupyter-widgets/base",
          "model_name": "LayoutModel",
          "model_module_version": "1.2.0",
          "state": {
            "_view_name": "LayoutView",
            "grid_template_rows": null,
            "right": null,
            "justify_content": null,
            "_view_module": "@jupyter-widgets/base",
            "overflow": null,
            "_model_module_version": "1.2.0",
            "_view_count": null,
            "flex_flow": null,
            "width": null,
            "min_width": null,
            "border": null,
            "align_items": null,
            "bottom": null,
            "_model_module": "@jupyter-widgets/base",
            "top": null,
            "grid_column": null,
            "overflow_y": null,
            "overflow_x": null,
            "grid_auto_flow": null,
            "grid_area": null,
            "grid_template_columns": null,
            "flex": null,
            "_model_name": "LayoutModel",
            "justify_items": null,
            "grid_row": null,
            "max_height": null,
            "align_content": null,
            "visibility": null,
            "align_self": null,
            "height": null,
            "min_height": null,
            "padding": null,
            "grid_auto_rows": null,
            "grid_gap": null,
            "max_width": null,
            "order": null,
            "_view_module_version": "1.2.0",
            "grid_template_areas": null,
            "object_position": null,
            "object_fit": null,
            "grid_auto_columns": null,
            "margin": null,
            "display": null,
            "left": null
          }
        },
        "e0ae6b6f952549ef91d068e936094720": {
          "model_module": "@jupyter-widgets/controls",
          "model_name": "DescriptionStyleModel",
          "model_module_version": "1.5.0",
          "state": {
            "_view_name": "StyleView",
            "_model_name": "DescriptionStyleModel",
            "description_width": "",
            "_view_module": "@jupyter-widgets/base",
            "_model_module_version": "1.5.0",
            "_view_count": null,
            "_view_module_version": "1.2.0",
            "_model_module": "@jupyter-widgets/controls"
          }
        },
        "227f3e84ee6a4b549477fb8c4476b4db": {
          "model_module": "@jupyter-widgets/base",
          "model_name": "LayoutModel",
          "model_module_version": "1.2.0",
          "state": {
            "_view_name": "LayoutView",
            "grid_template_rows": null,
            "right": null,
            "justify_content": null,
            "_view_module": "@jupyter-widgets/base",
            "overflow": null,
            "_model_module_version": "1.2.0",
            "_view_count": null,
            "flex_flow": null,
            "width": null,
            "min_width": null,
            "border": null,
            "align_items": null,
            "bottom": null,
            "_model_module": "@jupyter-widgets/base",
            "top": null,
            "grid_column": null,
            "overflow_y": null,
            "overflow_x": null,
            "grid_auto_flow": null,
            "grid_area": null,
            "grid_template_columns": null,
            "flex": null,
            "_model_name": "LayoutModel",
            "justify_items": null,
            "grid_row": null,
            "max_height": null,
            "align_content": null,
            "visibility": null,
            "align_self": null,
            "height": null,
            "min_height": null,
            "padding": null,
            "grid_auto_rows": null,
            "grid_gap": null,
            "max_width": null,
            "order": null,
            "_view_module_version": "1.2.0",
            "grid_template_areas": null,
            "object_position": null,
            "object_fit": null,
            "grid_auto_columns": null,
            "margin": null,
            "display": null,
            "left": null
          }
        },
        "1ba0a5726b8643a7b3c15415bd336208": {
          "model_module": "@jupyter-widgets/controls",
          "model_name": "HBoxModel",
          "model_module_version": "1.5.0",
          "state": {
            "_view_name": "HBoxView",
            "_dom_classes": [],
            "_model_name": "HBoxModel",
            "_view_module": "@jupyter-widgets/controls",
            "_model_module_version": "1.5.0",
            "_view_count": null,
            "_view_module_version": "1.5.0",
            "box_style": "",
            "layout": "IPY_MODEL_248f00b4bbcd44a6b640ceff86d33269",
            "_model_module": "@jupyter-widgets/controls",
            "children": [
              "IPY_MODEL_a449a545e46f401c8836132234b30fc8",
              "IPY_MODEL_ada227d6ca724ac7ba7fdb8289266e44",
              "IPY_MODEL_752fad39bb4c46c1b12628b83218e00c"
            ]
          }
        },
        "248f00b4bbcd44a6b640ceff86d33269": {
          "model_module": "@jupyter-widgets/base",
          "model_name": "LayoutModel",
          "model_module_version": "1.2.0",
          "state": {
            "_view_name": "LayoutView",
            "grid_template_rows": null,
            "right": null,
            "justify_content": null,
            "_view_module": "@jupyter-widgets/base",
            "overflow": null,
            "_model_module_version": "1.2.0",
            "_view_count": null,
            "flex_flow": null,
            "width": null,
            "min_width": null,
            "border": null,
            "align_items": null,
            "bottom": null,
            "_model_module": "@jupyter-widgets/base",
            "top": null,
            "grid_column": null,
            "overflow_y": null,
            "overflow_x": null,
            "grid_auto_flow": null,
            "grid_area": null,
            "grid_template_columns": null,
            "flex": null,
            "_model_name": "LayoutModel",
            "justify_items": null,
            "grid_row": null,
            "max_height": null,
            "align_content": null,
            "visibility": null,
            "align_self": null,
            "height": null,
            "min_height": null,
            "padding": null,
            "grid_auto_rows": null,
            "grid_gap": null,
            "max_width": null,
            "order": null,
            "_view_module_version": "1.2.0",
            "grid_template_areas": null,
            "object_position": null,
            "object_fit": null,
            "grid_auto_columns": null,
            "margin": null,
            "display": null,
            "left": null
          }
        },
        "a449a545e46f401c8836132234b30fc8": {
          "model_module": "@jupyter-widgets/controls",
          "model_name": "HTMLModel",
          "model_module_version": "1.5.0",
          "state": {
            "_view_name": "HTMLView",
            "style": "IPY_MODEL_eec35f71175a4693bf4b63cf3fd27e43",
            "_dom_classes": [],
            "description": "",
            "_model_name": "HTMLModel",
            "placeholder": "​",
            "_view_module": "@jupyter-widgets/controls",
            "_model_module_version": "1.5.0",
            "value": "Downloading: 100%",
            "_view_count": null,
            "_view_module_version": "1.5.0",
            "description_tooltip": null,
            "_model_module": "@jupyter-widgets/controls",
            "layout": "IPY_MODEL_217150d9f7ba48d3a75cadf740b20635"
          }
        },
        "ada227d6ca724ac7ba7fdb8289266e44": {
          "model_module": "@jupyter-widgets/controls",
          "model_name": "FloatProgressModel",
          "model_module_version": "1.5.0",
          "state": {
            "_view_name": "ProgressView",
            "style": "IPY_MODEL_cb424810a8bd480fa6446a2cad4eae2c",
            "_dom_classes": [],
            "description": "",
            "_model_name": "FloatProgressModel",
            "bar_style": "success",
            "max": 112,
            "_view_module": "@jupyter-widgets/controls",
            "_model_module_version": "1.5.0",
            "value": 112,
            "_view_count": null,
            "_view_module_version": "1.5.0",
            "orientation": "horizontal",
            "min": 0,
            "description_tooltip": null,
            "_model_module": "@jupyter-widgets/controls",
            "layout": "IPY_MODEL_31eea0a7098447cf87bdd8c18b4a7ff5"
          }
        },
        "752fad39bb4c46c1b12628b83218e00c": {
          "model_module": "@jupyter-widgets/controls",
          "model_name": "HTMLModel",
          "model_module_version": "1.5.0",
          "state": {
            "_view_name": "HTMLView",
            "style": "IPY_MODEL_407250f0581849b6bb078444f6238b58",
            "_dom_classes": [],
            "description": "",
            "_model_name": "HTMLModel",
            "placeholder": "​",
            "_view_module": "@jupyter-widgets/controls",
            "_model_module_version": "1.5.0",
            "value": " 112/112 [00:00&lt;00:00, 2.71kB/s]",
            "_view_count": null,
            "_view_module_version": "1.5.0",
            "description_tooltip": null,
            "_model_module": "@jupyter-widgets/controls",
            "layout": "IPY_MODEL_b4410dc549c0445abe7a3472cdff40d0"
          }
        },
        "eec35f71175a4693bf4b63cf3fd27e43": {
          "model_module": "@jupyter-widgets/controls",
          "model_name": "DescriptionStyleModel",
          "model_module_version": "1.5.0",
          "state": {
            "_view_name": "StyleView",
            "_model_name": "DescriptionStyleModel",
            "description_width": "",
            "_view_module": "@jupyter-widgets/base",
            "_model_module_version": "1.5.0",
            "_view_count": null,
            "_view_module_version": "1.2.0",
            "_model_module": "@jupyter-widgets/controls"
          }
        },
        "217150d9f7ba48d3a75cadf740b20635": {
          "model_module": "@jupyter-widgets/base",
          "model_name": "LayoutModel",
          "model_module_version": "1.2.0",
          "state": {
            "_view_name": "LayoutView",
            "grid_template_rows": null,
            "right": null,
            "justify_content": null,
            "_view_module": "@jupyter-widgets/base",
            "overflow": null,
            "_model_module_version": "1.2.0",
            "_view_count": null,
            "flex_flow": null,
            "width": null,
            "min_width": null,
            "border": null,
            "align_items": null,
            "bottom": null,
            "_model_module": "@jupyter-widgets/base",
            "top": null,
            "grid_column": null,
            "overflow_y": null,
            "overflow_x": null,
            "grid_auto_flow": null,
            "grid_area": null,
            "grid_template_columns": null,
            "flex": null,
            "_model_name": "LayoutModel",
            "justify_items": null,
            "grid_row": null,
            "max_height": null,
            "align_content": null,
            "visibility": null,
            "align_self": null,
            "height": null,
            "min_height": null,
            "padding": null,
            "grid_auto_rows": null,
            "grid_gap": null,
            "max_width": null,
            "order": null,
            "_view_module_version": "1.2.0",
            "grid_template_areas": null,
            "object_position": null,
            "object_fit": null,
            "grid_auto_columns": null,
            "margin": null,
            "display": null,
            "left": null
          }
        },
        "cb424810a8bd480fa6446a2cad4eae2c": {
          "model_module": "@jupyter-widgets/controls",
          "model_name": "ProgressStyleModel",
          "model_module_version": "1.5.0",
          "state": {
            "_view_name": "StyleView",
            "_model_name": "ProgressStyleModel",
            "description_width": "",
            "_view_module": "@jupyter-widgets/base",
            "_model_module_version": "1.5.0",
            "_view_count": null,
            "_view_module_version": "1.2.0",
            "bar_color": null,
            "_model_module": "@jupyter-widgets/controls"
          }
        },
        "31eea0a7098447cf87bdd8c18b4a7ff5": {
          "model_module": "@jupyter-widgets/base",
          "model_name": "LayoutModel",
          "model_module_version": "1.2.0",
          "state": {
            "_view_name": "LayoutView",
            "grid_template_rows": null,
            "right": null,
            "justify_content": null,
            "_view_module": "@jupyter-widgets/base",
            "overflow": null,
            "_model_module_version": "1.2.0",
            "_view_count": null,
            "flex_flow": null,
            "width": null,
            "min_width": null,
            "border": null,
            "align_items": null,
            "bottom": null,
            "_model_module": "@jupyter-widgets/base",
            "top": null,
            "grid_column": null,
            "overflow_y": null,
            "overflow_x": null,
            "grid_auto_flow": null,
            "grid_area": null,
            "grid_template_columns": null,
            "flex": null,
            "_model_name": "LayoutModel",
            "justify_items": null,
            "grid_row": null,
            "max_height": null,
            "align_content": null,
            "visibility": null,
            "align_self": null,
            "height": null,
            "min_height": null,
            "padding": null,
            "grid_auto_rows": null,
            "grid_gap": null,
            "max_width": null,
            "order": null,
            "_view_module_version": "1.2.0",
            "grid_template_areas": null,
            "object_position": null,
            "object_fit": null,
            "grid_auto_columns": null,
            "margin": null,
            "display": null,
            "left": null
          }
        },
        "407250f0581849b6bb078444f6238b58": {
          "model_module": "@jupyter-widgets/controls",
          "model_name": "DescriptionStyleModel",
          "model_module_version": "1.5.0",
          "state": {
            "_view_name": "StyleView",
            "_model_name": "DescriptionStyleModel",
            "description_width": "",
            "_view_module": "@jupyter-widgets/base",
            "_model_module_version": "1.5.0",
            "_view_count": null,
            "_view_module_version": "1.2.0",
            "_model_module": "@jupyter-widgets/controls"
          }
        },
        "b4410dc549c0445abe7a3472cdff40d0": {
          "model_module": "@jupyter-widgets/base",
          "model_name": "LayoutModel",
          "model_module_version": "1.2.0",
          "state": {
            "_view_name": "LayoutView",
            "grid_template_rows": null,
            "right": null,
            "justify_content": null,
            "_view_module": "@jupyter-widgets/base",
            "overflow": null,
            "_model_module_version": "1.2.0",
            "_view_count": null,
            "flex_flow": null,
            "width": null,
            "min_width": null,
            "border": null,
            "align_items": null,
            "bottom": null,
            "_model_module": "@jupyter-widgets/base",
            "top": null,
            "grid_column": null,
            "overflow_y": null,
            "overflow_x": null,
            "grid_auto_flow": null,
            "grid_area": null,
            "grid_template_columns": null,
            "flex": null,
            "_model_name": "LayoutModel",
            "justify_items": null,
            "grid_row": null,
            "max_height": null,
            "align_content": null,
            "visibility": null,
            "align_self": null,
            "height": null,
            "min_height": null,
            "padding": null,
            "grid_auto_rows": null,
            "grid_gap": null,
            "max_width": null,
            "order": null,
            "_view_module_version": "1.2.0",
            "grid_template_areas": null,
            "object_position": null,
            "object_fit": null,
            "grid_auto_columns": null,
            "margin": null,
            "display": null,
            "left": null
          }
        },
        "2a2cbad0101e464281b0c759362cce74": {
          "model_module": "@jupyter-widgets/controls",
          "model_name": "HBoxModel",
          "model_module_version": "1.5.0",
          "state": {
            "_view_name": "HBoxView",
            "_dom_classes": [],
            "_model_name": "HBoxModel",
            "_view_module": "@jupyter-widgets/controls",
            "_model_module_version": "1.5.0",
            "_view_count": null,
            "_view_module_version": "1.5.0",
            "box_style": "",
            "layout": "IPY_MODEL_103a3e2f0280448ba739d72849439d36",
            "_model_module": "@jupyter-widgets/controls",
            "children": [
              "IPY_MODEL_b3d5bc5d04274c96aa4b0db8d239b5a3",
              "IPY_MODEL_7eed7c162f50459297292aa4130d6bf5",
              "IPY_MODEL_632a00d4fa104385b3c8843c8023b8a9"
            ]
          }
        },
        "103a3e2f0280448ba739d72849439d36": {
          "model_module": "@jupyter-widgets/base",
          "model_name": "LayoutModel",
          "model_module_version": "1.2.0",
          "state": {
            "_view_name": "LayoutView",
            "grid_template_rows": null,
            "right": null,
            "justify_content": null,
            "_view_module": "@jupyter-widgets/base",
            "overflow": null,
            "_model_module_version": "1.2.0",
            "_view_count": null,
            "flex_flow": null,
            "width": null,
            "min_width": null,
            "border": null,
            "align_items": null,
            "bottom": null,
            "_model_module": "@jupyter-widgets/base",
            "top": null,
            "grid_column": null,
            "overflow_y": null,
            "overflow_x": null,
            "grid_auto_flow": null,
            "grid_area": null,
            "grid_template_columns": null,
            "flex": null,
            "_model_name": "LayoutModel",
            "justify_items": null,
            "grid_row": null,
            "max_height": null,
            "align_content": null,
            "visibility": null,
            "align_self": null,
            "height": null,
            "min_height": null,
            "padding": null,
            "grid_auto_rows": null,
            "grid_gap": null,
            "max_width": null,
            "order": null,
            "_view_module_version": "1.2.0",
            "grid_template_areas": null,
            "object_position": null,
            "object_fit": null,
            "grid_auto_columns": null,
            "margin": null,
            "display": null,
            "left": null
          }
        },
        "b3d5bc5d04274c96aa4b0db8d239b5a3": {
          "model_module": "@jupyter-widgets/controls",
          "model_name": "HTMLModel",
          "model_module_version": "1.5.0",
          "state": {
            "_view_name": "HTMLView",
            "style": "IPY_MODEL_02ff534dd35e43bfb07c4dd28d8c96d4",
            "_dom_classes": [],
            "description": "",
            "_model_name": "HTMLModel",
            "placeholder": "​",
            "_view_module": "@jupyter-widgets/controls",
            "_model_module_version": "1.5.0",
            "value": "Downloading: 100%",
            "_view_count": null,
            "_view_module_version": "1.5.0",
            "description_tooltip": null,
            "_model_module": "@jupyter-widgets/controls",
            "layout": "IPY_MODEL_f11bbafe72b34c1cb7b42e619706c1d2"
          }
        },
        "7eed7c162f50459297292aa4130d6bf5": {
          "model_module": "@jupyter-widgets/controls",
          "model_name": "FloatProgressModel",
          "model_module_version": "1.5.0",
          "state": {
            "_view_name": "ProgressView",
            "style": "IPY_MODEL_2a80dfab629342c0a45570b864e2156d",
            "_dom_classes": [],
            "description": "",
            "_model_name": "FloatProgressModel",
            "bar_style": "success",
            "max": 252,
            "_view_module": "@jupyter-widgets/controls",
            "_model_module_version": "1.5.0",
            "value": 252,
            "_view_count": null,
            "_view_module_version": "1.5.0",
            "orientation": "horizontal",
            "min": 0,
            "description_tooltip": null,
            "_model_module": "@jupyter-widgets/controls",
            "layout": "IPY_MODEL_2e7f4c6ba105413b8f8d071031a49475"
          }
        },
        "632a00d4fa104385b3c8843c8023b8a9": {
          "model_module": "@jupyter-widgets/controls",
          "model_name": "HTMLModel",
          "model_module_version": "1.5.0",
          "state": {
            "_view_name": "HTMLView",
            "style": "IPY_MODEL_b6ef3930307744178b7a29285b5fd254",
            "_dom_classes": [],
            "description": "",
            "_model_name": "HTMLModel",
            "placeholder": "​",
            "_view_module": "@jupyter-widgets/controls",
            "_model_module_version": "1.5.0",
            "value": " 252/252 [00:00&lt;00:00, 5.79kB/s]",
            "_view_count": null,
            "_view_module_version": "1.5.0",
            "description_tooltip": null,
            "_model_module": "@jupyter-widgets/controls",
            "layout": "IPY_MODEL_09a864ed09794c6f802f4e9ff9425110"
          }
        },
        "02ff534dd35e43bfb07c4dd28d8c96d4": {
          "model_module": "@jupyter-widgets/controls",
          "model_name": "DescriptionStyleModel",
          "model_module_version": "1.5.0",
          "state": {
            "_view_name": "StyleView",
            "_model_name": "DescriptionStyleModel",
            "description_width": "",
            "_view_module": "@jupyter-widgets/base",
            "_model_module_version": "1.5.0",
            "_view_count": null,
            "_view_module_version": "1.2.0",
            "_model_module": "@jupyter-widgets/controls"
          }
        },
        "f11bbafe72b34c1cb7b42e619706c1d2": {
          "model_module": "@jupyter-widgets/base",
          "model_name": "LayoutModel",
          "model_module_version": "1.2.0",
          "state": {
            "_view_name": "LayoutView",
            "grid_template_rows": null,
            "right": null,
            "justify_content": null,
            "_view_module": "@jupyter-widgets/base",
            "overflow": null,
            "_model_module_version": "1.2.0",
            "_view_count": null,
            "flex_flow": null,
            "width": null,
            "min_width": null,
            "border": null,
            "align_items": null,
            "bottom": null,
            "_model_module": "@jupyter-widgets/base",
            "top": null,
            "grid_column": null,
            "overflow_y": null,
            "overflow_x": null,
            "grid_auto_flow": null,
            "grid_area": null,
            "grid_template_columns": null,
            "flex": null,
            "_model_name": "LayoutModel",
            "justify_items": null,
            "grid_row": null,
            "max_height": null,
            "align_content": null,
            "visibility": null,
            "align_self": null,
            "height": null,
            "min_height": null,
            "padding": null,
            "grid_auto_rows": null,
            "grid_gap": null,
            "max_width": null,
            "order": null,
            "_view_module_version": "1.2.0",
            "grid_template_areas": null,
            "object_position": null,
            "object_fit": null,
            "grid_auto_columns": null,
            "margin": null,
            "display": null,
            "left": null
          }
        },
        "2a80dfab629342c0a45570b864e2156d": {
          "model_module": "@jupyter-widgets/controls",
          "model_name": "ProgressStyleModel",
          "model_module_version": "1.5.0",
          "state": {
            "_view_name": "StyleView",
            "_model_name": "ProgressStyleModel",
            "description_width": "",
            "_view_module": "@jupyter-widgets/base",
            "_model_module_version": "1.5.0",
            "_view_count": null,
            "_view_module_version": "1.2.0",
            "bar_color": null,
            "_model_module": "@jupyter-widgets/controls"
          }
        },
        "2e7f4c6ba105413b8f8d071031a49475": {
          "model_module": "@jupyter-widgets/base",
          "model_name": "LayoutModel",
          "model_module_version": "1.2.0",
          "state": {
            "_view_name": "LayoutView",
            "grid_template_rows": null,
            "right": null,
            "justify_content": null,
            "_view_module": "@jupyter-widgets/base",
            "overflow": null,
            "_model_module_version": "1.2.0",
            "_view_count": null,
            "flex_flow": null,
            "width": null,
            "min_width": null,
            "border": null,
            "align_items": null,
            "bottom": null,
            "_model_module": "@jupyter-widgets/base",
            "top": null,
            "grid_column": null,
            "overflow_y": null,
            "overflow_x": null,
            "grid_auto_flow": null,
            "grid_area": null,
            "grid_template_columns": null,
            "flex": null,
            "_model_name": "LayoutModel",
            "justify_items": null,
            "grid_row": null,
            "max_height": null,
            "align_content": null,
            "visibility": null,
            "align_self": null,
            "height": null,
            "min_height": null,
            "padding": null,
            "grid_auto_rows": null,
            "grid_gap": null,
            "max_width": null,
            "order": null,
            "_view_module_version": "1.2.0",
            "grid_template_areas": null,
            "object_position": null,
            "object_fit": null,
            "grid_auto_columns": null,
            "margin": null,
            "display": null,
            "left": null
          }
        },
        "b6ef3930307744178b7a29285b5fd254": {
          "model_module": "@jupyter-widgets/controls",
          "model_name": "DescriptionStyleModel",
          "model_module_version": "1.5.0",
          "state": {
            "_view_name": "StyleView",
            "_model_name": "DescriptionStyleModel",
            "description_width": "",
            "_view_module": "@jupyter-widgets/base",
            "_model_module_version": "1.5.0",
            "_view_count": null,
            "_view_module_version": "1.2.0",
            "_model_module": "@jupyter-widgets/controls"
          }
        },
        "09a864ed09794c6f802f4e9ff9425110": {
          "model_module": "@jupyter-widgets/base",
          "model_name": "LayoutModel",
          "model_module_version": "1.2.0",
          "state": {
            "_view_name": "LayoutView",
            "grid_template_rows": null,
            "right": null,
            "justify_content": null,
            "_view_module": "@jupyter-widgets/base",
            "overflow": null,
            "_model_module_version": "1.2.0",
            "_view_count": null,
            "flex_flow": null,
            "width": null,
            "min_width": null,
            "border": null,
            "align_items": null,
            "bottom": null,
            "_model_module": "@jupyter-widgets/base",
            "top": null,
            "grid_column": null,
            "overflow_y": null,
            "overflow_x": null,
            "grid_auto_flow": null,
            "grid_area": null,
            "grid_template_columns": null,
            "flex": null,
            "_model_name": "LayoutModel",
            "justify_items": null,
            "grid_row": null,
            "max_height": null,
            "align_content": null,
            "visibility": null,
            "align_self": null,
            "height": null,
            "min_height": null,
            "padding": null,
            "grid_auto_rows": null,
            "grid_gap": null,
            "max_width": null,
            "order": null,
            "_view_module_version": "1.2.0",
            "grid_template_areas": null,
            "object_position": null,
            "object_fit": null,
            "grid_auto_columns": null,
            "margin": null,
            "display": null,
            "left": null
          }
        }
      }
    }
  },
  "cells": [
    {
      "cell_type": "markdown",
      "metadata": {
        "id": "bvip-rvvkOER"
      },
      "source": [
        "# INSTALLING PACKAGES"
      ]
    },
    {
      "cell_type": "markdown",
      "metadata": {
        "id": "V0hFS7_gL4vI"
      },
      "source": [
        "We install all the necessary packages to build the model"
      ]
    },
    {
      "cell_type": "code",
      "metadata": {
        "colab": {
          "base_uri": "https://localhost:8080/"
        },
        "id": "miV4CH3luPiu",
        "scrolled": false,
        "outputId": "434327eb-9379-4bac-adf6-a641e891e06e"
      },
      "source": [
        "!pip install glom"
      ],
      "execution_count": 1,
      "outputs": [
        {
          "output_type": "stream",
          "text": [
            "Requirement already satisfied: glom in /usr/local/lib/python3.7/dist-packages (20.11.0)\n",
            "Requirement already satisfied: face>=20.1.0 in /usr/local/lib/python3.7/dist-packages (from glom) (20.1.1)\n",
            "Requirement already satisfied: attrs in /usr/local/lib/python3.7/dist-packages (from glom) (21.2.0)\n",
            "Requirement already satisfied: boltons>=19.3.0 in /usr/local/lib/python3.7/dist-packages (from glom) (21.0.0)\n"
          ],
          "name": "stdout"
        }
      ]
    },
    {
      "cell_type": "code",
      "metadata": {
        "colab": {
          "base_uri": "https://localhost:8080/"
        },
        "id": "BoVQ3PoLIMwv",
        "scrolled": false,
        "outputId": "b29829ba-caba-4c48-817a-ac5cd8f6d55a"
      },
      "source": [
        "!pip install yfinance"
      ],
      "execution_count": 2,
      "outputs": [
        {
          "output_type": "stream",
          "text": [
            "Requirement already satisfied: yfinance in /usr/local/lib/python3.7/dist-packages (0.1.63)\n",
            "Requirement already satisfied: lxml>=4.5.1 in /usr/local/lib/python3.7/dist-packages (from yfinance) (4.6.3)\n",
            "Requirement already satisfied: requests>=2.20 in /usr/local/lib/python3.7/dist-packages (from yfinance) (2.23.0)\n",
            "Requirement already satisfied: multitasking>=0.0.7 in /usr/local/lib/python3.7/dist-packages (from yfinance) (0.0.9)\n",
            "Requirement already satisfied: pandas>=0.24 in /usr/local/lib/python3.7/dist-packages (from yfinance) (1.1.5)\n",
            "Requirement already satisfied: numpy>=1.15 in /usr/local/lib/python3.7/dist-packages (from yfinance) (1.19.5)\n",
            "Requirement already satisfied: python-dateutil>=2.7.3 in /usr/local/lib/python3.7/dist-packages (from pandas>=0.24->yfinance) (2.8.2)\n",
            "Requirement already satisfied: pytz>=2017.2 in /usr/local/lib/python3.7/dist-packages (from pandas>=0.24->yfinance) (2018.9)\n",
            "Requirement already satisfied: six>=1.5 in /usr/local/lib/python3.7/dist-packages (from python-dateutil>=2.7.3->pandas>=0.24->yfinance) (1.15.0)\n",
            "Requirement already satisfied: certifi>=2017.4.17 in /usr/local/lib/python3.7/dist-packages (from requests>=2.20->yfinance) (2021.5.30)\n",
            "Requirement already satisfied: chardet<4,>=3.0.2 in /usr/local/lib/python3.7/dist-packages (from requests>=2.20->yfinance) (3.0.4)\n",
            "Requirement already satisfied: idna<3,>=2.5 in /usr/local/lib/python3.7/dist-packages (from requests>=2.20->yfinance) (2.10)\n",
            "Requirement already satisfied: urllib3!=1.25.0,!=1.25.1,<1.26,>=1.21.1 in /usr/local/lib/python3.7/dist-packages (from requests>=2.20->yfinance) (1.25.11)\n"
          ],
          "name": "stdout"
        }
      ]
    },
    {
      "cell_type": "code",
      "metadata": {
        "colab": {
          "base_uri": "https://localhost:8080/"
        },
        "id": "JM3353n0k70n",
        "scrolled": false,
        "outputId": "48797d3e-b358-46e7-8c81-75281c431922"
      },
      "source": [
        "!pip install newspaper3k"
      ],
      "execution_count": 3,
      "outputs": [
        {
          "output_type": "stream",
          "text": [
            "Requirement already satisfied: newspaper3k in /usr/local/lib/python3.7/dist-packages (0.2.8)\n",
            "Requirement already satisfied: requests>=2.10.0 in /usr/local/lib/python3.7/dist-packages (from newspaper3k) (2.23.0)\n",
            "Requirement already satisfied: feedfinder2>=0.0.4 in /usr/local/lib/python3.7/dist-packages (from newspaper3k) (0.0.4)\n",
            "Requirement already satisfied: cssselect>=0.9.2 in /usr/local/lib/python3.7/dist-packages (from newspaper3k) (1.1.0)\n",
            "Requirement already satisfied: tinysegmenter==0.3 in /usr/local/lib/python3.7/dist-packages (from newspaper3k) (0.3)\n",
            "Requirement already satisfied: beautifulsoup4>=4.4.1 in /usr/local/lib/python3.7/dist-packages (from newspaper3k) (4.6.3)\n",
            "Requirement already satisfied: lxml>=3.6.0 in /usr/local/lib/python3.7/dist-packages (from newspaper3k) (4.6.3)\n",
            "Requirement already satisfied: PyYAML>=3.11 in /usr/local/lib/python3.7/dist-packages (from newspaper3k) (3.13)\n",
            "Requirement already satisfied: jieba3k>=0.35.1 in /usr/local/lib/python3.7/dist-packages (from newspaper3k) (0.35.1)\n",
            "Requirement already satisfied: nltk>=3.2.1 in /usr/local/lib/python3.7/dist-packages (from newspaper3k) (3.2.5)\n",
            "Requirement already satisfied: feedparser>=5.2.1 in /usr/local/lib/python3.7/dist-packages (from newspaper3k) (6.0.8)\n",
            "Requirement already satisfied: tldextract>=2.0.1 in /usr/local/lib/python3.7/dist-packages (from newspaper3k) (3.1.1)\n",
            "Requirement already satisfied: Pillow>=3.3.0 in /usr/local/lib/python3.7/dist-packages (from newspaper3k) (7.1.2)\n",
            "Requirement already satisfied: python-dateutil>=2.5.3 in /usr/local/lib/python3.7/dist-packages (from newspaper3k) (2.8.2)\n",
            "Requirement already satisfied: six in /usr/local/lib/python3.7/dist-packages (from feedfinder2>=0.0.4->newspaper3k) (1.15.0)\n",
            "Requirement already satisfied: sgmllib3k in /usr/local/lib/python3.7/dist-packages (from feedparser>=5.2.1->newspaper3k) (1.0.0)\n",
            "Requirement already satisfied: chardet<4,>=3.0.2 in /usr/local/lib/python3.7/dist-packages (from requests>=2.10.0->newspaper3k) (3.0.4)\n",
            "Requirement already satisfied: certifi>=2017.4.17 in /usr/local/lib/python3.7/dist-packages (from requests>=2.10.0->newspaper3k) (2021.5.30)\n",
            "Requirement already satisfied: urllib3!=1.25.0,!=1.25.1,<1.26,>=1.21.1 in /usr/local/lib/python3.7/dist-packages (from requests>=2.10.0->newspaper3k) (1.25.11)\n",
            "Requirement already satisfied: idna<3,>=2.5 in /usr/local/lib/python3.7/dist-packages (from requests>=2.10.0->newspaper3k) (2.10)\n",
            "Requirement already satisfied: requests-file>=1.4 in /usr/local/lib/python3.7/dist-packages (from tldextract>=2.0.1->newspaper3k) (1.5.1)\n",
            "Requirement already satisfied: filelock>=3.0.8 in /usr/local/lib/python3.7/dist-packages (from tldextract>=2.0.1->newspaper3k) (3.0.12)\n"
          ],
          "name": "stdout"
        }
      ]
    },
    {
      "cell_type": "code",
      "metadata": {
        "colab": {
          "base_uri": "https://localhost:8080/"
        },
        "id": "wBZLc9bVGXiT",
        "scrolled": false,
        "outputId": "613b5c60-e2a5-4ff4-bc91-af375dec0fab"
      },
      "source": [
        "!pip install bs4"
      ],
      "execution_count": 4,
      "outputs": [
        {
          "output_type": "stream",
          "text": [
            "Requirement already satisfied: bs4 in /usr/local/lib/python3.7/dist-packages (0.0.1)\n",
            "Requirement already satisfied: beautifulsoup4 in /usr/local/lib/python3.7/dist-packages (from bs4) (4.6.3)\n"
          ],
          "name": "stdout"
        }
      ]
    },
    {
      "cell_type": "code",
      "metadata": {
        "colab": {
          "base_uri": "https://localhost:8080/"
        },
        "id": "ecH8UdWyVNsW",
        "scrolled": false,
        "outputId": "98ad40db-9b08-42b3-aa7b-bfdd2160a4a7"
      },
      "source": [
        "import nltk\n",
        "nltk.download('punkt')\n",
        "nltk.download('stopwords')"
      ],
      "execution_count": 5,
      "outputs": [
        {
          "output_type": "stream",
          "text": [
            "[nltk_data] Downloading package punkt to /root/nltk_data...\n",
            "[nltk_data]   Package punkt is already up-to-date!\n",
            "[nltk_data] Downloading package stopwords to /root/nltk_data...\n",
            "[nltk_data]   Package stopwords is already up-to-date!\n"
          ],
          "name": "stdout"
        },
        {
          "output_type": "execute_result",
          "data": {
            "text/plain": [
              "True"
            ]
          },
          "metadata": {},
          "execution_count": 5
        }
      ]
    },
    {
      "cell_type": "code",
      "metadata": {
        "colab": {
          "base_uri": "https://localhost:8080/"
        },
        "id": "V-B7p25ar2X4",
        "scrolled": true,
        "outputId": "df4c4c53-e79d-4052-b1ce-fa7289fd2615"
      },
      "source": [
        "!pip install tweepy"
      ],
      "execution_count": 6,
      "outputs": [
        {
          "output_type": "stream",
          "text": [
            "Requirement already satisfied: tweepy in /usr/local/lib/python3.7/dist-packages (3.10.0)\n",
            "Requirement already satisfied: requests[socks]>=2.11.1 in /usr/local/lib/python3.7/dist-packages (from tweepy) (2.23.0)\n",
            "Requirement already satisfied: requests-oauthlib>=0.7.0 in /usr/local/lib/python3.7/dist-packages (from tweepy) (1.3.0)\n",
            "Requirement already satisfied: six>=1.10.0 in /usr/local/lib/python3.7/dist-packages (from tweepy) (1.15.0)\n",
            "Requirement already satisfied: oauthlib>=3.0.0 in /usr/local/lib/python3.7/dist-packages (from requests-oauthlib>=0.7.0->tweepy) (3.1.1)\n",
            "Requirement already satisfied: idna<3,>=2.5 in /usr/local/lib/python3.7/dist-packages (from requests[socks]>=2.11.1->tweepy) (2.10)\n",
            "Requirement already satisfied: chardet<4,>=3.0.2 in /usr/local/lib/python3.7/dist-packages (from requests[socks]>=2.11.1->tweepy) (3.0.4)\n",
            "Requirement already satisfied: certifi>=2017.4.17 in /usr/local/lib/python3.7/dist-packages (from requests[socks]>=2.11.1->tweepy) (2021.5.30)\n",
            "Requirement already satisfied: urllib3!=1.25.0,!=1.25.1,<1.26,>=1.21.1 in /usr/local/lib/python3.7/dist-packages (from requests[socks]>=2.11.1->tweepy) (1.25.11)\n",
            "Requirement already satisfied: PySocks!=1.5.7,>=1.5.6 in /usr/local/lib/python3.7/dist-packages (from requests[socks]>=2.11.1->tweepy) (1.7.1)\n"
          ],
          "name": "stdout"
        }
      ]
    },
    {
      "cell_type": "code",
      "metadata": {
        "colab": {
          "base_uri": "https://localhost:8080/"
        },
        "id": "9I5kBpo-r2X8",
        "scrolled": false,
        "outputId": "867db27b-a5f5-4894-ea41-ed54089d7cca"
      },
      "source": [
        "!pip install htmldate"
      ],
      "execution_count": 7,
      "outputs": [
        {
          "output_type": "stream",
          "text": [
            "Requirement already satisfied: htmldate in /usr/local/lib/python3.7/dist-packages (0.9.0)\n",
            "Requirement already satisfied: urllib3<2,>=1.25 in /usr/local/lib/python3.7/dist-packages (from htmldate) (1.25.11)\n",
            "Requirement already satisfied: regex>=2021.4.4 in /usr/local/lib/python3.7/dist-packages (from htmldate) (2021.8.28)\n",
            "Requirement already satisfied: lxml>=4.6.3 in /usr/local/lib/python3.7/dist-packages (from htmldate) (4.6.3)\n",
            "Requirement already satisfied: dateparser>=1.0.0 in /usr/local/lib/python3.7/dist-packages (from htmldate) (1.0.0)\n",
            "Collecting chardet>=4.0.0\n",
            "  Using cached chardet-4.0.0-py2.py3-none-any.whl (178 kB)\n",
            "Requirement already satisfied: python-dateutil>=2.8.1 in /usr/local/lib/python3.7/dist-packages (from htmldate) (2.8.2)\n",
            "Requirement already satisfied: tzlocal in /usr/local/lib/python3.7/dist-packages (from dateparser>=1.0.0->htmldate) (1.5.1)\n",
            "Requirement already satisfied: pytz in /usr/local/lib/python3.7/dist-packages (from dateparser>=1.0.0->htmldate) (2018.9)\n",
            "Requirement already satisfied: six>=1.5 in /usr/local/lib/python3.7/dist-packages (from python-dateutil>=2.8.1->htmldate) (1.15.0)\n",
            "Installing collected packages: chardet\n",
            "  Attempting uninstall: chardet\n",
            "    Found existing installation: chardet 3.0.4\n",
            "    Uninstalling chardet-3.0.4:\n",
            "      Successfully uninstalled chardet-3.0.4\n",
            "\u001b[31mERROR: pip's dependency resolver does not currently take into account all the packages that are installed. This behaviour is the source of the following dependency conflicts.\n",
            "requests 2.23.0 requires chardet<4,>=3.0.2, but you have chardet 4.0.0 which is incompatible.\n",
            "datascience 0.10.6 requires folium==0.2.1, but you have folium 0.8.3 which is incompatible.\u001b[0m\n",
            "Successfully installed chardet-4.0.0\n"
          ],
          "name": "stdout"
        }
      ]
    },
    {
      "cell_type": "code",
      "metadata": {
        "colab": {
          "base_uri": "https://localhost:8080/"
        },
        "id": "QaaJf7Uq4y6V",
        "outputId": "d9d44f34-2d4c-443e-d69c-5764ee76a0d1"
      },
      "source": [
        "!pip install sentencepiece"
      ],
      "execution_count": 8,
      "outputs": [
        {
          "output_type": "stream",
          "text": [
            "Requirement already satisfied: sentencepiece in /usr/local/lib/python3.7/dist-packages (0.1.96)\n"
          ],
          "name": "stdout"
        }
      ]
    },
    {
      "cell_type": "code",
      "metadata": {
        "scrolled": true,
        "colab": {
          "base_uri": "https://localhost:8080/"
        },
        "id": "KW7TTJGyw1Ov",
        "outputId": "2e00e958-29f6-417f-cb19-4848708171a9"
      },
      "source": [
        "!pip install torch==1.9.0+cu111 torchvision==0.10.0+cu111 torchaudio===0.9.0 -f https://download.pytorch.org/whl/torch_stable.html"
      ],
      "execution_count": 9,
      "outputs": [
        {
          "output_type": "stream",
          "text": [
            "Looking in links: https://download.pytorch.org/whl/torch_stable.html\n",
            "Requirement already satisfied: torch==1.9.0+cu111 in /usr/local/lib/python3.7/dist-packages (1.9.0+cu111)\n",
            "Requirement already satisfied: torchvision==0.10.0+cu111 in /usr/local/lib/python3.7/dist-packages (0.10.0+cu111)\n",
            "Requirement already satisfied: torchaudio===0.9.0 in /usr/local/lib/python3.7/dist-packages (0.9.0)\n",
            "Requirement already satisfied: typing-extensions in /usr/local/lib/python3.7/dist-packages (from torch==1.9.0+cu111) (3.7.4.3)\n",
            "Requirement already satisfied: pillow>=5.3.0 in /usr/local/lib/python3.7/dist-packages (from torchvision==0.10.0+cu111) (7.1.2)\n",
            "Requirement already satisfied: numpy in /usr/local/lib/python3.7/dist-packages (from torchvision==0.10.0+cu111) (1.19.5)\n"
          ],
          "name": "stdout"
        }
      ]
    },
    {
      "cell_type": "code",
      "metadata": {
        "scrolled": true,
        "colab": {
          "base_uri": "https://localhost:8080/"
        },
        "id": "eeZ1iuP1w1Ov",
        "outputId": "bce87370-4abc-4be6-b6b4-a857c2c49437"
      },
      "source": [
        "!pip install transformers[torch]==4.3"
      ],
      "execution_count": 10,
      "outputs": [
        {
          "output_type": "stream",
          "text": [
            "Requirement already satisfied: transformers[torch]==4.3 in /usr/local/lib/python3.7/dist-packages (4.3.0)\n",
            "Requirement already satisfied: regex!=2019.12.17 in /usr/local/lib/python3.7/dist-packages (from transformers[torch]==4.3) (2021.8.28)\n",
            "Requirement already satisfied: tokenizers<0.11,>=0.10.1 in /usr/local/lib/python3.7/dist-packages (from transformers[torch]==4.3) (0.10.3)\n",
            "Requirement already satisfied: requests in /usr/local/lib/python3.7/dist-packages (from transformers[torch]==4.3) (2.23.0)\n",
            "Requirement already satisfied: numpy>=1.17 in /usr/local/lib/python3.7/dist-packages (from transformers[torch]==4.3) (1.19.5)\n",
            "Requirement already satisfied: tqdm>=4.27 in /usr/local/lib/python3.7/dist-packages (from transformers[torch]==4.3) (4.62.0)\n",
            "Requirement already satisfied: packaging in /usr/local/lib/python3.7/dist-packages (from transformers[torch]==4.3) (21.0)\n",
            "Requirement already satisfied: importlib-metadata in /usr/local/lib/python3.7/dist-packages (from transformers[torch]==4.3) (4.6.4)\n",
            "Requirement already satisfied: sacremoses in /usr/local/lib/python3.7/dist-packages (from transformers[torch]==4.3) (0.0.45)\n",
            "Requirement already satisfied: filelock in /usr/local/lib/python3.7/dist-packages (from transformers[torch]==4.3) (3.0.12)\n",
            "Requirement already satisfied: torch>=1.0 in /usr/local/lib/python3.7/dist-packages (from transformers[torch]==4.3) (1.9.0+cu111)\n",
            "Requirement already satisfied: typing-extensions in /usr/local/lib/python3.7/dist-packages (from torch>=1.0->transformers[torch]==4.3) (3.7.4.3)\n",
            "Requirement already satisfied: zipp>=0.5 in /usr/local/lib/python3.7/dist-packages (from importlib-metadata->transformers[torch]==4.3) (3.5.0)\n",
            "Requirement already satisfied: pyparsing>=2.0.2 in /usr/local/lib/python3.7/dist-packages (from packaging->transformers[torch]==4.3) (2.4.7)\n",
            "Requirement already satisfied: urllib3!=1.25.0,!=1.25.1,<1.26,>=1.21.1 in /usr/local/lib/python3.7/dist-packages (from requests->transformers[torch]==4.3) (1.25.11)\n",
            "Collecting chardet<4,>=3.0.2\n",
            "  Using cached chardet-3.0.4-py2.py3-none-any.whl (133 kB)\n",
            "Requirement already satisfied: idna<3,>=2.5 in /usr/local/lib/python3.7/dist-packages (from requests->transformers[torch]==4.3) (2.10)\n",
            "Requirement already satisfied: certifi>=2017.4.17 in /usr/local/lib/python3.7/dist-packages (from requests->transformers[torch]==4.3) (2021.5.30)\n",
            "Requirement already satisfied: click in /usr/local/lib/python3.7/dist-packages (from sacremoses->transformers[torch]==4.3) (7.1.2)\n",
            "Requirement already satisfied: six in /usr/local/lib/python3.7/dist-packages (from sacremoses->transformers[torch]==4.3) (1.15.0)\n",
            "Requirement already satisfied: joblib in /usr/local/lib/python3.7/dist-packages (from sacremoses->transformers[torch]==4.3) (1.0.1)\n",
            "Installing collected packages: chardet\n",
            "  Attempting uninstall: chardet\n",
            "    Found existing installation: chardet 4.0.0\n",
            "    Uninstalling chardet-4.0.0:\n",
            "      Successfully uninstalled chardet-4.0.0\n",
            "\u001b[31mERROR: pip's dependency resolver does not currently take into account all the packages that are installed. This behaviour is the source of the following dependency conflicts.\n",
            "htmldate 0.9.0 requires chardet>=4.0.0; python_version >= \"3.6\", but you have chardet 3.0.4 which is incompatible.\n",
            "datascience 0.10.6 requires folium==0.2.1, but you have folium 0.8.3 which is incompatible.\u001b[0m\n",
            "Successfully installed chardet-3.0.4\n"
          ],
          "name": "stdout"
        }
      ]
    },
    {
      "cell_type": "markdown",
      "metadata": {
        "id": "GmGD6X_Esws0"
      },
      "source": [
        "\n",
        "# IMPORTING PACKAGES"
      ]
    },
    {
      "cell_type": "markdown",
      "metadata": {
        "id": "ZXabj6GKMEVe"
      },
      "source": [
        "Import packages for performing data extraction, cleaning, visulaization, and modelling"
      ]
    },
    {
      "cell_type": "code",
      "metadata": {
        "id": "x9VI76m3IMwt",
        "scrolled": true
      },
      "source": [
        "import tweepy, json"
      ],
      "execution_count": 11,
      "outputs": []
    },
    {
      "cell_type": "code",
      "metadata": {
        "id": "Q5y4CQF6Nwsl"
      },
      "source": [
        "from glom import glom"
      ],
      "execution_count": 12,
      "outputs": []
    },
    {
      "cell_type": "code",
      "metadata": {
        "id": "HFDrvLGoNxha"
      },
      "source": [
        "import numpy as np"
      ],
      "execution_count": 13,
      "outputs": []
    },
    {
      "cell_type": "code",
      "metadata": {
        "id": "l2n5LKwINx4w"
      },
      "source": [
        "import pandas as pd"
      ],
      "execution_count": 14,
      "outputs": []
    },
    {
      "cell_type": "code",
      "metadata": {
        "id": "UE0NmQnCNyDw"
      },
      "source": [
        "import math"
      ],
      "execution_count": 15,
      "outputs": []
    },
    {
      "cell_type": "code",
      "metadata": {
        "id": "7vsslWqxNyNJ"
      },
      "source": [
        "from datetime import datetime, timedelta"
      ],
      "execution_count": 16,
      "outputs": []
    },
    {
      "cell_type": "code",
      "metadata": {
        "id": "SJLrFW3rNyVc"
      },
      "source": [
        "import yfinance as yf"
      ],
      "execution_count": 17,
      "outputs": []
    },
    {
      "cell_type": "code",
      "metadata": {
        "id": "2yUdMXMiNzsb"
      },
      "source": [
        "from bs4 import BeautifulSoup"
      ],
      "execution_count": 18,
      "outputs": []
    },
    {
      "cell_type": "code",
      "metadata": {
        "id": "YInoEMOjN0AR"
      },
      "source": [
        "import requests"
      ],
      "execution_count": 19,
      "outputs": []
    },
    {
      "cell_type": "code",
      "metadata": {
        "id": "9Lt-WUAuN0Rf"
      },
      "source": [
        "import re"
      ],
      "execution_count": 20,
      "outputs": []
    },
    {
      "cell_type": "code",
      "metadata": {
        "id": "nC_RdfgAN0h5"
      },
      "source": [
        "from newspaper import *"
      ],
      "execution_count": 21,
      "outputs": []
    },
    {
      "cell_type": "code",
      "metadata": {
        "id": "V94wgPaPN0xu"
      },
      "source": [
        "from htmldate import find_date"
      ],
      "execution_count": 22,
      "outputs": []
    },
    {
      "cell_type": "code",
      "metadata": {
        "id": "EIztEc2kxIBU"
      },
      "source": [
        "from nltk.corpus import stopwords"
      ],
      "execution_count": 23,
      "outputs": []
    },
    {
      "cell_type": "code",
      "metadata": {
        "id": "IHpK6_WDOQd5"
      },
      "source": [
        "from transformers import PegasusTokenizer, PegasusForConditionalGeneration"
      ],
      "execution_count": 24,
      "outputs": []
    },
    {
      "cell_type": "code",
      "metadata": {
        "id": "lwolAGOfpxR3"
      },
      "source": [
        "from transformers import AutoTokenizer, AutoModelForSequenceClassification"
      ],
      "execution_count": 25,
      "outputs": []
    },
    {
      "cell_type": "code",
      "metadata": {
        "id": "Bzq4p92GORO2"
      },
      "source": [
        "from transformers import pipeline"
      ],
      "execution_count": 26,
      "outputs": []
    },
    {
      "cell_type": "code",
      "metadata": {
        "id": "Psj9sGyulxqx"
      },
      "source": [
        "import matplotlib.pyplot as plt\n",
        "%matplotlib inline"
      ],
      "execution_count": 27,
      "outputs": []
    },
    {
      "cell_type": "markdown",
      "metadata": {
        "id": "v6ohsQYZIMwt"
      },
      "source": [
        "# COLLECTING TWITTER DATA"
      ]
    },
    {
      "cell_type": "markdown",
      "metadata": {
        "id": "tAAQFFT8MR6o"
      },
      "source": [
        "Getting developer access from twitter to extract historical tweets for upto 7 days\n",
        "\n",
        "NOTE: The keys below are private and are to be kept confidential and not be misused without the owner's authorization"
      ]
    },
    {
      "cell_type": "code",
      "metadata": {
        "id": "bdW76J5tIMwt",
        "scrolled": true
      },
      "source": [
        "api_key = \"D3a1PVON8wECC8ZB781LXEY0I\"\n",
        "api_secret_key = \"lrrXjpTn0P2Rj1R1lH3cVn1KUA4xrTZyrRzb9Jfgwx1bKPC5Y2\"\n",
        "access_token = \"1319681101-suDjXaeuUGiCMVoQ3ZHmwIv84CNkXbkvuSE39JK\"\n",
        "access_token_secret = \"IvLRZh7i2PaxmXr4riVb7QZoLBOzqS3MJfDEEq9nX9oYU\""
      ],
      "execution_count": 29,
      "outputs": []
    },
    {
      "cell_type": "code",
      "metadata": {
        "id": "MHS1ponzIY7v",
        "scrolled": true
      },
      "source": [
        "auth = tweepy.OAuthHandler(api_key,api_secret_key)\n",
        "auth.set_access_token(access_token,access_token_secret)\n",
        "api = tweepy.API(auth)"
      ],
      "execution_count": 30,
      "outputs": []
    },
    {
      "cell_type": "code",
      "metadata": {
        "id": "azFgmJna6CR-",
        "scrolled": true
      },
      "source": [
        "def get_tweets(ticker_list, count):\n",
        "  tweets = pd.DataFrame()\n",
        "\n",
        "  for i in range(len(ticker_list)):\n",
        "    results = api.search(q=ticker_list[i], lang='en', count=count)\n",
        "    results = pd.DataFrame(results)\n",
        "    temp = pd.DataFrame()\n",
        "\n",
        "    temp['Timestamp'] = results[0].apply(lambda row: glom(row, 'created_at'))\n",
        "    temp['Title'] = results[0].apply(lambda row: glom(row, 'text'))\n",
        "    temp['Ticker'] = ticker_list[i]\n",
        "    temp['Tweet ID'] = results[0].apply(lambda row: glom(row, 'id'))\n",
        "    temp['User ID'] = results[0].apply(lambda row: glom(row, 'user.id'))\n",
        "    temp['Name'] = results[0].apply(lambda row: glom(row, \"user.screen_name\"))\n",
        "    temp['Followers'] = results[0].apply(lambda row: glom(row, 'user.followers_count'))\n",
        "    temp['Location'] = results[0].apply(lambda row: glom(row, 'user.location'))\n",
        "    tweets = tweets.append(temp)\n",
        "    tweets.drop_duplicates(inplace=True)\n",
        "  return tweets"
      ],
      "execution_count": 31,
      "outputs": []
    },
    {
      "cell_type": "markdown",
      "metadata": {
        "id": "LbY9p5oHNBlF"
      },
      "source": [
        "Ticker list includes the name of all stocks under NIFTY Bank\n",
        "\n",
        "Tweets containing any of these keywords are extracted"
      ]
    },
    {
      "cell_type": "code",
      "metadata": {
        "id": "9eh9uAp_IMwu",
        "scrolled": true
      },
      "source": [
        "ticker_list = [\"NIFTY BANK\", 'SBIN', 'IDBI', 'AXISBANK', 'HDFCBANK', 'KOTAKBANK', 'PNB', 'ICICIBANK', 'BARODA', 'CANARA', 'INDUSIND', 'BANKINDIA', 'UNION']\n",
        "count = 1000\n",
        "\n",
        "tweets = get_tweets(ticker_list=ticker_list, count=count)"
      ],
      "execution_count": 32,
      "outputs": []
    },
    {
      "cell_type": "code",
      "metadata": {
        "colab": {
          "base_uri": "https://localhost:8080/",
          "height": 204
        },
        "id": "gu7ZhncB-1p2",
        "scrolled": true,
        "outputId": "ef6e81c3-124a-44bc-8fb2-61ed8d7a8ef9"
      },
      "source": [
        "tweets.head()"
      ],
      "execution_count": 33,
      "outputs": [
        {
          "output_type": "execute_result",
          "data": {
            "text/html": [
              "<div>\n",
              "<style scoped>\n",
              "    .dataframe tbody tr th:only-of-type {\n",
              "        vertical-align: middle;\n",
              "    }\n",
              "\n",
              "    .dataframe tbody tr th {\n",
              "        vertical-align: top;\n",
              "    }\n",
              "\n",
              "    .dataframe thead th {\n",
              "        text-align: right;\n",
              "    }\n",
              "</style>\n",
              "<table border=\"1\" class=\"dataframe\">\n",
              "  <thead>\n",
              "    <tr style=\"text-align: right;\">\n",
              "      <th></th>\n",
              "      <th>Timestamp</th>\n",
              "      <th>Title</th>\n",
              "      <th>Ticker</th>\n",
              "      <th>Tweet ID</th>\n",
              "      <th>User ID</th>\n",
              "      <th>Name</th>\n",
              "      <th>Followers</th>\n",
              "      <th>Location</th>\n",
              "    </tr>\n",
              "  </thead>\n",
              "  <tbody>\n",
              "    <tr>\n",
              "      <th>0</th>\n",
              "      <td>2021-08-31 05:05:03</td>\n",
              "      <td>#BuzzingStocks Buzzing Stocks: LT, Axis Bank, ...</td>\n",
              "      <td>NIFTY BANK</td>\n",
              "      <td>1432570105645387776</td>\n",
              "      <td>1145926040096612352</td>\n",
              "      <td>Nifty50trade</td>\n",
              "      <td>1799</td>\n",
              "      <td>India, mum</td>\n",
              "    </tr>\n",
              "    <tr>\n",
              "      <th>1</th>\n",
              "      <td>2021-08-31 05:03:49</td>\n",
              "      <td>BANK NIFTY FUTURES (CMP:36442): Trend is Down....</td>\n",
              "      <td>NIFTY BANK</td>\n",
              "      <td>1432569793719062531</td>\n",
              "      <td>1296139553833488384</td>\n",
              "      <td>tamilstock</td>\n",
              "      <td>532</td>\n",
              "      <td>Chennai</td>\n",
              "    </tr>\n",
              "    <tr>\n",
              "      <th>2</th>\n",
              "      <td>2021-08-31 05:03:43</td>\n",
              "      <td>#LiveStocksUpdate Buzzing Stocks: LT, Axis Ban...</td>\n",
              "      <td>NIFTY BANK</td>\n",
              "      <td>1432569769669107717</td>\n",
              "      <td>1094850957010059265</td>\n",
              "      <td>INDMarketsLIVE</td>\n",
              "      <td>1802</td>\n",
              "      <td>Mumbai, India</td>\n",
              "    </tr>\n",
              "    <tr>\n",
              "      <th>3</th>\n",
              "      <td>2021-08-31 05:01:44</td>\n",
              "      <td>@Flipkart check DM</td>\n",
              "      <td>NIFTY BANK</td>\n",
              "      <td>1432569268567089155</td>\n",
              "      <td>2474926458</td>\n",
              "      <td>BANK__NIFTY</td>\n",
              "      <td>51187</td>\n",
              "      <td>Jaipur, INDIA</td>\n",
              "    </tr>\n",
              "    <tr>\n",
              "      <th>4</th>\n",
              "      <td>2021-08-31 05:00:02</td>\n",
              "      <td>#BANKNIFTYU2021 - bank nifty  levels...31/08/2...</td>\n",
              "      <td>NIFTY BANK</td>\n",
              "      <td>1432568842660712454</td>\n",
              "      <td>760853978837942272</td>\n",
              "      <td>in_tradingview</td>\n",
              "      <td>54087</td>\n",
              "      <td>Mumbai, India</td>\n",
              "    </tr>\n",
              "  </tbody>\n",
              "</table>\n",
              "</div>"
            ],
            "text/plain": [
              "            Timestamp  ...       Location\n",
              "0 2021-08-31 05:05:03  ...     India, mum\n",
              "1 2021-08-31 05:03:49  ...        Chennai\n",
              "2 2021-08-31 05:03:43  ...  Mumbai, India\n",
              "3 2021-08-31 05:01:44  ...  Jaipur, INDIA\n",
              "4 2021-08-31 05:00:02  ...  Mumbai, India\n",
              "\n",
              "[5 rows x 8 columns]"
            ]
          },
          "metadata": {},
          "execution_count": 33
        }
      ]
    },
    {
      "cell_type": "code",
      "metadata": {
        "id": "Oy3Q755f-19B",
        "scrolled": true
      },
      "source": [
        "def firstandlastdate(dataframe):\n",
        "  first = np.min(dataframe['Timestamp'])\n",
        "  last = np.max(dataframe['Timestamp'])\n",
        "  return first, last"
      ],
      "execution_count": 34,
      "outputs": []
    },
    {
      "cell_type": "code",
      "metadata": {
        "colab": {
          "base_uri": "https://localhost:8080/"
        },
        "id": "ZNUJcwef_cSU",
        "scrolled": true,
        "outputId": "3e1c32e1-dbcf-480c-88fe-81a6bdb20066"
      },
      "source": [
        "first_tw, last_tw = firstandlastdate(tweets)\n",
        "\n",
        "print('Starting: '+str(first_tw) +'\\n' +'Ending: '+str(last_tw))"
      ],
      "execution_count": 35,
      "outputs": [
        {
          "output_type": "stream",
          "text": [
            "Starting: 2021-08-23 06:39:04\n",
            "Ending: 2021-08-31 05:05:09\n"
          ],
          "name": "stdout"
        }
      ]
    },
    {
      "cell_type": "code",
      "metadata": {
        "colab": {
          "base_uri": "https://localhost:8080/"
        },
        "id": "y6fFu89gonfc",
        "outputId": "077e1205-cc28-4ae6-d4ca-a58b4b4d0918"
      },
      "source": [
        "tweets.info()"
      ],
      "execution_count": 36,
      "outputs": [
        {
          "output_type": "stream",
          "text": [
            "<class 'pandas.core.frame.DataFrame'>\n",
            "Int64Index: 1214 entries, 0 to 99\n",
            "Data columns (total 8 columns):\n",
            " #   Column     Non-Null Count  Dtype         \n",
            "---  ------     --------------  -----         \n",
            " 0   Timestamp  1214 non-null   datetime64[ns]\n",
            " 1   Title      1214 non-null   object        \n",
            " 2   Ticker     1214 non-null   object        \n",
            " 3   Tweet ID   1214 non-null   int64         \n",
            " 4   User ID    1214 non-null   int64         \n",
            " 5   Name       1214 non-null   object        \n",
            " 6   Followers  1214 non-null   int64         \n",
            " 7   Location   1214 non-null   object        \n",
            "dtypes: datetime64[ns](1), int64(3), object(4)\n",
            "memory usage: 85.4+ KB\n"
          ],
          "name": "stdout"
        }
      ]
    },
    {
      "cell_type": "markdown",
      "metadata": {
        "id": "8aZxbRsQ6fLQ"
      },
      "source": [
        "# EXTRACTING NEWS"
      ]
    },
    {
      "cell_type": "markdown",
      "metadata": {
        "id": "68GPgh4ONYGo"
      },
      "source": [
        "Functions are created to crawl webpages to get URLs, filter them, and feed it through the data extraction algorithm to get news data"
      ]
    },
    {
      "cell_type": "code",
      "metadata": {
        "id": "3UQ-RD45GKbA",
        "scrolled": true
      },
      "source": [
        "def search_for_stocks_news_urls(ticker, url_list):\n",
        "    for url in url_list:\n",
        "        search_url = url.format(ticker)\n",
        "        r = requests.get(search_url)\n",
        "        soup = BeautifulSoup(r.text, 'html.parser')\n",
        "        atags = soup.find_all('a')\n",
        "        hrefs = [tag['href'] if tag.has_attr('href') else '' for tag in atags]\n",
        "    return hrefs"
      ],
      "execution_count": 37,
      "outputs": []
    },
    {
      "cell_type": "code",
      "metadata": {
        "id": "74oz1ELnzxmo",
        "scrolled": true
      },
      "source": [
        "def strip_unwanted_urls(urls, exclude_list):\n",
        "    val = []\n",
        "    for url in urls: \n",
        "        if 'https://' in url and not any(exclude_word in url for exclude_word in exclude_list):\n",
        "            res = re.findall(r'(https?://\\S+)', url)[0].split('&')[0]\n",
        "            val.append(res)\n",
        "    return list(set(val))"
      ],
      "execution_count": 38,
      "outputs": []
    },
    {
      "cell_type": "markdown",
      "metadata": {
        "id": "8tSbZZr0N2cH"
      },
      "source": [
        "Newspaper3k package is used exclusively to find the publish date of each article extracted"
      ]
    },
    {
      "cell_type": "code",
      "metadata": {
        "id": "JZlw3Anur2Yf",
        "scrolled": true
      },
      "source": [
        "def publish_date(URLs):\n",
        "    publishdate = []\n",
        "    for url in URLs:\n",
        "        try:\n",
        "            publishdate.append(str(find_date(url)))\n",
        "        except:\n",
        "            publishdate.append(\"None\")\n",
        "            pass\n",
        "    return publishdate"
      ],
      "execution_count": 39,
      "outputs": []
    },
    {
      "cell_type": "code",
      "metadata": {
        "id": "YSThOktdGp9N",
        "scrolled": true
      },
      "source": [
        "def get_news_data(ticker_list, cleaned_urls):\n",
        "    articles_info = []\n",
        "    \n",
        "    for ticker in ticker_list:\n",
        "        links = cleaned_urls[ticker]\n",
        "    \n",
        "        for i in links:\n",
        "            article_dict = {}\n",
        "            article = Article(i)\n",
        "            article.download()\n",
        "\n",
        "            article_dict[\"link\"] = i\n",
        "            article_dict[\"Ticker\"] = ticker\n",
        "\n",
        "            try:\n",
        "                article.parse()\n",
        "                article_dict[\"Text\"] = article.text\n",
        "                article_dict[\"Title\"] = article.title\n",
        "                article.nlp()\n",
        "\n",
        "            except ArticleException:\n",
        "                article_dict[\"Text\"] = np.nan\n",
        "                article_dict[\"Title\"] = np.nan\n",
        "\n",
        "            articles_info.append(article_dict)\n",
        "\n",
        "    news_data = pd.DataFrame(articles_info)\n",
        "    return news_data"
      ],
      "execution_count": 40,
      "outputs": []
    },
    {
      "cell_type": "code",
      "metadata": {
        "id": "VP6YBb7dGr5S",
        "scrolled": true
      },
      "source": [
        "ticker_list = [\"NIFTY BANK\", 'SBIN', 'IDBI', 'AXISBANK', 'HDFCBANK', 'KOTAKBANK', 'PNB', 'ICICIBANK', 'BARODA', 'CANARA', 'INDUSIND', 'BANKINDIA', 'UNION']\n",
        "\n",
        "url_list = [\"https://www.google.com/search?q={}&tbm=nws\"] \n",
        "\n",
        "raw_urls = {ticker:search_for_stocks_news_urls(ticker=ticker, url_list=url_list) for ticker in ticker_list}"
      ],
      "execution_count": 41,
      "outputs": []
    },
    {
      "cell_type": "code",
      "metadata": {
        "colab": {
          "base_uri": "https://localhost:8080/"
        },
        "id": "vz6dcuZGr2Yh",
        "scrolled": true,
        "outputId": "6013af4d-3db0-45ac-988b-4dea89d31dfd"
      },
      "source": [
        "links = []\n",
        "for ticker in ticker_list:\n",
        "    print('Number of URLs in '+ticker + ': '+str(len(raw_urls[ticker])))\n",
        "    for link in raw_urls[ticker]:\n",
        "        links.append(link)\n",
        "print('Total number of raw URLs: '+str(len(links)))"
      ],
      "execution_count": 42,
      "outputs": [
        {
          "output_type": "stream",
          "text": [
            "Number of URLs in NIFTY BANK: 43\n",
            "Number of URLs in SBIN: 40\n",
            "Number of URLs in IDBI: 43\n",
            "Number of URLs in AXISBANK: 41\n",
            "Number of URLs in HDFCBANK: 43\n",
            "Number of URLs in KOTAKBANK: 45\n",
            "Number of URLs in PNB: 43\n",
            "Number of URLs in ICICIBANK: 43\n",
            "Number of URLs in BARODA: 43\n",
            "Number of URLs in CANARA: 43\n",
            "Number of URLs in INDUSIND: 43\n",
            "Number of URLs in BANKINDIA: 41\n",
            "Number of URLs in UNION: 41\n",
            "Total number of raw URLs: 552\n"
          ],
          "name": "stdout"
        }
      ]
    },
    {
      "cell_type": "code",
      "metadata": {
        "id": "GvUNcs85rHll",
        "scrolled": true
      },
      "source": [
        "exclude_list = ['maps', 'policies', 'preferences', 'accounts', 'support']\n",
        "\n",
        "cleaned_urls = {ticker:strip_unwanted_urls(raw_urls[ticker], exclude_list) for ticker in ticker_list}"
      ],
      "execution_count": 43,
      "outputs": []
    },
    {
      "cell_type": "code",
      "metadata": {
        "colab": {
          "base_uri": "https://localhost:8080/"
        },
        "id": "eNtOrXiXz5Sj",
        "scrolled": true,
        "outputId": "5cc10ba7-28c5-4546-ba54-2bc612fe3825"
      },
      "source": [
        "links = []\n",
        "for ticker in ticker_list:\n",
        "    print('Number of URLs in '+ticker + ': '+str(len(cleaned_urls[ticker])))\n",
        "    for link in cleaned_urls[ticker]:\n",
        "        links.append(link)\n",
        "print('Total number of cleaned URLs: '+str(len(links)))"
      ],
      "execution_count": 44,
      "outputs": [
        {
          "output_type": "stream",
          "text": [
            "Number of URLs in NIFTY BANK: 10\n",
            "Number of URLs in SBIN: 9\n",
            "Number of URLs in IDBI: 10\n",
            "Number of URLs in AXISBANK: 10\n",
            "Number of URLs in HDFCBANK: 10\n",
            "Number of URLs in KOTAKBANK: 8\n",
            "Number of URLs in PNB: 10\n",
            "Number of URLs in ICICIBANK: 10\n",
            "Number of URLs in BARODA: 10\n",
            "Number of URLs in CANARA: 10\n",
            "Number of URLs in INDUSIND: 9\n",
            "Number of URLs in BANKINDIA: 10\n",
            "Number of URLs in UNION: 10\n",
            "Total number of cleaned URLs: 126\n"
          ],
          "name": "stdout"
        }
      ]
    },
    {
      "cell_type": "code",
      "metadata": {
        "colab": {
          "base_uri": "https://localhost:8080/"
        },
        "id": "UR_bZ8wWAl1M",
        "scrolled": true,
        "outputId": "056564b1-2749-49cb-9259-0cc68dcbf0a7"
      },
      "source": [
        "articles_publishdate = {ticker:publish_date(cleaned_urls[ticker]) for ticker in ticker_list}\n",
        "articles_publishdate"
      ],
      "execution_count": 45,
      "outputs": [
        {
          "output_type": "execute_result",
          "data": {
            "text/plain": [
              "{'AXISBANK': ['2021-08-30',\n",
              "  '2021-08-18',\n",
              "  '2021-08-31',\n",
              "  '2021-08-30',\n",
              "  '2021-08-31',\n",
              "  '2021-08-31',\n",
              "  '2021-08-30',\n",
              "  '2021-08-30',\n",
              "  '2021-08-31',\n",
              "  '2021-08-31'],\n",
              " 'BANKINDIA': ['2021-08-16',\n",
              "  '2021-08-25',\n",
              "  '2021-08-11',\n",
              "  'None',\n",
              "  '2021-08-10',\n",
              "  '2021-08-30',\n",
              "  '2021-08-13',\n",
              "  '2021-08-27',\n",
              "  'None',\n",
              "  'None'],\n",
              " 'BARODA': ['2021-08-09',\n",
              "  '2021-08-17',\n",
              "  '2021-08-31',\n",
              "  '2021-08-06',\n",
              "  'None',\n",
              "  '2021-08-07',\n",
              "  '2021-08-28',\n",
              "  '2021-08-28',\n",
              "  '2021-08-30',\n",
              "  '2021-08-27'],\n",
              " 'CANARA': ['2021-08-30',\n",
              "  '2021-08-26',\n",
              "  '2021-08-23',\n",
              "  '2021-08-26',\n",
              "  '2021-08-18',\n",
              "  '2021-08-30',\n",
              "  '2021-08-24',\n",
              "  '2021-08-26',\n",
              "  '2021-08-25',\n",
              "  '2021-08-26'],\n",
              " 'HDFCBANK': ['2021-08-30',\n",
              "  '2021-08-18',\n",
              "  '2021-08-25',\n",
              "  '2021-08-30',\n",
              "  '2021-08-25',\n",
              "  '2021-08-27',\n",
              "  '2021-08-23',\n",
              "  '2021-08-20',\n",
              "  '2021-08-02',\n",
              "  '2021-08-24'],\n",
              " 'ICICIBANK': ['None',\n",
              "  '2021-08-25',\n",
              "  '2021-08-30',\n",
              "  '2021-08-06',\n",
              "  '2021-08-25',\n",
              "  'None',\n",
              "  '2021-08-30',\n",
              "  '2021-08-20',\n",
              "  '2021-08-25',\n",
              "  '2021-08-23'],\n",
              " 'IDBI': ['2021-08-28',\n",
              "  'None',\n",
              "  '2021-08-30',\n",
              "  '2021-08-27',\n",
              "  '2021-08-08',\n",
              "  '2021-08-30',\n",
              "  '2021-08-30',\n",
              "  '2021-08-27',\n",
              "  '2021-08-26',\n",
              "  '2021-08-27'],\n",
              " 'INDUSIND': ['2021-08-25',\n",
              "  '2021-08-20',\n",
              "  '2021-08-28',\n",
              "  '2021-08-02',\n",
              "  '2021-08-04',\n",
              "  'None',\n",
              "  '2021-08-18',\n",
              "  '2021-08-09',\n",
              "  '2021-08-24'],\n",
              " 'KOTAKBANK': ['2021-08-28',\n",
              "  '2021-08-30',\n",
              "  '2021-08-30',\n",
              "  '2021-08-25',\n",
              "  '2021-08-30',\n",
              "  '2021-08-18',\n",
              "  '2021-08-30',\n",
              "  '2021-08-31'],\n",
              " 'NIFTY BANK': ['2021-08-27',\n",
              "  '2021-08-30',\n",
              "  '2021-08-30',\n",
              "  '2021-08-29',\n",
              "  'None',\n",
              "  '2021-08-30',\n",
              "  'None',\n",
              "  '2021-08-30',\n",
              "  'None',\n",
              "  '2021-08-31'],\n",
              " 'PNB': ['2021-08-30',\n",
              "  '2021-08-27',\n",
              "  '2021-08-30',\n",
              "  '2021-08-25',\n",
              "  '2021-08-27',\n",
              "  '2021-08-25',\n",
              "  '2021-08-30',\n",
              "  '2021-08-25',\n",
              "  'None',\n",
              "  '2021-08-24'],\n",
              " 'SBIN': ['2021-08-30',\n",
              "  '2021-05-29',\n",
              "  '2021-08-08',\n",
              "  '2021-08-30',\n",
              "  '2021-08-03',\n",
              "  '2021-07-03',\n",
              "  '2021-08-07',\n",
              "  '2021-08-22',\n",
              "  '2021-08-23'],\n",
              " 'UNION': ['2021-08-31',\n",
              "  '2021-08-30',\n",
              "  '2021-08-30',\n",
              "  '2021-08-30',\n",
              "  '2021-08-30',\n",
              "  '2021-08-28',\n",
              "  '2021-08-30',\n",
              "  '2021-08-30',\n",
              "  'None',\n",
              "  '2021-08-30']}"
            ]
          },
          "metadata": {},
          "execution_count": 45
        }
      ]
    },
    {
      "cell_type": "code",
      "metadata": {
        "colab": {
          "base_uri": "https://localhost:8080/"
        },
        "id": "kFkUMU8N2fPI",
        "scrolled": true,
        "outputId": "40762385-ba5f-4748-f156-717304adc72a"
      },
      "source": [
        "dates = []\n",
        "for ticker in ticker_list:\n",
        "    count = 0\n",
        "    for value in articles_publishdate[ticker]:\n",
        "        if value != \"None\":\n",
        "            count = count + 1\n",
        "    print('Number of URLs in '+ticker + ' with dateofpub: '+str(count))\n",
        "    for date in articles_publishdate[ticker]:\n",
        "        dates.append(link)  "
      ],
      "execution_count": 46,
      "outputs": [
        {
          "output_type": "stream",
          "text": [
            "Number of URLs in NIFTY BANK with dateofpub: 7\n",
            "Number of URLs in SBIN with dateofpub: 9\n",
            "Number of URLs in IDBI with dateofpub: 9\n",
            "Number of URLs in AXISBANK with dateofpub: 10\n",
            "Number of URLs in HDFCBANK with dateofpub: 10\n",
            "Number of URLs in KOTAKBANK with dateofpub: 8\n",
            "Number of URLs in PNB with dateofpub: 9\n",
            "Number of URLs in ICICIBANK with dateofpub: 8\n",
            "Number of URLs in BARODA with dateofpub: 9\n",
            "Number of URLs in CANARA with dateofpub: 10\n",
            "Number of URLs in INDUSIND with dateofpub: 8\n",
            "Number of URLs in BANKINDIA with dateofpub: 7\n",
            "Number of URLs in UNION with dateofpub: 9\n"
          ],
          "name": "stdout"
        }
      ]
    },
    {
      "cell_type": "code",
      "metadata": {
        "colab": {
          "base_uri": "https://localhost:8080/"
        },
        "id": "Xdy5S2XD0F-l",
        "scrolled": true,
        "outputId": "7b62cc19-7071-425e-b928-ea7756ae8c30"
      },
      "source": [
        "dates = []\n",
        "for ticker in ticker_list:\n",
        "    print('Number of URLs in '+ticker + ' with dateofpub: '+str(len(articles_publishdate[ticker])))\n",
        "    for date in articles_publishdate[ticker]:\n",
        "        dates.append(link)"
      ],
      "execution_count": 47,
      "outputs": [
        {
          "output_type": "stream",
          "text": [
            "Number of URLs in NIFTY BANK with dateofpub: 10\n",
            "Number of URLs in SBIN with dateofpub: 9\n",
            "Number of URLs in IDBI with dateofpub: 10\n",
            "Number of URLs in AXISBANK with dateofpub: 10\n",
            "Number of URLs in HDFCBANK with dateofpub: 10\n",
            "Number of URLs in KOTAKBANK with dateofpub: 8\n",
            "Number of URLs in PNB with dateofpub: 10\n",
            "Number of URLs in ICICIBANK with dateofpub: 10\n",
            "Number of URLs in BARODA with dateofpub: 10\n",
            "Number of URLs in CANARA with dateofpub: 10\n",
            "Number of URLs in INDUSIND with dateofpub: 9\n",
            "Number of URLs in BANKINDIA with dateofpub: 10\n",
            "Number of URLs in UNION with dateofpub: 10\n"
          ],
          "name": "stdout"
        }
      ]
    },
    {
      "cell_type": "code",
      "metadata": {
        "scrolled": true,
        "id": "_w5_eQ-mw1O2"
      },
      "source": [
        "news_data = get_news_data(ticker_list=ticker_list, cleaned_urls=cleaned_urls)"
      ],
      "execution_count": 48,
      "outputs": []
    },
    {
      "cell_type": "code",
      "metadata": {
        "scrolled": true,
        "id": "P5OGq-ySw1O2"
      },
      "source": [
        "dates = []\n",
        "for ticker in ticker_list:\n",
        "    for l in articles_publishdate[ticker]:\n",
        "        dates.append(l)\n",
        "\n",
        "news_data['Timestamp'] = dates"
      ],
      "execution_count": 49,
      "outputs": []
    },
    {
      "cell_type": "markdown",
      "metadata": {
        "id": "mXcZo1ifOP0E"
      },
      "source": [
        "Articles without publish date are removed and are converted to datetime datatype so that it uniform with the stock data"
      ]
    },
    {
      "cell_type": "code",
      "metadata": {
        "scrolled": true,
        "id": "I7G-Wmkuw1O2"
      },
      "source": [
        "news_data = news_data[news_data['Timestamp'] != 'None']"
      ],
      "execution_count": 50,
      "outputs": []
    },
    {
      "cell_type": "code",
      "metadata": {
        "id": "8AemEn8P8egm",
        "scrolled": true
      },
      "source": [
        "news_data['Timestamp'] = news_data['Timestamp'].apply(lambda date: datetime(int(date[:4]), int(date[5:7]), int(date[8:])))"
      ],
      "execution_count": 51,
      "outputs": []
    },
    {
      "cell_type": "code",
      "metadata": {
        "id": "xoZRIp-Cr2Yl",
        "scrolled": true
      },
      "source": [
        "def timestamp_adjuster(timestamp, start, delta):\n",
        "\n",
        "    if timestamp >= datetime(timestamp.year,timestamp.month,timestamp.day,9,15) and timestamp <= datetime(timestamp.year,timestamp.month,timestamp.day,15,15):\n",
        "        timestamp = start + math.ceil((timestamp - start) / delta) * delta\n",
        "\n",
        "    elif timestamp > datetime(timestamp.year,timestamp.month,timestamp.day,15,15) and timestamp < datetime(timestamp.year,timestamp.month,timestamp.day)+timedelta(days=1):\n",
        "        timestamp = datetime(timestamp.year,timestamp.month,timestamp.day,9,15) + timedelta(days=1)\n",
        "  \n",
        "    else:\n",
        "        timestamp = datetime(timestamp.year,timestamp.month,timestamp.day,9,15)\n",
        "  \n",
        "    return timestamp"
      ],
      "execution_count": 52,
      "outputs": []
    },
    {
      "cell_type": "code",
      "metadata": {
        "id": "Sy4ZzJ41o8od",
        "scrolled": true
      },
      "source": [
        "news_data['Timestamp'] = news_data['Timestamp'].apply(lambda x: datetime.strptime(x.strftime('%Y-%m-%d %H:%M:%S'), '%Y-%m-%d %H:%M:%S'))\n",
        "\n",
        "news_data['Timestamp'] = news_data['Timestamp'].apply(lambda x: timestamp_adjuster(x, start=datetime(2020,1,1,0,15), delta=timedelta(hours=1)))"
      ],
      "execution_count": 53,
      "outputs": []
    },
    {
      "cell_type": "code",
      "metadata": {
        "id": "5a3_T8DkQPzH",
        "scrolled": true
      },
      "source": [
        "news_data.dropna(subset=['Text'], axis=0, inplace=True)"
      ],
      "execution_count": 54,
      "outputs": []
    },
    {
      "cell_type": "code",
      "metadata": {
        "id": "fF06dbqHTYkY"
      },
      "source": [
        "news_data['Text'] = news_data['Text'].apply(lambda x: str(x))"
      ],
      "execution_count": 55,
      "outputs": []
    },
    {
      "cell_type": "code",
      "metadata": {
        "id": "aYeuBYJaQ4Ha"
      },
      "source": [
        "news_data.index = range(0, len(news_data))"
      ],
      "execution_count": 56,
      "outputs": []
    },
    {
      "cell_type": "code",
      "metadata": {
        "scrolled": false,
        "colab": {
          "base_uri": "https://localhost:8080/",
          "height": 204
        },
        "id": "Q_pY14jVw1O3",
        "outputId": "d9888292-14ed-4907-98a4-194df110b7d6"
      },
      "source": [
        "news_data.head()"
      ],
      "execution_count": 57,
      "outputs": [
        {
          "output_type": "execute_result",
          "data": {
            "text/html": [
              "<div>\n",
              "<style scoped>\n",
              "    .dataframe tbody tr th:only-of-type {\n",
              "        vertical-align: middle;\n",
              "    }\n",
              "\n",
              "    .dataframe tbody tr th {\n",
              "        vertical-align: top;\n",
              "    }\n",
              "\n",
              "    .dataframe thead th {\n",
              "        text-align: right;\n",
              "    }\n",
              "</style>\n",
              "<table border=\"1\" class=\"dataframe\">\n",
              "  <thead>\n",
              "    <tr style=\"text-align: right;\">\n",
              "      <th></th>\n",
              "      <th>link</th>\n",
              "      <th>Ticker</th>\n",
              "      <th>Text</th>\n",
              "      <th>Title</th>\n",
              "      <th>Timestamp</th>\n",
              "    </tr>\n",
              "  </thead>\n",
              "  <tbody>\n",
              "    <tr>\n",
              "      <th>0</th>\n",
              "      <td>https://www.financialexpress.com/market/what-n...</td>\n",
              "      <td>NIFTY BANK</td>\n",
              "      <td>Nifty August rollover is higher than its three...</td>\n",
              "      <td>What Nifty, Bank Nifty rollovers data says: Wh...</td>\n",
              "      <td>2021-08-27 09:15:00</td>\n",
              "    </tr>\n",
              "    <tr>\n",
              "      <th>1</th>\n",
              "      <td>https://www.zeebiz.com/market-news/news-nifty-...</td>\n",
              "      <td>NIFTY BANK</td>\n",
              "      <td>Nifty Bank indices were trading in the green o...</td>\n",
              "      <td>Nifty PSU BANK up 2% - SBI, Canara Bank, BoB l...</td>\n",
              "      <td>2021-08-30 09:15:00</td>\n",
              "    </tr>\n",
              "    <tr>\n",
              "      <th>2</th>\n",
              "      <td>https://www.financialexpress.com/market/cafein...</td>\n",
              "      <td>NIFTY BANK</td>\n",
              "      <td>Going ahead, we expect the index after the rec...</td>\n",
              "      <td>Nifty looks set to hit 17,200, Bank Nifty may ...</td>\n",
              "      <td>2021-08-30 09:15:00</td>\n",
              "    </tr>\n",
              "    <tr>\n",
              "      <th>3</th>\n",
              "      <td>https://www.zeebiz.com/market-news/news-stock-...</td>\n",
              "      <td>NIFTY BANK</td>\n",
              "      <td>Stock Markets on Monday - The stocks markets s...</td>\n",
              "      <td>Stock Markets Outlook – Anil Singhvi gives Nif...</td>\n",
              "      <td>2021-08-29 09:15:00</td>\n",
              "    </tr>\n",
              "    <tr>\n",
              "      <th>4</th>\n",
              "      <td>https://www.livemint.com/market/stock-market-n...</td>\n",
              "      <td>NIFTY BANK</td>\n",
              "      <td>Indian stock market benchmarks Sensex and Nift...</td>\n",
              "      <td>Nifty closes in on 17,000 as bulls take charge...</td>\n",
              "      <td>2021-08-30 09:15:00</td>\n",
              "    </tr>\n",
              "  </tbody>\n",
              "</table>\n",
              "</div>"
            ],
            "text/plain": [
              "                                                link  ...           Timestamp\n",
              "0  https://www.financialexpress.com/market/what-n...  ... 2021-08-27 09:15:00\n",
              "1  https://www.zeebiz.com/market-news/news-nifty-...  ... 2021-08-30 09:15:00\n",
              "2  https://www.financialexpress.com/market/cafein...  ... 2021-08-30 09:15:00\n",
              "3  https://www.zeebiz.com/market-news/news-stock-...  ... 2021-08-29 09:15:00\n",
              "4  https://www.livemint.com/market/stock-market-n...  ... 2021-08-30 09:15:00\n",
              "\n",
              "[5 rows x 5 columns]"
            ]
          },
          "metadata": {},
          "execution_count": 57
        }
      ]
    },
    {
      "cell_type": "code",
      "metadata": {
        "colab": {
          "base_uri": "https://localhost:8080/"
        },
        "id": "dQBsaXIrnAqd",
        "outputId": "15dff879-d1ad-4bfb-cf9f-5fc2049e01c2"
      },
      "source": [
        "first_ne, last_ne = firstandlastdate(news_data)\n",
        "\n",
        "print('Starting: '+str(first_ne) +'\\n' +'Ending: '+str(last_ne))"
      ],
      "execution_count": 58,
      "outputs": [
        {
          "output_type": "stream",
          "text": [
            "Starting: 2021-05-29 09:15:00\n",
            "Ending: 2021-08-31 09:15:00\n"
          ],
          "name": "stdout"
        }
      ]
    },
    {
      "cell_type": "markdown",
      "metadata": {
        "id": "6sqkUG3ckgOt"
      },
      "source": [
        "\n",
        "\n",
        "# GETTING STOCKS DATA"
      ]
    },
    {
      "cell_type": "markdown",
      "metadata": {
        "id": "KoPyXvBJOo36"
      },
      "source": [
        "Stock data with a resolution of 1 hour is extracted from Yahoo Finance using appropriate tickers for the period where news data and tweets are available"
      ]
    },
    {
      "cell_type": "code",
      "metadata": {
        "id": "4uphikKVmL2f",
        "scrolled": true
      },
      "source": [
        "def get_stocksdata(ticker_list, start, end, period, resolution):\n",
        "    stocks_data = pd.DataFrame()\n",
        "    for i in range(len(ticker_list)):\n",
        "        temp = yf.download(tickers=[ticker_list[i-1]], start=start, end=end, auto_adjust=True, period=period, interval=resolution)\n",
        "        temp['Timestamp'] = temp.index\n",
        "        temp['Symbol'] = ticker_list[i-1]\n",
        "        stocks_data = stocks_data.append(temp)\n",
        "    return stocks_data"
      ],
      "execution_count": 59,
      "outputs": []
    },
    {
      "cell_type": "code",
      "metadata": {
        "id": "AzLd3yk_f9Q2",
        "scrolled": true,
        "colab": {
          "base_uri": "https://localhost:8080/"
        },
        "outputId": "0c314edd-4c96-4427-930c-ce5d3e46d209"
      },
      "source": [
        "stocks_ticker_list = [\"^NSEBANK\", 'SBIN.NS', 'IDBI.NS', 'AXISBANK.NS', 'HDFCBANK.NS', 'KOTAKBANK.NS', 'PNB.NS', 'ICICIBANK.NS', 'BANKBARODA.NS', 'CANBK.NS', 'INDUSINDBK.NS', 'BANKINDIA.NS', 'UNIONBANK.NS'] \n",
        "start = min(first_tw, first_ne)\n",
        "end = min(last_tw, last_ne)\n",
        "period = '1d'\n",
        "resolution = '1h'\n",
        "\n",
        "stocks_data = get_stocksdata(ticker_list=stocks_ticker_list, start=start, end=end, period=period, resolution=resolution)"
      ],
      "execution_count": 60,
      "outputs": [
        {
          "output_type": "stream",
          "text": [
            "[*********************100%***********************]  1 of 1 completed\n",
            "[*********************100%***********************]  1 of 1 completed\n",
            "[*********************100%***********************]  1 of 1 completed\n",
            "[*********************100%***********************]  1 of 1 completed\n",
            "[*********************100%***********************]  1 of 1 completed\n",
            "[*********************100%***********************]  1 of 1 completed\n",
            "[*********************100%***********************]  1 of 1 completed\n",
            "[*********************100%***********************]  1 of 1 completed\n",
            "[*********************100%***********************]  1 of 1 completed\n",
            "[*********************100%***********************]  1 of 1 completed\n",
            "[*********************100%***********************]  1 of 1 completed\n",
            "[*********************100%***********************]  1 of 1 completed\n",
            "[*********************100%***********************]  1 of 1 completed\n"
          ],
          "name": "stdout"
        }
      ]
    },
    {
      "cell_type": "code",
      "metadata": {
        "id": "OtkSJXl7RrgB",
        "scrolled": true
      },
      "source": [
        "stocks_data.index = range(1, len(stocks_data)+1)"
      ],
      "execution_count": 61,
      "outputs": []
    },
    {
      "cell_type": "code",
      "metadata": {
        "id": "D4rA5OwYTsml",
        "scrolled": true
      },
      "source": [
        "stocks_data['Date'] = stocks_data['Timestamp'].apply(lambda x: x.date)\n",
        "\n",
        "stocks_data['Time'] = stocks_data['Timestamp'].apply(lambda x: x.time)\n",
        "\n",
        "stocks_data['Timestamp'] = stocks_data['Timestamp'].apply(lambda x: datetime.strptime(x.strftime('%Y-%m-%d %H:%M:%S'), '%Y-%m-%d %H:%M:%S'))"
      ],
      "execution_count": 62,
      "outputs": []
    },
    {
      "cell_type": "code",
      "metadata": {
        "id": "wqy-vXkFWAf4",
        "scrolled": true
      },
      "source": [
        "stocks_symbol_map = {'NIFTY BANK':\"^NSEBANK\", 'SBIN':'SBIN.NS', 'IDBI':'IDBI.NS', 'AXISBANK':'AXISBANK.NS', 'HDFCBANK':'HDFCBANK.NS', \n",
        "                     'KOTAKBANK':'KOTAKBANK.NS', 'PNB':'PNB.NS', 'ICICIBANK':'ICICIBANK.NS', 'BARODA':'BANKBARODA.NS', \n",
        "                     'CANARA':'CANBK.NS', 'INDUSIND':'INDUSINDBK.NS', 'BANKINDIA':'BANKINDIA.NS', 'UNION':'UNIONBANK.NS'}\n",
        "symbol_stocks_map = {k:v for v,k in stocks_symbol_map.items()}\n",
        "\n",
        "stocks_data['Ticker'] = stocks_data['Symbol'].map(symbol_stocks_map)"
      ],
      "execution_count": 63,
      "outputs": []
    },
    {
      "cell_type": "code",
      "metadata": {
        "scrolled": true,
        "colab": {
          "base_uri": "https://localhost:8080/",
          "height": 204
        },
        "id": "YkwuRBBhw1O6",
        "outputId": "ae7e416d-a15e-404d-cf3a-cf9664dcf03e"
      },
      "source": [
        "stocks_data.head()"
      ],
      "execution_count": 64,
      "outputs": [
        {
          "output_type": "execute_result",
          "data": {
            "text/html": [
              "<div>\n",
              "<style scoped>\n",
              "    .dataframe tbody tr th:only-of-type {\n",
              "        vertical-align: middle;\n",
              "    }\n",
              "\n",
              "    .dataframe tbody tr th {\n",
              "        vertical-align: top;\n",
              "    }\n",
              "\n",
              "    .dataframe thead th {\n",
              "        text-align: right;\n",
              "    }\n",
              "</style>\n",
              "<table border=\"1\" class=\"dataframe\">\n",
              "  <thead>\n",
              "    <tr style=\"text-align: right;\">\n",
              "      <th></th>\n",
              "      <th>Open</th>\n",
              "      <th>High</th>\n",
              "      <th>Low</th>\n",
              "      <th>Close</th>\n",
              "      <th>Volume</th>\n",
              "      <th>Timestamp</th>\n",
              "      <th>Symbol</th>\n",
              "      <th>Date</th>\n",
              "      <th>Time</th>\n",
              "      <th>Ticker</th>\n",
              "    </tr>\n",
              "  </thead>\n",
              "  <tbody>\n",
              "    <tr>\n",
              "      <th>1</th>\n",
              "      <td>34.700001</td>\n",
              "      <td>35.000000</td>\n",
              "      <td>34.400002</td>\n",
              "      <td>34.750000</td>\n",
              "      <td>0</td>\n",
              "      <td>2021-05-31 09:15:00</td>\n",
              "      <td>UNIONBANK.NS</td>\n",
              "      <td>2021-05-31</td>\n",
              "      <td>09:15:00</td>\n",
              "      <td>UNION</td>\n",
              "    </tr>\n",
              "    <tr>\n",
              "      <th>2</th>\n",
              "      <td>34.700001</td>\n",
              "      <td>34.799999</td>\n",
              "      <td>34.599998</td>\n",
              "      <td>34.750000</td>\n",
              "      <td>3370432</td>\n",
              "      <td>2021-05-31 10:15:00</td>\n",
              "      <td>UNIONBANK.NS</td>\n",
              "      <td>2021-05-31</td>\n",
              "      <td>10:15:00</td>\n",
              "      <td>UNION</td>\n",
              "    </tr>\n",
              "    <tr>\n",
              "      <th>3</th>\n",
              "      <td>34.750000</td>\n",
              "      <td>34.799999</td>\n",
              "      <td>34.650002</td>\n",
              "      <td>34.700001</td>\n",
              "      <td>1836495</td>\n",
              "      <td>2021-05-31 11:15:00</td>\n",
              "      <td>UNIONBANK.NS</td>\n",
              "      <td>2021-05-31</td>\n",
              "      <td>11:15:00</td>\n",
              "      <td>UNION</td>\n",
              "    </tr>\n",
              "    <tr>\n",
              "      <th>4</th>\n",
              "      <td>34.700001</td>\n",
              "      <td>34.799999</td>\n",
              "      <td>34.599998</td>\n",
              "      <td>34.750000</td>\n",
              "      <td>1983424</td>\n",
              "      <td>2021-05-31 12:15:00</td>\n",
              "      <td>UNIONBANK.NS</td>\n",
              "      <td>2021-05-31</td>\n",
              "      <td>12:15:00</td>\n",
              "      <td>UNION</td>\n",
              "    </tr>\n",
              "    <tr>\n",
              "      <th>5</th>\n",
              "      <td>34.799999</td>\n",
              "      <td>34.799999</td>\n",
              "      <td>34.650002</td>\n",
              "      <td>34.700001</td>\n",
              "      <td>1751425</td>\n",
              "      <td>2021-05-31 13:15:00</td>\n",
              "      <td>UNIONBANK.NS</td>\n",
              "      <td>2021-05-31</td>\n",
              "      <td>13:15:00</td>\n",
              "      <td>UNION</td>\n",
              "    </tr>\n",
              "  </tbody>\n",
              "</table>\n",
              "</div>"
            ],
            "text/plain": [
              "        Open       High        Low  ...        Date      Time Ticker\n",
              "1  34.700001  35.000000  34.400002  ...  2021-05-31  09:15:00  UNION\n",
              "2  34.700001  34.799999  34.599998  ...  2021-05-31  10:15:00  UNION\n",
              "3  34.750000  34.799999  34.650002  ...  2021-05-31  11:15:00  UNION\n",
              "4  34.700001  34.799999  34.599998  ...  2021-05-31  12:15:00  UNION\n",
              "5  34.799999  34.799999  34.650002  ...  2021-05-31  13:15:00  UNION\n",
              "\n",
              "[5 rows x 10 columns]"
            ]
          },
          "metadata": {},
          "execution_count": 64
        }
      ]
    },
    {
      "cell_type": "code",
      "metadata": {
        "scrolled": true,
        "id": "qYv0_cAOw1O7"
      },
      "source": [
        "stocks_data = stocks_data[['Open', 'Volume', 'Ticker', 'Timestamp']]"
      ],
      "execution_count": 65,
      "outputs": []
    },
    {
      "cell_type": "code",
      "metadata": {
        "colab": {
          "base_uri": "https://localhost:8080/"
        },
        "id": "sdRJ31lsOf82",
        "outputId": "6d44af9e-a8d1-4f29-f2dc-25b44586bd23"
      },
      "source": [
        "for i in range(1, len(stocks_data['Timestamp'])+1):\n",
        "  temp = stocks_data['Timestamp'][i]\n",
        "  stocks_data['Timestamp'][i] = datetime(temp.year, temp.month, temp.day, temp.hour, temp.minute, temp.second)"
      ],
      "execution_count": 66,
      "outputs": [
        {
          "output_type": "stream",
          "text": [
            "/usr/local/lib/python3.7/dist-packages/ipykernel_launcher.py:3: SettingWithCopyWarning: \n",
            "A value is trying to be set on a copy of a slice from a DataFrame\n",
            "\n",
            "See the caveats in the documentation: https://pandas.pydata.org/pandas-docs/stable/user_guide/indexing.html#returning-a-view-versus-a-copy\n",
            "  This is separate from the ipykernel package so we can avoid doing imports until\n"
          ],
          "name": "stderr"
        }
      ]
    },
    {
      "cell_type": "code",
      "metadata": {
        "colab": {
          "base_uri": "https://localhost:8080/",
          "height": 418
        },
        "id": "dY3pXFs2IIBA",
        "outputId": "9742cc7a-f48e-4d4e-b8cb-f42314efb41a"
      },
      "source": [
        "stocks_data[stocks_data['Ticker'] == 'NIFTY BANK']"
      ],
      "execution_count": 67,
      "outputs": [
        {
          "output_type": "execute_result",
          "data": {
            "text/html": [
              "<div>\n",
              "<style scoped>\n",
              "    .dataframe tbody tr th:only-of-type {\n",
              "        vertical-align: middle;\n",
              "    }\n",
              "\n",
              "    .dataframe tbody tr th {\n",
              "        vertical-align: top;\n",
              "    }\n",
              "\n",
              "    .dataframe thead th {\n",
              "        text-align: right;\n",
              "    }\n",
              "</style>\n",
              "<table border=\"1\" class=\"dataframe\">\n",
              "  <thead>\n",
              "    <tr style=\"text-align: right;\">\n",
              "      <th></th>\n",
              "      <th>Open</th>\n",
              "      <th>Volume</th>\n",
              "      <th>Ticker</th>\n",
              "      <th>Timestamp</th>\n",
              "    </tr>\n",
              "  </thead>\n",
              "  <tbody>\n",
              "    <tr>\n",
              "      <th>452</th>\n",
              "      <td>35097.449219</td>\n",
              "      <td>0</td>\n",
              "      <td>NIFTY BANK</td>\n",
              "      <td>2021-05-31 09:15:00</td>\n",
              "    </tr>\n",
              "    <tr>\n",
              "      <th>453</th>\n",
              "      <td>35346.601562</td>\n",
              "      <td>0</td>\n",
              "      <td>NIFTY BANK</td>\n",
              "      <td>2021-05-31 10:15:00</td>\n",
              "    </tr>\n",
              "    <tr>\n",
              "      <th>454</th>\n",
              "      <td>35271.699219</td>\n",
              "      <td>0</td>\n",
              "      <td>NIFTY BANK</td>\n",
              "      <td>2021-05-31 11:15:00</td>\n",
              "    </tr>\n",
              "    <tr>\n",
              "      <th>455</th>\n",
              "      <td>35335.050781</td>\n",
              "      <td>0</td>\n",
              "      <td>NIFTY BANK</td>\n",
              "      <td>2021-05-31 12:15:00</td>\n",
              "    </tr>\n",
              "    <tr>\n",
              "      <th>456</th>\n",
              "      <td>35427.750000</td>\n",
              "      <td>0</td>\n",
              "      <td>NIFTY BANK</td>\n",
              "      <td>2021-05-31 13:15:00</td>\n",
              "    </tr>\n",
              "    <tr>\n",
              "      <th>...</th>\n",
              "      <td>...</td>\n",
              "      <td>...</td>\n",
              "      <td>...</td>\n",
              "      <td>...</td>\n",
              "    </tr>\n",
              "    <tr>\n",
              "      <th>898</th>\n",
              "      <td>36312.648438</td>\n",
              "      <td>0</td>\n",
              "      <td>NIFTY BANK</td>\n",
              "      <td>2021-08-30 14:15:00</td>\n",
              "    </tr>\n",
              "    <tr>\n",
              "      <th>899</th>\n",
              "      <td>36342.250000</td>\n",
              "      <td>0</td>\n",
              "      <td>NIFTY BANK</td>\n",
              "      <td>2021-08-30 15:15:00</td>\n",
              "    </tr>\n",
              "    <tr>\n",
              "      <th>900</th>\n",
              "      <td>36367.398438</td>\n",
              "      <td>0</td>\n",
              "      <td>NIFTY BANK</td>\n",
              "      <td>2021-08-31 09:15:00</td>\n",
              "    </tr>\n",
              "    <tr>\n",
              "      <th>901</th>\n",
              "      <td>36328.750000</td>\n",
              "      <td>0</td>\n",
              "      <td>NIFTY BANK</td>\n",
              "      <td>2021-08-31 10:15:00</td>\n",
              "    </tr>\n",
              "    <tr>\n",
              "      <th>902</th>\n",
              "      <td>36450.699219</td>\n",
              "      <td>0</td>\n",
              "      <td>NIFTY BANK</td>\n",
              "      <td>2021-08-31 10:42:03</td>\n",
              "    </tr>\n",
              "  </tbody>\n",
              "</table>\n",
              "<p>451 rows × 4 columns</p>\n",
              "</div>"
            ],
            "text/plain": [
              "             Open  Volume      Ticker           Timestamp\n",
              "452  35097.449219       0  NIFTY BANK 2021-05-31 09:15:00\n",
              "453  35346.601562       0  NIFTY BANK 2021-05-31 10:15:00\n",
              "454  35271.699219       0  NIFTY BANK 2021-05-31 11:15:00\n",
              "455  35335.050781       0  NIFTY BANK 2021-05-31 12:15:00\n",
              "456  35427.750000       0  NIFTY BANK 2021-05-31 13:15:00\n",
              "..            ...     ...         ...                 ...\n",
              "898  36312.648438       0  NIFTY BANK 2021-08-30 14:15:00\n",
              "899  36342.250000       0  NIFTY BANK 2021-08-30 15:15:00\n",
              "900  36367.398438       0  NIFTY BANK 2021-08-31 09:15:00\n",
              "901  36328.750000       0  NIFTY BANK 2021-08-31 10:15:00\n",
              "902  36450.699219       0  NIFTY BANK 2021-08-31 10:42:03\n",
              "\n",
              "[451 rows x 4 columns]"
            ]
          },
          "metadata": {},
          "execution_count": 67
        }
      ]
    },
    {
      "cell_type": "markdown",
      "metadata": {
        "id": "7h8vGUlJBg9z"
      },
      "source": [
        "\n",
        "\n",
        "# SUMMARIZING TEXT AND PERFORMING SENTIMENT ANALYSIS"
      ]
    },
    {
      "cell_type": "code",
      "metadata": {
        "id": "b_Q91csaADgl",
        "scrolled": true
      },
      "source": [
        "tweets['Timestamp'] = tweets['Timestamp'].apply(lambda x: timestamp_adjuster(timestamp=x, start=datetime(2020,1,1,0,15), delta=timedelta(hours=1)))"
      ],
      "execution_count": 68,
      "outputs": []
    },
    {
      "cell_type": "code",
      "metadata": {
        "scrolled": true,
        "id": "jRKJWFQjw1O6"
      },
      "source": [
        "tweets = tweets[['Ticker', 'Title', 'Timestamp']]"
      ],
      "execution_count": 69,
      "outputs": []
    },
    {
      "cell_type": "code",
      "metadata": {
        "id": "mAWJJe_IfvB-"
      },
      "source": [
        "tweets.columns = ['Ticker', 'Text Summary', 'Timestamp']"
      ],
      "execution_count": 70,
      "outputs": []
    },
    {
      "cell_type": "markdown",
      "metadata": {
        "id": "vBS_VX-BPX9H"
      },
      "source": [
        "News data is summarized using a pre-trained model"
      ]
    },
    {
      "cell_type": "code",
      "metadata": {
        "colab": {
          "base_uri": "https://localhost:8080/",
          "height": 177,
          "referenced_widgets": [
            "c75530c80ef341ab83674191990a6e92",
            "884b246649284743a41371b369534e59",
            "19a2c572966b465eb1b190929b375690",
            "4cd4102b9f324c818f5d0192027ff34c",
            "ad84a66ff33f4e018ff3baf59b74430e",
            "4d038c74312843a58bfc745a3cbec1bd",
            "39a9206af7ce4feb82c7441ffce4c880",
            "c43001054bf3494cb5464f829abf7603",
            "87b25a8eff4047d1868336fa265842a8",
            "2ec016617d5d46ac89f123f441a651f0",
            "8f85e3295c4a40648101f9ee4ff46d85",
            "b07e9ee3338a44c88ee7049ef7213129",
            "20ddb66179904fc0ade57df0303bee22",
            "dfa652da62e74700ba129e7616885e27",
            "f40355053d934da3a1eee5ac4e1a1070",
            "7a0d0b15467a4daba83e33297d548165",
            "1d1af2aa2a30459c8d478c08a2dbd49e",
            "6dc89f603f314f5da621588759e88b99",
            "56ac7757f663483c90498bd39e80e3df",
            "72d7a18279da401497cd67c9527cbbf7",
            "ef594405dac84dc5bb0a7ed29f0b102a",
            "fba7756be6ab4df08423a0c98abacba5",
            "3d2959c21bb146448e1eea2bf958b192",
            "a11a6405184040689419f948aeec31a9",
            "fa1d31fc1c8d4a018ad8cfe3b14eedc2",
            "ec84a4a1c0814cd780e02f03b3791f92",
            "1d9e7346c1ae41d2b71abd5b2d5970ed",
            "3e731a03358f46d59fd4886c247c1be9",
            "e73ad5b801ee4a3d83ce53df32383807",
            "943d8ec2dfe94ca6a7ca3dff679ad4b9",
            "57fabc0f868a420b93bef5a403f0332b",
            "d6889c4cc4784d909e459c21117debcd",
            "818350781ac342ba90eb5f3c2fb68fc8",
            "c92d22958fe54f23aeafa87bea4f7b04",
            "cce27ddf06b542a5878bb17a2d38c6e3",
            "a7be43bd00ab48e98477b80fbfb374e4",
            "aecabcdcd67245b1ae2cbbaea8f40ff0",
            "8fe44ee45bb743578230284464b17663",
            "d93e2b8ed8d743e58c74e712cfc0da86",
            "892bccb9c5344f75aba7110d3c8ac5fb",
            "bccb7b7960b14aa49ae58c597ba74592",
            "62ab3dbeec5944de9bea149a6dfbc8d3",
            "00be0f7cf30b4aa383876f68aa91eba7",
            "684fcaedf0d340beac98e5e5fbd7b6ef",
            "4d03b7aeb7df4ba983a7634768ee78f4",
            "21baedb3ac974121bc44b29d8964fcda",
            "93b279a5b55d4574bf8d68e187c7c72a",
            "1dbbc16f0ef84a3887f53c5dd08d03c2",
            "b3d3b6a0991d4b82aee19edd275e018d",
            "3ac944f69b314c6196a116fee36caea3",
            "7bcaf31230544d7eb1871930ba8180a5",
            "a738f1a3b9bb4fd782966b23104ed470",
            "4c15b744299e4641ae675e84657a31ab",
            "753ad4f29a50466f9aff30e0e1b514a4",
            "a912089d6ccc499bb26d5f62db16089c"
          ]
        },
        "id": "C8wRnDNfCWDT",
        "outputId": "eb071e93-67a9-4d2b-c2e6-6acc9094bb81"
      },
      "source": [
        "summarizer = pipeline(\"summarization\")"
      ],
      "execution_count": 71,
      "outputs": [
        {
          "output_type": "display_data",
          "data": {
            "application/vnd.jupyter.widget-view+json": {
              "model_id": "c75530c80ef341ab83674191990a6e92",
              "version_minor": 0,
              "version_major": 2
            },
            "text/plain": [
              "Downloading:   0%|          | 0.00/1.80k [00:00<?, ?B/s]"
            ]
          },
          "metadata": {}
        },
        {
          "output_type": "display_data",
          "data": {
            "application/vnd.jupyter.widget-view+json": {
              "model_id": "b07e9ee3338a44c88ee7049ef7213129",
              "version_minor": 0,
              "version_major": 2
            },
            "text/plain": [
              "Downloading:   0%|          | 0.00/1.22G [00:00<?, ?B/s]"
            ]
          },
          "metadata": {}
        },
        {
          "output_type": "display_data",
          "data": {
            "application/vnd.jupyter.widget-view+json": {
              "model_id": "3d2959c21bb146448e1eea2bf958b192",
              "version_minor": 0,
              "version_major": 2
            },
            "text/plain": [
              "Downloading:   0%|          | 0.00/899k [00:00<?, ?B/s]"
            ]
          },
          "metadata": {}
        },
        {
          "output_type": "display_data",
          "data": {
            "application/vnd.jupyter.widget-view+json": {
              "model_id": "c92d22958fe54f23aeafa87bea4f7b04",
              "version_minor": 0,
              "version_major": 2
            },
            "text/plain": [
              "Downloading:   0%|          | 0.00/456k [00:00<?, ?B/s]"
            ]
          },
          "metadata": {}
        },
        {
          "output_type": "display_data",
          "data": {
            "application/vnd.jupyter.widget-view+json": {
              "model_id": "4d03b7aeb7df4ba983a7634768ee78f4",
              "version_minor": 0,
              "version_major": 2
            },
            "text/plain": [
              "Downloading:   0%|          | 0.00/26.0 [00:00<?, ?B/s]"
            ]
          },
          "metadata": {}
        }
      ]
    },
    {
      "cell_type": "code",
      "metadata": {
        "colab": {
          "base_uri": "https://localhost:8080/"
        },
        "id": "9pMtO_KU5m8B",
        "outputId": "b3a317e1-4fb7-4fdd-dec4-baee72780b58"
      },
      "source": [
        "Text_Summary = []\n",
        "for i in range(0, len(news_data['Text'])):\n",
        "  summary = summarizer(news_data['Text'][i][:512], max_length=50, min_length=25, do_sample=False)[0]['summary_text']\n",
        "  Text_Summary.append(summary)"
      ],
      "execution_count": 72,
      "outputs": [
        {
          "output_type": "stream",
          "text": [
            "/usr/local/lib/python3.7/dist-packages/torch/_tensor.py:575: UserWarning: floor_divide is deprecated, and will be removed in a future version of pytorch. It currently rounds toward 0 (like the 'trunc' function NOT 'floor'). This results in incorrect rounding for negative values.\n",
            "To keep the current behavior, use torch.div(a, b, rounding_mode='trunc'), or for actual floor division, use torch.div(a, b, rounding_mode='floor'). (Triggered internally at  /pytorch/aten/src/ATen/native/BinaryOps.cpp:467.)\n",
            "  return torch.floor_divide(self, other)\n",
            "Your max_length is set to 50, but you input_length is only 34. You might consider decreasing max_length manually, e.g. summarizer('...', max_length=50)\n",
            "Your max_length is set to 50, but you input_length is only 40. You might consider decreasing max_length manually, e.g. summarizer('...', max_length=50)\n",
            "Your max_length is set to 50, but you input_length is only 44. You might consider decreasing max_length manually, e.g. summarizer('...', max_length=50)\n"
          ],
          "name": "stderr"
        }
      ]
    },
    {
      "cell_type": "code",
      "metadata": {
        "id": "iGIJRG23SFjD"
      },
      "source": [
        "news_data['Text Summary'] = Text_Summary"
      ],
      "execution_count": 73,
      "outputs": []
    },
    {
      "cell_type": "code",
      "metadata": {
        "id": "GHJRH-GY529w"
      },
      "source": [
        "news_and_tweets = news_data[['Ticker', 'Text Summary', 'Timestamp']].append(tweets)"
      ],
      "execution_count": 74,
      "outputs": []
    },
    {
      "cell_type": "code",
      "metadata": {
        "id": "F3Cgsqt3m6C3"
      },
      "source": [
        "news_and_tweets.index = range(0, len(news_and_tweets['Text Summary']))"
      ],
      "execution_count": 75,
      "outputs": []
    },
    {
      "cell_type": "code",
      "metadata": {
        "colab": {
          "base_uri": "https://localhost:8080/",
          "height": 204
        },
        "id": "VbnPem0InYOz",
        "outputId": "51b9ee96-1411-4bc9-fc26-f194e5bf15d2"
      },
      "source": [
        "news_and_tweets.head()"
      ],
      "execution_count": 76,
      "outputs": [
        {
          "output_type": "execute_result",
          "data": {
            "text/html": [
              "<div>\n",
              "<style scoped>\n",
              "    .dataframe tbody tr th:only-of-type {\n",
              "        vertical-align: middle;\n",
              "    }\n",
              "\n",
              "    .dataframe tbody tr th {\n",
              "        vertical-align: top;\n",
              "    }\n",
              "\n",
              "    .dataframe thead th {\n",
              "        text-align: right;\n",
              "    }\n",
              "</style>\n",
              "<table border=\"1\" class=\"dataframe\">\n",
              "  <thead>\n",
              "    <tr style=\"text-align: right;\">\n",
              "      <th></th>\n",
              "      <th>Ticker</th>\n",
              "      <th>Text Summary</th>\n",
              "      <th>Timestamp</th>\n",
              "    </tr>\n",
              "  </thead>\n",
              "  <tbody>\n",
              "    <tr>\n",
              "      <th>0</th>\n",
              "      <td>NIFTY BANK</td>\n",
              "      <td>Nifty 50 may once again surge higher to hit f...</td>\n",
              "      <td>2021-08-27 09:15:00</td>\n",
              "    </tr>\n",
              "    <tr>\n",
              "      <th>1</th>\n",
              "      <td>NIFTY BANK</td>\n",
              "      <td>Nifty Bank indices were trading in the green ...</td>\n",
              "      <td>2021-08-30 09:15:00</td>\n",
              "    </tr>\n",
              "    <tr>\n",
              "      <th>2</th>\n",
              "      <td>NIFTY BANK</td>\n",
              "      <td>The broader market indices snapped past two w...</td>\n",
              "      <td>2021-08-30 09:15:00</td>\n",
              "    </tr>\n",
              "    <tr>\n",
              "      <th>3</th>\n",
              "      <td>NIFTY BANK</td>\n",
              "      <td>The Sensex ended at 56,124.72 on Friday, gain...</td>\n",
              "      <td>2021-08-29 09:15:00</td>\n",
              "    </tr>\n",
              "    <tr>\n",
              "      <th>4</th>\n",
              "      <td>NIFTY BANK</td>\n",
              "      <td>NSE Nifty 50 index ended 1.35% higher to 16,9...</td>\n",
              "      <td>2021-08-30 09:15:00</td>\n",
              "    </tr>\n",
              "  </tbody>\n",
              "</table>\n",
              "</div>"
            ],
            "text/plain": [
              "       Ticker  ...           Timestamp\n",
              "0  NIFTY BANK  ... 2021-08-27 09:15:00\n",
              "1  NIFTY BANK  ... 2021-08-30 09:15:00\n",
              "2  NIFTY BANK  ... 2021-08-30 09:15:00\n",
              "3  NIFTY BANK  ... 2021-08-29 09:15:00\n",
              "4  NIFTY BANK  ... 2021-08-30 09:15:00\n",
              "\n",
              "[5 rows x 3 columns]"
            ]
          },
          "metadata": {},
          "execution_count": 76
        }
      ]
    },
    {
      "cell_type": "markdown",
      "metadata": {
        "id": "XSmIuf2NPmAm"
      },
      "source": [
        "Irrelavant and insignificant words are removed and fed into FINBERT model for performing Sentiment Analysis\n",
        "\n",
        "FINBERT is a pre-trained NLP model with weights for a corpus of words from the English language with more relevance to financial context"
      ]
    },
    {
      "cell_type": "code",
      "metadata": {
        "colab": {
          "base_uri": "https://localhost:8080/"
        },
        "id": "jujJeALcw8J_",
        "outputId": "e2cb2067-6806-4a69-b5aa-2e10eaaf96f7"
      },
      "source": [
        "stop = stopwords.words('english')\n",
        "stop[:5]"
      ],
      "execution_count": 77,
      "outputs": [
        {
          "output_type": "execute_result",
          "data": {
            "text/plain": [
              "['i', 'me', 'my', 'myself', 'we']"
            ]
          },
          "metadata": {},
          "execution_count": 77
        }
      ]
    },
    {
      "cell_type": "code",
      "metadata": {
        "id": "DqxjAtLYz2oH"
      },
      "source": [
        "news_and_tweets['Text Summary'] = news_and_tweets['Text Summary'].apply(lambda x: ' '.join([w for w in x.split() if w not in stop]))"
      ],
      "execution_count": 78,
      "outputs": []
    },
    {
      "cell_type": "code",
      "metadata": {
        "colab": {
          "base_uri": "https://localhost:8080/",
          "height": 204
        },
        "id": "3ZRdEwrd6zsL",
        "outputId": "3bf120e2-e025-4000-f198-8b96c89dd10c"
      },
      "source": [
        "news_and_tweets.head()"
      ],
      "execution_count": 79,
      "outputs": [
        {
          "output_type": "execute_result",
          "data": {
            "text/html": [
              "<div>\n",
              "<style scoped>\n",
              "    .dataframe tbody tr th:only-of-type {\n",
              "        vertical-align: middle;\n",
              "    }\n",
              "\n",
              "    .dataframe tbody tr th {\n",
              "        vertical-align: top;\n",
              "    }\n",
              "\n",
              "    .dataframe thead th {\n",
              "        text-align: right;\n",
              "    }\n",
              "</style>\n",
              "<table border=\"1\" class=\"dataframe\">\n",
              "  <thead>\n",
              "    <tr style=\"text-align: right;\">\n",
              "      <th></th>\n",
              "      <th>Ticker</th>\n",
              "      <th>Text Summary</th>\n",
              "      <th>Timestamp</th>\n",
              "    </tr>\n",
              "  </thead>\n",
              "  <tbody>\n",
              "    <tr>\n",
              "      <th>0</th>\n",
              "      <td>NIFTY BANK</td>\n",
              "      <td>Nifty 50 may surge higher hit fresh all-time h...</td>\n",
              "      <td>2021-08-27 09:15:00</td>\n",
              "    </tr>\n",
              "    <tr>\n",
              "      <th>1</th>\n",
              "      <td>NIFTY BANK</td>\n",
              "      <td>Nifty Bank indices trading green Monday taking...</td>\n",
              "      <td>2021-08-30 09:15:00</td>\n",
              "    </tr>\n",
              "    <tr>\n",
              "      <th>2</th>\n",
              "      <td>NIFTY BANK</td>\n",
              "      <td>The broader market indices snapped past two we...</td>\n",
              "      <td>2021-08-30 09:15:00</td>\n",
              "    </tr>\n",
              "    <tr>\n",
              "      <th>3</th>\n",
              "      <td>NIFTY BANK</td>\n",
              "      <td>The Sensex ended 56,124.72 Friday, gaining alm...</td>\n",
              "      <td>2021-08-29 09:15:00</td>\n",
              "    </tr>\n",
              "    <tr>\n",
              "      <th>4</th>\n",
              "      <td>NIFTY BANK</td>\n",
              "      <td>NSE Nifty 50 index ended 1.35% higher 16,931 e...</td>\n",
              "      <td>2021-08-30 09:15:00</td>\n",
              "    </tr>\n",
              "  </tbody>\n",
              "</table>\n",
              "</div>"
            ],
            "text/plain": [
              "       Ticker  ...           Timestamp\n",
              "0  NIFTY BANK  ... 2021-08-27 09:15:00\n",
              "1  NIFTY BANK  ... 2021-08-30 09:15:00\n",
              "2  NIFTY BANK  ... 2021-08-30 09:15:00\n",
              "3  NIFTY BANK  ... 2021-08-29 09:15:00\n",
              "4  NIFTY BANK  ... 2021-08-30 09:15:00\n",
              "\n",
              "[5 rows x 3 columns]"
            ]
          },
          "metadata": {},
          "execution_count": 79
        }
      ]
    },
    {
      "cell_type": "code",
      "metadata": {
        "colab": {
          "base_uri": "https://localhost:8080/",
          "height": 177,
          "referenced_widgets": [
            "2d23247499754d63809a7c858096e469",
            "3b0205d33cdb48919f69bf184016d783",
            "7808818ed4d44282a59d5183c7f42589",
            "587273957c324e5984fd67346ea5b5ab",
            "518c9641fb5943ca904818fa02385654",
            "4dbc78be860744fe90b77267a8ed2f76",
            "7c419af7f5e94bcc9f5fbf32ada1684a",
            "3e24601b01524565918d633d822c0eb5",
            "b5383fdc588e4879957947ca728edc4f",
            "80bd3458f8cb4058a41c2c60eed174a1",
            "e5369146a72f407b8ac00df27dd5876b",
            "9bc71d4c49174aa483e7cf40eaa05bba",
            "1ff3e583f1b3478994f6bcd9ccab33f9",
            "4c602b8027c644b2b7aec84761df0e79",
            "d7634ead84694d368ff414af01597073",
            "06904dc6ff0c4db89ffaa5f915840ebb",
            "d1756918225a4fc5bf7c5857b85a3bae",
            "366d1f044b6d4190ae402e503e450a9e",
            "e4c64e8bcabb4e1891aa939e0fdab54b",
            "030c5ec9dcde40238aa5323f537d0aaf",
            "8fb89c238ae6413680fd752c2d454903",
            "dde51d2b8e154946aae6c21e752e4fa2",
            "7791e4e44acb481394539d7f928b2ef5",
            "f7f5fdceca534cc08ed4d35b734397d3",
            "72926d272275457c80a66dd1b6dc5f58",
            "42bde909948f4d189a0f7e093e21c15b",
            "78482c642ac34d18b4380cd995a7b78a",
            "e3a8d35ff33b4ebe858683f900775e2c",
            "c53314fd9f514652befce37f421918e4",
            "63d6b1e3a45547148bdef00462caca07",
            "d22894d0ffbd43bebfceed69475f2034",
            "e0ae6b6f952549ef91d068e936094720",
            "227f3e84ee6a4b549477fb8c4476b4db",
            "1ba0a5726b8643a7b3c15415bd336208",
            "248f00b4bbcd44a6b640ceff86d33269",
            "a449a545e46f401c8836132234b30fc8",
            "ada227d6ca724ac7ba7fdb8289266e44",
            "752fad39bb4c46c1b12628b83218e00c",
            "eec35f71175a4693bf4b63cf3fd27e43",
            "217150d9f7ba48d3a75cadf740b20635",
            "cb424810a8bd480fa6446a2cad4eae2c",
            "31eea0a7098447cf87bdd8c18b4a7ff5",
            "407250f0581849b6bb078444f6238b58",
            "b4410dc549c0445abe7a3472cdff40d0",
            "2a2cbad0101e464281b0c759362cce74",
            "103a3e2f0280448ba739d72849439d36",
            "b3d5bc5d04274c96aa4b0db8d239b5a3",
            "7eed7c162f50459297292aa4130d6bf5",
            "632a00d4fa104385b3c8843c8023b8a9",
            "02ff534dd35e43bfb07c4dd28d8c96d4",
            "f11bbafe72b34c1cb7b42e619706c1d2",
            "2a80dfab629342c0a45570b864e2156d",
            "2e7f4c6ba105413b8f8d071031a49475",
            "b6ef3930307744178b7a29285b5fd254",
            "09a864ed09794c6f802f4e9ff9425110"
          ]
        },
        "id": "e2eoDQZNoSlg",
        "outputId": "7a7d6045-b34c-4186-bd33-610a68e72636"
      },
      "source": [
        "model = AutoModelForSequenceClassification.from_pretrained(\"ProsusAI/finbert\")\n",
        "\n",
        "tokenizer = AutoTokenizer.from_pretrained(\"ProsusAI/finbert\")\n",
        "\n",
        "classifier = pipeline('sentiment-analysis', model=model, tokenizer=tokenizer)"
      ],
      "execution_count": 80,
      "outputs": [
        {
          "output_type": "display_data",
          "data": {
            "application/vnd.jupyter.widget-view+json": {
              "model_id": "2d23247499754d63809a7c858096e469",
              "version_minor": 0,
              "version_major": 2
            },
            "text/plain": [
              "Downloading:   0%|          | 0.00/758 [00:00<?, ?B/s]"
            ]
          },
          "metadata": {}
        },
        {
          "output_type": "display_data",
          "data": {
            "application/vnd.jupyter.widget-view+json": {
              "model_id": "9bc71d4c49174aa483e7cf40eaa05bba",
              "version_minor": 0,
              "version_major": 2
            },
            "text/plain": [
              "Downloading:   0%|          | 0.00/438M [00:00<?, ?B/s]"
            ]
          },
          "metadata": {}
        },
        {
          "output_type": "display_data",
          "data": {
            "application/vnd.jupyter.widget-view+json": {
              "model_id": "7791e4e44acb481394539d7f928b2ef5",
              "version_minor": 0,
              "version_major": 2
            },
            "text/plain": [
              "Downloading:   0%|          | 0.00/232k [00:00<?, ?B/s]"
            ]
          },
          "metadata": {}
        },
        {
          "output_type": "display_data",
          "data": {
            "application/vnd.jupyter.widget-view+json": {
              "model_id": "1ba0a5726b8643a7b3c15415bd336208",
              "version_minor": 0,
              "version_major": 2
            },
            "text/plain": [
              "Downloading:   0%|          | 0.00/112 [00:00<?, ?B/s]"
            ]
          },
          "metadata": {}
        },
        {
          "output_type": "display_data",
          "data": {
            "application/vnd.jupyter.widget-view+json": {
              "model_id": "2a2cbad0101e464281b0c759362cce74",
              "version_minor": 0,
              "version_major": 2
            },
            "text/plain": [
              "Downloading:   0%|          | 0.00/252 [00:00<?, ?B/s]"
            ]
          },
          "metadata": {}
        }
      ]
    },
    {
      "cell_type": "code",
      "metadata": {
        "id": "2CmSwiuVobNu"
      },
      "source": [
        "news_and_tweets = news_and_tweets.assign(sentiment = lambda x: x['Text Summary'].apply(lambda s: classifier(s))).assign(label = lambda x: x['sentiment'].apply(lambda s: (s[0]['label'])),score = lambda x: x['sentiment'].apply(lambda s: (s[0]['score'])))"
      ],
      "execution_count": 81,
      "outputs": []
    },
    {
      "cell_type": "code",
      "metadata": {
        "colab": {
          "base_uri": "https://localhost:8080/",
          "height": 204
        },
        "id": "bsaAHfUIscbG",
        "outputId": "bfdca7c5-b8f6-49e7-86b7-2fae87319f23"
      },
      "source": [
        "news_and_tweets.head()"
      ],
      "execution_count": 82,
      "outputs": [
        {
          "output_type": "execute_result",
          "data": {
            "text/html": [
              "<div>\n",
              "<style scoped>\n",
              "    .dataframe tbody tr th:only-of-type {\n",
              "        vertical-align: middle;\n",
              "    }\n",
              "\n",
              "    .dataframe tbody tr th {\n",
              "        vertical-align: top;\n",
              "    }\n",
              "\n",
              "    .dataframe thead th {\n",
              "        text-align: right;\n",
              "    }\n",
              "</style>\n",
              "<table border=\"1\" class=\"dataframe\">\n",
              "  <thead>\n",
              "    <tr style=\"text-align: right;\">\n",
              "      <th></th>\n",
              "      <th>Ticker</th>\n",
              "      <th>Text Summary</th>\n",
              "      <th>Timestamp</th>\n",
              "      <th>sentiment</th>\n",
              "      <th>label</th>\n",
              "      <th>score</th>\n",
              "    </tr>\n",
              "  </thead>\n",
              "  <tbody>\n",
              "    <tr>\n",
              "      <th>0</th>\n",
              "      <td>NIFTY BANK</td>\n",
              "      <td>Nifty 50 may surge higher hit fresh all-time h...</td>\n",
              "      <td>2021-08-27 09:15:00</td>\n",
              "      <td>[{'label': 'positive', 'score': 0.914567649364...</td>\n",
              "      <td>positive</td>\n",
              "      <td>0.914568</td>\n",
              "    </tr>\n",
              "    <tr>\n",
              "      <th>1</th>\n",
              "      <td>NIFTY BANK</td>\n",
              "      <td>Nifty Bank indices trading green Monday taking...</td>\n",
              "      <td>2021-08-30 09:15:00</td>\n",
              "      <td>[{'label': 'neutral', 'score': 0.6990373730659...</td>\n",
              "      <td>neutral</td>\n",
              "      <td>0.699037</td>\n",
              "    </tr>\n",
              "    <tr>\n",
              "      <th>2</th>\n",
              "      <td>NIFTY BANK</td>\n",
              "      <td>The broader market indices snapped past two we...</td>\n",
              "      <td>2021-08-30 09:15:00</td>\n",
              "      <td>[{'label': 'positive', 'score': 0.939797878265...</td>\n",
              "      <td>positive</td>\n",
              "      <td>0.939798</td>\n",
              "    </tr>\n",
              "    <tr>\n",
              "      <th>3</th>\n",
              "      <td>NIFTY BANK</td>\n",
              "      <td>The Sensex ended 56,124.72 Friday, gaining alm...</td>\n",
              "      <td>2021-08-29 09:15:00</td>\n",
              "      <td>[{'label': 'positive', 'score': 0.912757039070...</td>\n",
              "      <td>positive</td>\n",
              "      <td>0.912757</td>\n",
              "    </tr>\n",
              "    <tr>\n",
              "      <th>4</th>\n",
              "      <td>NIFTY BANK</td>\n",
              "      <td>NSE Nifty 50 index ended 1.35% higher 16,931 e...</td>\n",
              "      <td>2021-08-30 09:15:00</td>\n",
              "      <td>[{'label': 'positive', 'score': 0.887808799743...</td>\n",
              "      <td>positive</td>\n",
              "      <td>0.887809</td>\n",
              "    </tr>\n",
              "  </tbody>\n",
              "</table>\n",
              "</div>"
            ],
            "text/plain": [
              "       Ticker  ...     score\n",
              "0  NIFTY BANK  ...  0.914568\n",
              "1  NIFTY BANK  ...  0.699037\n",
              "2  NIFTY BANK  ...  0.939798\n",
              "3  NIFTY BANK  ...  0.912757\n",
              "4  NIFTY BANK  ...  0.887809\n",
              "\n",
              "[5 rows x 6 columns]"
            ]
          },
          "metadata": {},
          "execution_count": 82
        }
      ]
    },
    {
      "cell_type": "code",
      "metadata": {
        "colab": {
          "base_uri": "https://localhost:8080/"
        },
        "id": "kix3xBBRLI9G",
        "outputId": "ed5936c8-9b76-479b-a3aa-6059bbd8b77e"
      },
      "source": [
        "for i in range(0, len(news_and_tweets['Timestamp'])):\n",
        "  temp = news_and_tweets['Timestamp'][i]\n",
        "  news_and_tweets['Timestamp'][i] = datetime(temp.year, temp.month, temp.day, temp.hour, temp.minute, temp.second)"
      ],
      "execution_count": 83,
      "outputs": [
        {
          "output_type": "stream",
          "text": [
            "/usr/local/lib/python3.7/dist-packages/ipykernel_launcher.py:3: SettingWithCopyWarning: \n",
            "A value is trying to be set on a copy of a slice from a DataFrame\n",
            "\n",
            "See the caveats in the documentation: https://pandas.pydata.org/pandas-docs/stable/user_guide/indexing.html#returning-a-view-versus-a-copy\n",
            "  This is separate from the ipykernel package so we can avoid doing imports until\n"
          ],
          "name": "stderr"
        }
      ]
    },
    {
      "cell_type": "code",
      "metadata": {
        "id": "OPnrSZAIunhw"
      },
      "source": [
        "news_and_tweets.drop('sentiment', axis=1, inplace=True)"
      ],
      "execution_count": 84,
      "outputs": []
    },
    {
      "cell_type": "code",
      "metadata": {
        "id": "Mn4S3jOE9Wxq"
      },
      "source": [
        "news_and_tweets.columns = ['Ticker', 'Text Summary', 'Timestamp', 'Sentiment', 'Sentiment Score']"
      ],
      "execution_count": 85,
      "outputs": []
    },
    {
      "cell_type": "markdown",
      "metadata": {
        "id": "jcqDRd2UQbQ1"
      },
      "source": [
        "Sentiment is represented in trading terms based on the polarity scores\n",
        "\n",
        "Articles with neutral sentiments or low polarity scores are treated as neutral"
      ]
    },
    {
      "cell_type": "code",
      "metadata": {
        "colab": {
          "base_uri": "https://localhost:8080/"
        },
        "id": "s1svD1g64DIb",
        "outputId": "8da96031-71d9-4354-f7c5-fdd1868c8a0f"
      },
      "source": [
        "for i in range(0, len(news_and_tweets['Sentiment'])):\n",
        "  if news_and_tweets['Sentiment'][i] == 'positive' and news_and_tweets['Sentiment Score'][i] >= 0.6:\n",
        "    news_and_tweets['Sentiment'][i] = 'Buy'\n",
        "  elif news_and_tweets['Sentiment'][i] == 'negative' and news_and_tweets['Sentiment Score'][i] >= 0.6:\n",
        "    news_and_tweets['Sentiment'][i] = 'Sell'\n",
        "  else:\n",
        "    news_and_tweets['Sentiment'][i] = 'None'"
      ],
      "execution_count": 86,
      "outputs": [
        {
          "output_type": "stream",
          "text": [
            "/usr/local/lib/python3.7/dist-packages/ipykernel_launcher.py:3: SettingWithCopyWarning: \n",
            "A value is trying to be set on a copy of a slice from a DataFrame\n",
            "\n",
            "See the caveats in the documentation: https://pandas.pydata.org/pandas-docs/stable/user_guide/indexing.html#returning-a-view-versus-a-copy\n",
            "  This is separate from the ipykernel package so we can avoid doing imports until\n",
            "/usr/local/lib/python3.7/dist-packages/ipykernel_launcher.py:7: SettingWithCopyWarning: \n",
            "A value is trying to be set on a copy of a slice from a DataFrame\n",
            "\n",
            "See the caveats in the documentation: https://pandas.pydata.org/pandas-docs/stable/user_guide/indexing.html#returning-a-view-versus-a-copy\n",
            "  import sys\n",
            "/usr/local/lib/python3.7/dist-packages/ipykernel_launcher.py:5: SettingWithCopyWarning: \n",
            "A value is trying to be set on a copy of a slice from a DataFrame\n",
            "\n",
            "See the caveats in the documentation: https://pandas.pydata.org/pandas-docs/stable/user_guide/indexing.html#returning-a-view-versus-a-copy\n",
            "  \"\"\"\n"
          ],
          "name": "stderr"
        }
      ]
    },
    {
      "cell_type": "markdown",
      "metadata": {
        "id": "bmlBmrvjQ3W7"
      },
      "source": [
        "Maximum budget per transaction is limited to Rs.10000 and the cost of transaction regresses with lower sentiment polarity scores\n",
        "\n",
        "All these figures are arbitary"
      ]
    },
    {
      "cell_type": "code",
      "metadata": {
        "colab": {
          "base_uri": "https://localhost:8080/"
        },
        "id": "XaaJjQav8gHj",
        "outputId": "5c7540e8-26ef-496b-cdf4-0fcc60008869"
      },
      "source": [
        "budget_per_share = 10000\n",
        "news_and_tweets['Quantity'] = np.zeros(len(news_and_tweets['Ticker']))\n",
        "\n",
        "for i in range(0, len(news_and_tweets['Sentiment Score'])):\n",
        "  try:\n",
        "    tstamp = news_and_tweets.loc[i]['Timestamp']\n",
        "    tick = news_and_tweets.loc[i]['Ticker']\n",
        "    if news_and_tweets['Sentiment Score'][i] >= 0.9:\n",
        "      news_and_tweets['Quantity'][i] = round((budget_per_share) / (stocks_data[(stocks_data['Ticker'] == tick) & (stocks_data['Timestamp'] == tstamp)]['Open']))\n",
        "    elif news_and_tweets['Sentiment Score'][i] >= 0.8 and news_and_tweets['Sentiment Score'][i] < 0.9:\n",
        "      news_and_tweets['Quantity'][i] = round((budget_per_share-2000) / (stocks_data[( stocks_data['Ticker'] == tick) & (stocks_data['Timestamp'] == tstamp)]['Open']))\n",
        "    elif news_and_tweets['Sentiment Score'][i] >= 0.7 and news_and_tweets['Sentiment Score'][i] < 0.8:\n",
        "      news_and_tweets['Quantity'][i] = round((budget_per_share-4000) / (stocks_data[(stocks_data['Ticker'] == tick) & (stocks_data['Timestamp'] == tstamp)]['Open']))\n",
        "    elif news_and_tweets['Sentiment Score'][i] >= 0.6 and news_and_tweets['Sentiment Score'][i] < 0.7:\n",
        "      news_and_tweets['Quantity'][i] = round((budget_per_share-6000) / (stocks_data[(stocks_data['Ticker'] == tick) & (stocks_data['Timestamp'] == tstamp)]['Open']))\n",
        "    else:\n",
        "      news_and_tweets['Quantity'][i] = 0\n",
        "  except:\n",
        "    news_and_tweets['Quantity'][i] = 0"
      ],
      "execution_count": 87,
      "outputs": [
        {
          "output_type": "stream",
          "text": [
            "/usr/local/lib/python3.7/dist-packages/ipykernel_launcher.py:9: SettingWithCopyWarning: \n",
            "A value is trying to be set on a copy of a slice from a DataFrame\n",
            "\n",
            "See the caveats in the documentation: https://pandas.pydata.org/pandas-docs/stable/user_guide/indexing.html#returning-a-view-versus-a-copy\n",
            "  if __name__ == '__main__':\n",
            "/usr/local/lib/python3.7/dist-packages/ipykernel_launcher.py:15: SettingWithCopyWarning: \n",
            "A value is trying to be set on a copy of a slice from a DataFrame\n",
            "\n",
            "See the caveats in the documentation: https://pandas.pydata.org/pandas-docs/stable/user_guide/indexing.html#returning-a-view-versus-a-copy\n",
            "  from ipykernel import kernelapp as app\n",
            "/usr/local/lib/python3.7/dist-packages/ipykernel_launcher.py:19: SettingWithCopyWarning: \n",
            "A value is trying to be set on a copy of a slice from a DataFrame\n",
            "\n",
            "See the caveats in the documentation: https://pandas.pydata.org/pandas-docs/stable/user_guide/indexing.html#returning-a-view-versus-a-copy\n",
            "/usr/local/lib/python3.7/dist-packages/ipykernel_launcher.py:11: SettingWithCopyWarning: \n",
            "A value is trying to be set on a copy of a slice from a DataFrame\n",
            "\n",
            "See the caveats in the documentation: https://pandas.pydata.org/pandas-docs/stable/user_guide/indexing.html#returning-a-view-versus-a-copy\n",
            "  # This is added back by InteractiveShellApp.init_path()\n",
            "/usr/local/lib/python3.7/dist-packages/ipykernel_launcher.py:13: SettingWithCopyWarning: \n",
            "A value is trying to be set on a copy of a slice from a DataFrame\n",
            "\n",
            "See the caveats in the documentation: https://pandas.pydata.org/pandas-docs/stable/user_guide/indexing.html#returning-a-view-versus-a-copy\n",
            "  del sys.path[0]\n",
            "/usr/local/lib/python3.7/dist-packages/ipykernel_launcher.py:17: SettingWithCopyWarning: \n",
            "A value is trying to be set on a copy of a slice from a DataFrame\n",
            "\n",
            "See the caveats in the documentation: https://pandas.pydata.org/pandas-docs/stable/user_guide/indexing.html#returning-a-view-versus-a-copy\n"
          ],
          "name": "stderr"
        }
      ]
    },
    {
      "cell_type": "code",
      "metadata": {
        "colab": {
          "base_uri": "https://localhost:8080/",
          "height": 204
        },
        "id": "oRMNHleWWymX",
        "outputId": "a28922fa-5484-4042-fe0b-d76b0082f2ff"
      },
      "source": [
        "news_and_tweets.head()"
      ],
      "execution_count": 88,
      "outputs": [
        {
          "output_type": "execute_result",
          "data": {
            "text/html": [
              "<div>\n",
              "<style scoped>\n",
              "    .dataframe tbody tr th:only-of-type {\n",
              "        vertical-align: middle;\n",
              "    }\n",
              "\n",
              "    .dataframe tbody tr th {\n",
              "        vertical-align: top;\n",
              "    }\n",
              "\n",
              "    .dataframe thead th {\n",
              "        text-align: right;\n",
              "    }\n",
              "</style>\n",
              "<table border=\"1\" class=\"dataframe\">\n",
              "  <thead>\n",
              "    <tr style=\"text-align: right;\">\n",
              "      <th></th>\n",
              "      <th>Ticker</th>\n",
              "      <th>Text Summary</th>\n",
              "      <th>Timestamp</th>\n",
              "      <th>Sentiment</th>\n",
              "      <th>Sentiment Score</th>\n",
              "      <th>Quantity</th>\n",
              "    </tr>\n",
              "  </thead>\n",
              "  <tbody>\n",
              "    <tr>\n",
              "      <th>0</th>\n",
              "      <td>NIFTY BANK</td>\n",
              "      <td>Nifty 50 may surge higher hit fresh all-time h...</td>\n",
              "      <td>2021-08-27 09:15:00</td>\n",
              "      <td>Buy</td>\n",
              "      <td>0.914568</td>\n",
              "      <td>0.0</td>\n",
              "    </tr>\n",
              "    <tr>\n",
              "      <th>1</th>\n",
              "      <td>NIFTY BANK</td>\n",
              "      <td>Nifty Bank indices trading green Monday taking...</td>\n",
              "      <td>2021-08-30 09:15:00</td>\n",
              "      <td>None</td>\n",
              "      <td>0.699037</td>\n",
              "      <td>0.0</td>\n",
              "    </tr>\n",
              "    <tr>\n",
              "      <th>2</th>\n",
              "      <td>NIFTY BANK</td>\n",
              "      <td>The broader market indices snapped past two we...</td>\n",
              "      <td>2021-08-30 09:15:00</td>\n",
              "      <td>Buy</td>\n",
              "      <td>0.939798</td>\n",
              "      <td>0.0</td>\n",
              "    </tr>\n",
              "    <tr>\n",
              "      <th>3</th>\n",
              "      <td>NIFTY BANK</td>\n",
              "      <td>The Sensex ended 56,124.72 Friday, gaining alm...</td>\n",
              "      <td>2021-08-29 09:15:00</td>\n",
              "      <td>Buy</td>\n",
              "      <td>0.912757</td>\n",
              "      <td>0.0</td>\n",
              "    </tr>\n",
              "    <tr>\n",
              "      <th>4</th>\n",
              "      <td>NIFTY BANK</td>\n",
              "      <td>NSE Nifty 50 index ended 1.35% higher 16,931 e...</td>\n",
              "      <td>2021-08-30 09:15:00</td>\n",
              "      <td>Buy</td>\n",
              "      <td>0.887809</td>\n",
              "      <td>0.0</td>\n",
              "    </tr>\n",
              "  </tbody>\n",
              "</table>\n",
              "</div>"
            ],
            "text/plain": [
              "       Ticker  ... Quantity\n",
              "0  NIFTY BANK  ...      0.0\n",
              "1  NIFTY BANK  ...      0.0\n",
              "2  NIFTY BANK  ...      0.0\n",
              "3  NIFTY BANK  ...      0.0\n",
              "4  NIFTY BANK  ...      0.0\n",
              "\n",
              "[5 rows x 6 columns]"
            ]
          },
          "metadata": {},
          "execution_count": 88
        }
      ]
    },
    {
      "cell_type": "markdown",
      "metadata": {
        "id": "JBQ3J0OCmKIp"
      },
      "source": [
        "# MAPPING DATA AND AUTOMATION"
      ]
    },
    {
      "cell_type": "code",
      "metadata": {
        "id": "5KeV4K_Znamg"
      },
      "source": [
        "nt = news_and_tweets\n",
        "nt['Timestamp'] = nt['Timestamp'].apply(lambda x: pd.to_datetime(x))"
      ],
      "execution_count": 89,
      "outputs": []
    },
    {
      "cell_type": "code",
      "metadata": {
        "id": "-g8CjpA4naEe"
      },
      "source": [
        "st = stocks_data\n",
        "st['Timestamp'] = st['Timestamp'].apply(lambda x: pd.to_datetime(x))"
      ],
      "execution_count": 90,
      "outputs": []
    },
    {
      "cell_type": "markdown",
      "metadata": {
        "id": "7hYfizkQRa4G"
      },
      "source": [
        "News data and stock data are merged on timestamp and by ticker values"
      ]
    },
    {
      "cell_type": "code",
      "metadata": {
        "id": "v5nIeq3emPNC"
      },
      "source": [
        "df = pd.merge_asof(st.sort_values('Timestamp'), nt.sort_values('Timestamp'), by='Ticker', on='Timestamp', direction='forward')"
      ],
      "execution_count": 91,
      "outputs": []
    },
    {
      "cell_type": "code",
      "metadata": {
        "colab": {
          "base_uri": "https://localhost:8080/",
          "height": 204
        },
        "id": "eXPDLCyvmY4i",
        "outputId": "0f4ee1be-e651-4440-bfae-a1aa6239db64"
      },
      "source": [
        "df.head()"
      ],
      "execution_count": 92,
      "outputs": [
        {
          "output_type": "execute_result",
          "data": {
            "text/html": [
              "<div>\n",
              "<style scoped>\n",
              "    .dataframe tbody tr th:only-of-type {\n",
              "        vertical-align: middle;\n",
              "    }\n",
              "\n",
              "    .dataframe tbody tr th {\n",
              "        vertical-align: top;\n",
              "    }\n",
              "\n",
              "    .dataframe thead th {\n",
              "        text-align: right;\n",
              "    }\n",
              "</style>\n",
              "<table border=\"1\" class=\"dataframe\">\n",
              "  <thead>\n",
              "    <tr style=\"text-align: right;\">\n",
              "      <th></th>\n",
              "      <th>Open</th>\n",
              "      <th>Volume</th>\n",
              "      <th>Ticker</th>\n",
              "      <th>Timestamp</th>\n",
              "      <th>Text Summary</th>\n",
              "      <th>Sentiment</th>\n",
              "      <th>Sentiment Score</th>\n",
              "      <th>Quantity</th>\n",
              "    </tr>\n",
              "  </thead>\n",
              "  <tbody>\n",
              "    <tr>\n",
              "      <th>0</th>\n",
              "      <td>34.700001</td>\n",
              "      <td>0</td>\n",
              "      <td>UNION</td>\n",
              "      <td>2021-05-31 09:15:00</td>\n",
              "      <td>Match coverage begin 7:30 p.m. pre-match show ...</td>\n",
              "      <td>None</td>\n",
              "      <td>0.911753</td>\n",
              "      <td>0.0</td>\n",
              "    </tr>\n",
              "    <tr>\n",
              "      <th>1</th>\n",
              "      <td>737.900024</td>\n",
              "      <td>0</td>\n",
              "      <td>AXISBANK</td>\n",
              "      <td>2021-05-31 09:15:00</td>\n",
              "      <td>Edelweiss buy call Axis Bank Ltd. target price...</td>\n",
              "      <td>None</td>\n",
              "      <td>0.950895</td>\n",
              "      <td>13.0</td>\n",
              "    </tr>\n",
              "    <tr>\n",
              "      <th>2</th>\n",
              "      <td>643.750000</td>\n",
              "      <td>0</td>\n",
              "      <td>ICICIBANK</td>\n",
              "      <td>2021-05-31 09:15:00</td>\n",
              "      <td>ICICI Bank provides benefit investing Public P...</td>\n",
              "      <td>None</td>\n",
              "      <td>0.947343</td>\n",
              "      <td>14.0</td>\n",
              "    </tr>\n",
              "    <tr>\n",
              "      <th>3</th>\n",
              "      <td>1500.000000</td>\n",
              "      <td>0</td>\n",
              "      <td>HDFCBANK</td>\n",
              "      <td>2021-05-31 09:15:00</td>\n",
              "      <td>HDFC Bank (NYSE:HDB) upgraded Zacks Investment...</td>\n",
              "      <td>Buy</td>\n",
              "      <td>0.943182</td>\n",
              "      <td>7.0</td>\n",
              "    </tr>\n",
              "    <tr>\n",
              "      <th>4</th>\n",
              "      <td>83.000000</td>\n",
              "      <td>0</td>\n",
              "      <td>BARODA</td>\n",
              "      <td>2021-05-31 09:15:00</td>\n",
              "      <td>CNN.com feature iReporters world weekly Travel...</td>\n",
              "      <td>None</td>\n",
              "      <td>0.936466</td>\n",
              "      <td>121.0</td>\n",
              "    </tr>\n",
              "  </tbody>\n",
              "</table>\n",
              "</div>"
            ],
            "text/plain": [
              "          Open  Volume     Ticker  ... Sentiment Sentiment Score Quantity\n",
              "0    34.700001       0      UNION  ...      None        0.911753      0.0\n",
              "1   737.900024       0   AXISBANK  ...      None        0.950895     13.0\n",
              "2   643.750000       0  ICICIBANK  ...      None        0.947343     14.0\n",
              "3  1500.000000       0   HDFCBANK  ...       Buy        0.943182      7.0\n",
              "4    83.000000       0     BARODA  ...      None        0.936466    121.0\n",
              "\n",
              "[5 rows x 8 columns]"
            ]
          },
          "metadata": {},
          "execution_count": 92
        }
      ]
    },
    {
      "cell_type": "code",
      "metadata": {
        "colab": {
          "base_uri": "https://localhost:8080/",
          "height": 546
        },
        "id": "7IVrk7gVvieB",
        "outputId": "8bfe83f2-d4fc-4253-9eb1-a18e3bc2577c"
      },
      "source": [
        "temp = df[['Timestamp', 'Open', 'Quantity', 'Ticker', 'Sentiment']]\n",
        "for i in range(1, len(temp['Timestamp'])):\n",
        "  if temp['Ticker'][i] != 'NIFTY BANK':\n",
        "    temp['Open'][i] = temp['Open'][i-1]\n",
        "\n",
        "fig, ax = plt.subplots(figsize=(25,5))\n",
        "plt.plot(temp['Timestamp'], temp['Open'], marker='o', markersize=1)\n",
        "ax.scatter(temp[(temp['Sentiment']=='Buy')]['Timestamp'], temp[(temp['Sentiment']=='Buy')]['Open'], marker='^', c='g')\n",
        "ax.scatter(temp[(temp['Sentiment']=='Sell')]['Timestamp'], temp[(temp['Sentiment']=='Sell')]['Open'], marker='v', c='r')\n",
        "ax.set_ylim([min(temp[temp['Ticker']=='NIFTY BANK']['Open']), max(temp[temp['Ticker']=='NIFTY BANK']['Open'])])\n",
        "ax.set_xlabel('Timestamp')\n",
        "ax.set_ylabel('Rupees')\n",
        "ax.set_title('NIFTY BANK')"
      ],
      "execution_count": 93,
      "outputs": [
        {
          "output_type": "stream",
          "text": [
            "/usr/local/lib/python3.7/dist-packages/ipykernel_launcher.py:4: SettingWithCopyWarning: \n",
            "A value is trying to be set on a copy of a slice from a DataFrame\n",
            "\n",
            "See the caveats in the documentation: https://pandas.pydata.org/pandas-docs/stable/user_guide/indexing.html#returning-a-view-versus-a-copy\n",
            "  after removing the cwd from sys.path.\n",
            "/usr/local/lib/python3.7/dist-packages/IPython/core/interactiveshell.py:2882: SettingWithCopyWarning: \n",
            "A value is trying to be set on a copy of a slice from a DataFrame\n",
            "\n",
            "See the caveats in the documentation: https://pandas.pydata.org/pandas-docs/stable/user_guide/indexing.html#returning-a-view-versus-a-copy\n",
            "  exec(code_obj, self.user_global_ns, self.user_ns)\n"
          ],
          "name": "stderr"
        },
        {
          "output_type": "execute_result",
          "data": {
            "text/plain": [
              "Text(0.5, 1.0, 'NIFTY BANK')"
            ]
          },
          "metadata": {},
          "execution_count": 93
        },
        {
          "output_type": "display_data",
          "data": {
            "image/png": "[encoded data removed]",
            "text/plain": [
              "<Figure size 1800x360 with 1 Axes>"
            ]
          },
          "metadata": {
            "needs_background": "light"
          }
        }
      ]
    },
    {
      "cell_type": "code",
      "metadata": {
        "id": "_KmBQdI5mj9R",
        "colab": {
          "base_uri": "https://localhost:8080/",
          "height": 1000
        },
        "outputId": "337e687c-8834-4e5b-f1fc-cd19e12607eb"
      },
      "source": [
        "fig, axes = plt.subplots(nrows=12, ncols=1, figsize=(25,50))\n",
        "tl = ticker_list\n",
        "\n",
        "for t in range(0, len(tl)-1):\n",
        "  temp = df[['Timestamp', 'Open', 'Quantity', 'Ticker', 'Sentiment']]\n",
        "  for i in range(1, len(temp['Timestamp'])):\n",
        "    if temp['Ticker'][i] != tl[t]:\n",
        "      temp['Open'][i] = temp['Open'][i-1]\n",
        "\n",
        "  axes[t].plot(temp['Timestamp'], temp['Open'], c='b')\n",
        "  axes[t].scatter(temp[(temp['Sentiment']=='Buy') & (temp['Ticker']==tl[t])]['Timestamp'], temp[(temp['Sentiment']=='Buy') & (temp['Ticker']==tl[t])]['Open'], marker='^', c='g')\n",
        "  axes[t].scatter(temp[(temp['Sentiment']=='Sell') & (temp['Ticker']==tl[t])]['Timestamp'], temp[(temp['Sentiment']=='Sell') & (temp['Ticker']==tl[t])]['Open'], marker='v', c='r')\n",
        "  axes[t].set_ylim([min(temp[temp['Ticker']==tl[t]]['Open']), max(temp[temp['Ticker']==tl[t]]['Open'])])\n",
        "  axes[t].set_xlabel('Timestamp')\n",
        "  axes[t].set_ylabel('Rupees')\n",
        "  axes[t].set_title(tl[t])\n",
        "  plt.tight_layout()"
      ],
      "execution_count": 94,
      "outputs": [
        {
          "output_type": "stream",
          "text": [
            "/usr/local/lib/python3.7/dist-packages/ipykernel_launcher.py:8: SettingWithCopyWarning: \n",
            "A value is trying to be set on a copy of a slice from a DataFrame\n",
            "\n",
            "See the caveats in the documentation: https://pandas.pydata.org/pandas-docs/stable/user_guide/indexing.html#returning-a-view-versus-a-copy\n",
            "  \n",
            "/usr/local/lib/python3.7/dist-packages/IPython/core/interactiveshell.py:2882: SettingWithCopyWarning: \n",
            "A value is trying to be set on a copy of a slice from a DataFrame\n",
            "\n",
            "See the caveats in the documentation: https://pandas.pydata.org/pandas-docs/stable/user_guide/indexing.html#returning-a-view-versus-a-copy\n",
            "  exec(code_obj, self.user_global_ns, self.user_ns)\n",
            "/usr/local/lib/python3.7/dist-packages/ipykernel_launcher.py:8: SettingWithCopyWarning: \n",
            "A value is trying to be set on a copy of a slice from a DataFrame\n",
            "\n",
            "See the caveats in the documentation: https://pandas.pydata.org/pandas-docs/stable/user_guide/indexing.html#returning-a-view-versus-a-copy\n",
            "  \n",
            "/usr/local/lib/python3.7/dist-packages/IPython/core/interactiveshell.py:2882: SettingWithCopyWarning: \n",
            "A value is trying to be set on a copy of a slice from a DataFrame\n",
            "\n",
            "See the caveats in the documentation: https://pandas.pydata.org/pandas-docs/stable/user_guide/indexing.html#returning-a-view-versus-a-copy\n",
            "  exec(code_obj, self.user_global_ns, self.user_ns)\n",
            "/usr/local/lib/python3.7/dist-packages/ipykernel_launcher.py:8: SettingWithCopyWarning: \n",
            "A value is trying to be set on a copy of a slice from a DataFrame\n",
            "\n",
            "See the caveats in the documentation: https://pandas.pydata.org/pandas-docs/stable/user_guide/indexing.html#returning-a-view-versus-a-copy\n",
            "  \n",
            "/usr/local/lib/python3.7/dist-packages/IPython/core/interactiveshell.py:2882: SettingWithCopyWarning: \n",
            "A value is trying to be set on a copy of a slice from a DataFrame\n",
            "\n",
            "See the caveats in the documentation: https://pandas.pydata.org/pandas-docs/stable/user_guide/indexing.html#returning-a-view-versus-a-copy\n",
            "  exec(code_obj, self.user_global_ns, self.user_ns)\n",
            "/usr/local/lib/python3.7/dist-packages/ipykernel_launcher.py:8: SettingWithCopyWarning: \n",
            "A value is trying to be set on a copy of a slice from a DataFrame\n",
            "\n",
            "See the caveats in the documentation: https://pandas.pydata.org/pandas-docs/stable/user_guide/indexing.html#returning-a-view-versus-a-copy\n",
            "  \n",
            "/usr/local/lib/python3.7/dist-packages/IPython/core/interactiveshell.py:2882: SettingWithCopyWarning: \n",
            "A value is trying to be set on a copy of a slice from a DataFrame\n",
            "\n",
            "See the caveats in the documentation: https://pandas.pydata.org/pandas-docs/stable/user_guide/indexing.html#returning-a-view-versus-a-copy\n",
            "  exec(code_obj, self.user_global_ns, self.user_ns)\n",
            "/usr/local/lib/python3.7/dist-packages/ipykernel_launcher.py:8: SettingWithCopyWarning: \n",
            "A value is trying to be set on a copy of a slice from a DataFrame\n",
            "\n",
            "See the caveats in the documentation: https://pandas.pydata.org/pandas-docs/stable/user_guide/indexing.html#returning-a-view-versus-a-copy\n",
            "  \n",
            "/usr/local/lib/python3.7/dist-packages/IPython/core/interactiveshell.py:2882: SettingWithCopyWarning: \n",
            "A value is trying to be set on a copy of a slice from a DataFrame\n",
            "\n",
            "See the caveats in the documentation: https://pandas.pydata.org/pandas-docs/stable/user_guide/indexing.html#returning-a-view-versus-a-copy\n",
            "  exec(code_obj, self.user_global_ns, self.user_ns)\n",
            "/usr/local/lib/python3.7/dist-packages/ipykernel_launcher.py:8: SettingWithCopyWarning: \n",
            "A value is trying to be set on a copy of a slice from a DataFrame\n",
            "\n",
            "See the caveats in the documentation: https://pandas.pydata.org/pandas-docs/stable/user_guide/indexing.html#returning-a-view-versus-a-copy\n",
            "  \n",
            "/usr/local/lib/python3.7/dist-packages/IPython/core/interactiveshell.py:2882: SettingWithCopyWarning: \n",
            "A value is trying to be set on a copy of a slice from a DataFrame\n",
            "\n",
            "See the caveats in the documentation: https://pandas.pydata.org/pandas-docs/stable/user_guide/indexing.html#returning-a-view-versus-a-copy\n",
            "  exec(code_obj, self.user_global_ns, self.user_ns)\n",
            "/usr/local/lib/python3.7/dist-packages/ipykernel_launcher.py:8: SettingWithCopyWarning: \n",
            "A value is trying to be set on a copy of a slice from a DataFrame\n",
            "\n",
            "See the caveats in the documentation: https://pandas.pydata.org/pandas-docs/stable/user_guide/indexing.html#returning-a-view-versus-a-copy\n",
            "  \n",
            "/usr/local/lib/python3.7/dist-packages/IPython/core/interactiveshell.py:2882: SettingWithCopyWarning: \n",
            "A value is trying to be set on a copy of a slice from a DataFrame\n",
            "\n",
            "See the caveats in the documentation: https://pandas.pydata.org/pandas-docs/stable/user_guide/indexing.html#returning-a-view-versus-a-copy\n",
            "  exec(code_obj, self.user_global_ns, self.user_ns)\n",
            "/usr/local/lib/python3.7/dist-packages/ipykernel_launcher.py:8: SettingWithCopyWarning: \n",
            "A value is trying to be set on a copy of a slice from a DataFrame\n",
            "\n",
            "See the caveats in the documentation: https://pandas.pydata.org/pandas-docs/stable/user_guide/indexing.html#returning-a-view-versus-a-copy\n",
            "  \n",
            "/usr/local/lib/python3.7/dist-packages/IPython/core/interactiveshell.py:2882: SettingWithCopyWarning: \n",
            "A value is trying to be set on a copy of a slice from a DataFrame\n",
            "\n",
            "See the caveats in the documentation: https://pandas.pydata.org/pandas-docs/stable/user_guide/indexing.html#returning-a-view-versus-a-copy\n",
            "  exec(code_obj, self.user_global_ns, self.user_ns)\n",
            "/usr/local/lib/python3.7/dist-packages/ipykernel_launcher.py:8: SettingWithCopyWarning: \n",
            "A value is trying to be set on a copy of a slice from a DataFrame\n",
            "\n",
            "See the caveats in the documentation: https://pandas.pydata.org/pandas-docs/stable/user_guide/indexing.html#returning-a-view-versus-a-copy\n",
            "  \n",
            "/usr/local/lib/python3.7/dist-packages/IPython/core/interactiveshell.py:2882: SettingWithCopyWarning: \n",
            "A value is trying to be set on a copy of a slice from a DataFrame\n",
            "\n",
            "See the caveats in the documentation: https://pandas.pydata.org/pandas-docs/stable/user_guide/indexing.html#returning-a-view-versus-a-copy\n",
            "  exec(code_obj, self.user_global_ns, self.user_ns)\n",
            "/usr/local/lib/python3.7/dist-packages/ipykernel_launcher.py:8: SettingWithCopyWarning: \n",
            "A value is trying to be set on a copy of a slice from a DataFrame\n",
            "\n",
            "See the caveats in the documentation: https://pandas.pydata.org/pandas-docs/stable/user_guide/indexing.html#returning-a-view-versus-a-copy\n",
            "  \n",
            "/usr/local/lib/python3.7/dist-packages/IPython/core/interactiveshell.py:2882: SettingWithCopyWarning: \n",
            "A value is trying to be set on a copy of a slice from a DataFrame\n",
            "\n",
            "See the caveats in the documentation: https://pandas.pydata.org/pandas-docs/stable/user_guide/indexing.html#returning-a-view-versus-a-copy\n",
            "  exec(code_obj, self.user_global_ns, self.user_ns)\n",
            "/usr/local/lib/python3.7/dist-packages/ipykernel_launcher.py:8: SettingWithCopyWarning: \n",
            "A value is trying to be set on a copy of a slice from a DataFrame\n",
            "\n",
            "See the caveats in the documentation: https://pandas.pydata.org/pandas-docs/stable/user_guide/indexing.html#returning-a-view-versus-a-copy\n",
            "  \n",
            "/usr/local/lib/python3.7/dist-packages/IPython/core/interactiveshell.py:2882: SettingWithCopyWarning: \n",
            "A value is trying to be set on a copy of a slice from a DataFrame\n",
            "\n",
            "See the caveats in the documentation: https://pandas.pydata.org/pandas-docs/stable/user_guide/indexing.html#returning-a-view-versus-a-copy\n",
            "  exec(code_obj, self.user_global_ns, self.user_ns)\n",
            "/usr/local/lib/python3.7/dist-packages/ipykernel_launcher.py:8: SettingWithCopyWarning: \n",
            "A value is trying to be set on a copy of a slice from a DataFrame\n",
            "\n",
            "See the caveats in the documentation: https://pandas.pydata.org/pandas-docs/stable/user_guide/indexing.html#returning-a-view-versus-a-copy\n",
            "  \n",
            "/usr/local/lib/python3.7/dist-packages/IPython/core/interactiveshell.py:2882: SettingWithCopyWarning: \n",
            "A value is trying to be set on a copy of a slice from a DataFrame\n",
            "\n",
            "See the caveats in the documentation: https://pandas.pydata.org/pandas-docs/stable/user_guide/indexing.html#returning-a-view-versus-a-copy\n",
            "  exec(code_obj, self.user_global_ns, self.user_ns)\n"
          ],
          "name": "stderr"
        },
        {
          "output_type": "display_data",
          "data": {
            "image/png": "[encoded data removed]",
            "text/plain": [
              "<Figure size 1800x3600 with 12 Axes>"
            ]
          },
          "metadata": {
            "needs_background": "light"
          }
        }
      ]
    },
    {
      "cell_type": "markdown",
      "metadata": {
        "id": "ya1vBJzERyhS"
      },
      "source": [
        "Now, we simulate the trading through the period to arrive at the amount invested and earned based on investor sentiments"
      ]
    },
    {
      "cell_type": "code",
      "metadata": {
        "colab": {
          "base_uri": "https://localhost:8080/"
        },
        "id": "b5UWxInyx9mo",
        "outputId": "cdef8279-4c19-44bc-d679-cc444ed8056a"
      },
      "source": [
        "portfolio = {ticker:0 for ticker in ticker_list}\n",
        "bank = {ticker:0 for ticker in ticker_list}\n",
        "temp = df.dropna()\n",
        "\n",
        "for i in range(len(temp['Timestamp'])-1):\n",
        "  n_buy = {ticker:0 for ticker in ticker_list}\n",
        "  n_sell = {ticker:0 for ticker in ticker_list}\n",
        "  if temp['Sentiment'][i] == 'Buy' and n_buy[temp['Ticker'][i]] <= 3:\n",
        "    buy_qty = temp['Quantity'][i] \n",
        "    cost_buy = buy_qty * temp['Open'][i]\n",
        "    if portfolio[temp['Ticker'][i]] * temp['Open'][i] <= 10000:\n",
        "      portfolio[temp['Ticker'][i]] += buy_qty\n",
        "      bank[temp['Ticker'][i]] -= cost_buy\n",
        "      n_buy[temp['Ticker'][i]] += 1\n",
        "      n_sell[temp['Ticker'][i]] -= 1\n",
        "  elif temp['Sentiment'][i] == 'Sell' and n_sell[temp['Ticker'][i]] <= 3:\n",
        "    sell_qty = temp['Quantity'][i] \n",
        "    cost_sell = sell_qty * temp['Open'][i]\n",
        "    if portfolio[temp['Ticker'][i]] * temp['Open'][i] <= 10000:\n",
        "      portfolio[temp['Ticker'][i]] -= sell_qty\n",
        "      bank[temp['Ticker'][i]] += cost_sell\n",
        "      n_buy[temp['Ticker'][i]] -= 1\n",
        "      n_sell[temp['Ticker'][i]] += 1 \n",
        "  else:\n",
        "    bank[temp['Ticker'][i]] += 0\n",
        "\n",
        "sum = 0\n",
        "value = 0\n",
        "for ticker in {ticker:0 for ticker in ticker_list[1:]}:\n",
        "  quantity = portfolio[ticker]\n",
        "  price = round(temp[temp['Ticker'] == ticker].iloc[-1]['Open'], 2)\n",
        "  value = round(quantity * price, 2)\n",
        "  print(ticker +' : \\n' +'Quantity = ' +str(quantity) +'\\n' +'Price = ' +str(price) +'\\n' +'Value = ' +str(value) +'\\n' +'Bank = ' +str(round(bank[ticker])))\n",
        "  print('\\n')\n",
        "  sum += value\n",
        "\n",
        "bank_total = 0\n",
        "for i in ([bank[ticker] for ticker in ticker_list[1:]]):\n",
        "  bank_total += i\n",
        "\n",
        "print('\\n')  \n",
        "print('Total Value (Position) of Portfolio at end: \\n' \n",
        "      +'Bank = ' +str(round(bank_total)) +'\\n'\n",
        "      +'Portfolio = ' +str(round(sum)) +'\\n'\n",
        "      +'Total = ' +str(round(bank_total + sum)))"
      ],
      "execution_count": 144,
      "outputs": [
        {
          "output_type": "stream",
          "text": [
            "SBIN : \n",
            "Quantity = 0.0\n",
            "Price = 423.35\n",
            "Value = 0.0\n",
            "Bank = 0\n",
            "\n",
            "\n",
            "IDBI : \n",
            "Quantity = -415.0\n",
            "Price = 38.5\n",
            "Value = -15977.5\n",
            "Bank = 16009\n",
            "\n",
            "\n",
            "AXISBANK : \n",
            "Quantity = 0\n",
            "Price = 784.9\n",
            "Value = 0.0\n",
            "Bank = 0\n",
            "\n",
            "\n",
            "HDFCBANK : \n",
            "Quantity = 14.0\n",
            "Price = 1563.5\n",
            "Value = 21889.0\n",
            "Bank = -20461\n",
            "\n",
            "\n",
            "KOTAKBANK : \n",
            "Quantity = 10.0\n",
            "Price = 1741.15\n",
            "Value = 17411.5\n",
            "Bank = -17814\n",
            "\n",
            "\n",
            "PNB : \n",
            "Quantity = -91080.0\n",
            "Price = 36.8\n",
            "Value = -3351744.0\n",
            "Bank = 3700928\n",
            "\n",
            "\n",
            "ICICIBANK : \n",
            "Quantity = 28.0\n",
            "Price = 712.4\n",
            "Value = 19947.2\n",
            "Bank = -19426\n",
            "\n",
            "\n",
            "BARODA : \n",
            "Quantity = -10490.0\n",
            "Price = 76.75\n",
            "Value = -805107.5\n",
            "Bank = 820135\n",
            "\n",
            "\n",
            "CANARA : \n",
            "Quantity = 0\n",
            "Price = 155.25\n",
            "Value = 0.0\n",
            "Bank = 0\n",
            "\n",
            "\n",
            "INDUSIND : \n",
            "Quantity = 20.0\n",
            "Price = 1009.0\n",
            "Value = 20180.0\n",
            "Bank = -20012\n",
            "\n",
            "\n",
            "BANKINDIA : \n",
            "Quantity = 172.0\n",
            "Price = 68.45\n",
            "Value = 11773.4\n",
            "Bank = -13356\n",
            "\n",
            "\n",
            "UNION : \n",
            "Quantity = -175.0\n",
            "Price = 34.85\n",
            "Value = -6098.75\n",
            "Bank = 6011\n",
            "\n",
            "\n",
            "\n",
            "\n",
            "Total Value (Position) of Portfolio at end: \n",
            "Bank = 4452013\n",
            "Portfolio = -4087727\n",
            "Total = 364287\n"
          ],
          "name": "stdout"
        }
      ]
    },
    {
      "cell_type": "markdown",
      "metadata": {
        "id": "bIWEHE3CSHDa"
      },
      "source": [
        "Similarly, we automate an alternate scenario where the same amount of money is invested in the NIFTY Bank index fund at the same time instead of individual stocks"
      ]
    },
    {
      "cell_type": "code",
      "metadata": {
        "colab": {
          "base_uri": "https://localhost:8080/"
        },
        "id": "Mdcyh-uaDgFd",
        "outputId": "720fa56d-3be3-4d9b-f314-b4de9f0c5a27"
      },
      "source": [
        "bank = 0\n",
        "temp = df.dropna()\n",
        "index_qty = 0\n",
        "\n",
        "for i in range(len(temp['Timestamp'])-1):\n",
        "  if temp['Sentiment'][i] == 'Buy':\n",
        "    buy_qty = temp['Quantity'][i] \n",
        "    cost_buy = buy_qty * temp['Open'][i]\n",
        "    index_price = temp[(temp['Ticker'] == 'NIFTY BANK') & (temp['Timestamp'] == temp['Timestamp'][i])].iloc[-1]['Open']\n",
        "    if cost_buy <= 10000:\n",
        "      index_qty += cost_buy / index_price\n",
        "      bank -= cost_buy\n",
        "  elif temp['Sentiment'][i] == 'Sell':\n",
        "    sell_qty = temp['Quantity'][i]\n",
        "    cost_sell = sell_qty * temp['Open'][i]\n",
        "    index_price = temp[(temp['Ticker'] == 'NIFTY BANK') & (temp['Timestamp'] == temp['Timestamp'][i])].iloc[-1]['Open']\n",
        "    index_qty -= cost_sell / index_price\n",
        "    bank += cost_sell\n",
        "  else:\n",
        "    bank += 0\n",
        "\n",
        "price = temp[temp['Ticker'] == 'NIFTY BANK'].iloc[-1]['Open']\n",
        "index_fund = index_qty * price\n",
        "print('Bank = ' +str(round(bank)) +'\\n')\n",
        "print('Index Quantity = ' +str(index_qty) +' Index Price = ' +str(round(price)) +' Index Fund = ' +str(round(index_fund)) +'\\n')\n",
        "print('Total Value (Position) of NIFTY BANK fund at end = ' +str(round(bank + index_fund)))"
      ],
      "execution_count": 147,
      "outputs": [
        {
          "output_type": "stream",
          "text": [
            "Bank = 1161221\n",
            "\n",
            "Index Quantity = -32.01161117377999 Index Price = 36367 Index Fund = -1164179\n",
            "\n",
            "Total Value (Position) of NIFTY BANK fund at end = -2959\n"
          ],
          "name": "stdout"
        }
      ]
    },
    {
      "cell_type": "markdown",
      "metadata": {
        "id": "w_qXUbtSScVE"
      },
      "source": [
        "It is evident that the results are better when traded using the model"
      ]
    }
  ]
}